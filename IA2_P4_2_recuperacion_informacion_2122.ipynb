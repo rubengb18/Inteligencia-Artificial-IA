{
 "cells": [
  {
   "cell_type": "markdown",
   "metadata": {
    "id": "jpd0gkGnpzXT"
   },
   "source": [
    "# Práctica 2: Procesamiento del Lenguaje Natural\n",
    "\n",
    "__Fecha de entrega: 17 de abril de 2022__\n",
    "\n",
    "El objetivo de esta práctica es aplicar los conceptos teóricos vistos en clase en el módulo de PLN. La práctica consta de 2 notebooks que se entregarán simultáneamente en la tarea de entrega habilitada en el Campus  Virtual.\n",
    "\n",
    "Lo más importante en esta práctica no es el código Python, sino el análisis de los datos y modelos que construyas y las explicaciones razonadas de cada una de las decisiones que tomes. __No se valorarán trozos de código o gráficas sin ningún tipo de contexto o explicación__.\n",
    "\n",
    "Finalmente, recuerda establecer el parámetro `random_state` en todas las funciones que tomen decisiones aleatorias para que los resultados sean reproducibles (los resultados no varíen entre ejecuciones)."
   ]
  },
  {
   "cell_type": "code",
   "execution_count": 1,
   "metadata": {
    "id": "IBx1oG6bpzXY"
   },
   "outputs": [],
   "source": [
    "RANDOM_STATE = 131123"
   ]
  },
  {
   "cell_type": "markdown",
   "metadata": {
    "id": "TkJPtLPRpzXa"
   },
   "source": [
    "# Apartado 2: Recuperación de información"
   ]
  },
  {
   "cell_type": "markdown",
   "metadata": {
    "id": "RWQ9sB-ApzXc"
   },
   "source": [
    "__Número de grupo: 10__\n",
    "\n",
    "__Nombres de los estudiantes: Rubén Gómez, Adrián Pérez y Adrián Sanjuán__"
   ]
  },
  {
   "cell_type": "markdown",
   "metadata": {
    "id": "W1iFIS_EpzXc"
   },
   "source": [
    "## 1) Carga del conjunto de datos\n",
    "\n",
    "El fichero `BBC News.csv` contiene noticias clasificadas en 5 categorías diferentes. \n",
    "\n",
    "Carga los datos en un dataframe teniendo en cuenta que la columna `ArticleId` es un identificador de la noticia y por lo tanto no lo vamos a usar. \n",
    "\n",
    "Estudia el tamaño del conjunto de datos y la proporción de noticias que pertenecen a cada una de las categorías.\n",
    "\n",
    "Crea una partición estratificada de los datos dejando el 80% para entrenamiento y el 20% restante para test usando la función `train_test_split` de sklearn. "
   ]
  },
  {
   "cell_type": "code",
   "execution_count": 2,
   "metadata": {
    "id": "ufbBvGcnpzXe"
   },
   "outputs": [
    {
     "data": {
      "text/html": [
       "<div>\n",
       "<style scoped>\n",
       "    .dataframe tbody tr th:only-of-type {\n",
       "        vertical-align: middle;\n",
       "    }\n",
       "\n",
       "    .dataframe tbody tr th {\n",
       "        vertical-align: top;\n",
       "    }\n",
       "\n",
       "    .dataframe thead th {\n",
       "        text-align: right;\n",
       "    }\n",
       "</style>\n",
       "<table border=\"1\" class=\"dataframe\">\n",
       "  <thead>\n",
       "    <tr style=\"text-align: right;\">\n",
       "      <th></th>\n",
       "      <th>Text</th>\n",
       "      <th>Category</th>\n",
       "    </tr>\n",
       "    <tr>\n",
       "      <th>ArticleId</th>\n",
       "      <th></th>\n",
       "      <th></th>\n",
       "    </tr>\n",
       "  </thead>\n",
       "  <tbody>\n",
       "    <tr>\n",
       "      <th>1833</th>\n",
       "      <td>worldcom ex-boss launches defence lawyers defe...</td>\n",
       "      <td>business</td>\n",
       "    </tr>\n",
       "    <tr>\n",
       "      <th>154</th>\n",
       "      <td>german business confidence slides german busin...</td>\n",
       "      <td>business</td>\n",
       "    </tr>\n",
       "    <tr>\n",
       "      <th>1101</th>\n",
       "      <td>bbc poll indicates economic gloom citizens in ...</td>\n",
       "      <td>business</td>\n",
       "    </tr>\n",
       "    <tr>\n",
       "      <th>1976</th>\n",
       "      <td>lifestyle  governs mobile choice  faster  bett...</td>\n",
       "      <td>tech</td>\n",
       "    </tr>\n",
       "    <tr>\n",
       "      <th>917</th>\n",
       "      <td>enron bosses in $168m payout eighteen former e...</td>\n",
       "      <td>business</td>\n",
       "    </tr>\n",
       "    <tr>\n",
       "      <th>...</th>\n",
       "      <td>...</td>\n",
       "      <td>...</td>\n",
       "    </tr>\n",
       "    <tr>\n",
       "      <th>857</th>\n",
       "      <td>double eviction from big brother model caprice...</td>\n",
       "      <td>entertainment</td>\n",
       "    </tr>\n",
       "    <tr>\n",
       "      <th>325</th>\n",
       "      <td>dj double act revamp chart show dj duo jk and ...</td>\n",
       "      <td>entertainment</td>\n",
       "    </tr>\n",
       "    <tr>\n",
       "      <th>1590</th>\n",
       "      <td>weak dollar hits reuters revenues at media gro...</td>\n",
       "      <td>business</td>\n",
       "    </tr>\n",
       "    <tr>\n",
       "      <th>1587</th>\n",
       "      <td>apple ipod family expands market apple has exp...</td>\n",
       "      <td>tech</td>\n",
       "    </tr>\n",
       "    <tr>\n",
       "      <th>538</th>\n",
       "      <td>santy worm makes unwelcome visit thousands of ...</td>\n",
       "      <td>tech</td>\n",
       "    </tr>\n",
       "  </tbody>\n",
       "</table>\n",
       "<p>1490 rows × 2 columns</p>\n",
       "</div>"
      ],
      "text/plain": [
       "                                                        Text       Category\n",
       "ArticleId                                                                  \n",
       "1833       worldcom ex-boss launches defence lawyers defe...       business\n",
       "154        german business confidence slides german busin...       business\n",
       "1101       bbc poll indicates economic gloom citizens in ...       business\n",
       "1976       lifestyle  governs mobile choice  faster  bett...           tech\n",
       "917        enron bosses in $168m payout eighteen former e...       business\n",
       "...                                                      ...            ...\n",
       "857        double eviction from big brother model caprice...  entertainment\n",
       "325        dj double act revamp chart show dj duo jk and ...  entertainment\n",
       "1590       weak dollar hits reuters revenues at media gro...       business\n",
       "1587       apple ipod family expands market apple has exp...           tech\n",
       "538        santy worm makes unwelcome visit thousands of ...           tech\n",
       "\n",
       "[1490 rows x 2 columns]"
      ]
     },
     "execution_count": 2,
     "metadata": {},
     "output_type": "execute_result"
    }
   ],
   "source": [
    "import numpy as np\n",
    "import pandas as pd\n",
    "df_news = pd.read_csv('BBC News.csv', index_col = 0)\n",
    "df_news"
   ]
  },
  {
   "cell_type": "code",
   "execution_count": 3,
   "metadata": {},
   "outputs": [
    {
     "data": {
      "text/html": [
       "<div>\n",
       "<style scoped>\n",
       "    .dataframe tbody tr th:only-of-type {\n",
       "        vertical-align: middle;\n",
       "    }\n",
       "\n",
       "    .dataframe tbody tr th {\n",
       "        vertical-align: top;\n",
       "    }\n",
       "\n",
       "    .dataframe thead th {\n",
       "        text-align: right;\n",
       "    }\n",
       "</style>\n",
       "<table border=\"1\" class=\"dataframe\">\n",
       "  <thead>\n",
       "    <tr style=\"text-align: right;\">\n",
       "      <th></th>\n",
       "      <th>Text</th>\n",
       "    </tr>\n",
       "    <tr>\n",
       "      <th>Category</th>\n",
       "      <th></th>\n",
       "    </tr>\n",
       "  </thead>\n",
       "  <tbody>\n",
       "    <tr>\n",
       "      <th>business</th>\n",
       "      <td>336</td>\n",
       "    </tr>\n",
       "    <tr>\n",
       "      <th>entertainment</th>\n",
       "      <td>273</td>\n",
       "    </tr>\n",
       "    <tr>\n",
       "      <th>politics</th>\n",
       "      <td>274</td>\n",
       "    </tr>\n",
       "    <tr>\n",
       "      <th>sport</th>\n",
       "      <td>346</td>\n",
       "    </tr>\n",
       "    <tr>\n",
       "      <th>tech</th>\n",
       "      <td>261</td>\n",
       "    </tr>\n",
       "  </tbody>\n",
       "</table>\n",
       "</div>"
      ],
      "text/plain": [
       "               Text\n",
       "Category           \n",
       "business        336\n",
       "entertainment   273\n",
       "politics        274\n",
       "sport           346\n",
       "tech            261"
      ]
     },
     "execution_count": 3,
     "metadata": {},
     "output_type": "execute_result"
    }
   ],
   "source": [
    "by_category = df_news.groupby(\"Category\").count()\n",
    "by_category"
   ]
  },
  {
   "cell_type": "code",
   "execution_count": 4,
   "metadata": {},
   "outputs": [],
   "source": [
    "%matplotlib inline\n",
    "\n",
    "import matplotlib as mpl\n",
    "import matplotlib.pyplot as plt"
   ]
  },
  {
   "cell_type": "code",
   "execution_count": 5,
   "metadata": {},
   "outputs": [
    {
     "name": "stderr",
     "output_type": "stream",
     "text": [
      "No handles with labels found to put in legend.\n"
     ]
    },
    {
     "data": {
      "text/plain": [
       "<matplotlib.legend.Legend at 0x230fe738b50>"
      ]
     },
     "execution_count": 5,
     "metadata": {},
     "output_type": "execute_result"
    },
    {
     "data": {
      "image/png": "[encoded data removed]",
      "text/plain": [
       "<Figure size 1080x432 with 1 Axes>"
      ]
     },
     "metadata": {},
     "output_type": "display_data"
    }
   ],
   "source": [
    "\n",
    "by_category.plot.pie(autopct='%1.1f%%',\n",
    "                 figsize=(15, 6),\n",
    "                 startangle=90,      \n",
    "                 labels=None,         \n",
    "                 pctdistance=1.22,\n",
    "                    subplots = True) \n",
    "plt.title('Category proportion', y=1.12) \n",
    "plt.axis('equal') \n",
    "\n",
    "plt.legend(labels=by_category.index, loc='upper right') "
   ]
  },
  {
   "cell_type": "markdown",
   "metadata": {},
   "source": [
    "*Comentado en la práctica 1*"
   ]
  },
  {
   "cell_type": "code",
   "execution_count": 9,
   "metadata": {},
   "outputs": [
    {
     "data": {
      "text/html": [
       "<div>\n",
       "<style scoped>\n",
       "    .dataframe tbody tr th:only-of-type {\n",
       "        vertical-align: middle;\n",
       "    }\n",
       "\n",
       "    .dataframe tbody tr th {\n",
       "        vertical-align: top;\n",
       "    }\n",
       "\n",
       "    .dataframe thead th {\n",
       "        text-align: right;\n",
       "    }\n",
       "</style>\n",
       "<table border=\"1\" class=\"dataframe\">\n",
       "  <thead>\n",
       "    <tr style=\"text-align: right;\">\n",
       "      <th></th>\n",
       "      <th>Text</th>\n",
       "      <th>Category</th>\n",
       "    </tr>\n",
       "    <tr>\n",
       "      <th>ArticleId</th>\n",
       "      <th></th>\n",
       "      <th></th>\n",
       "    </tr>\n",
       "  </thead>\n",
       "  <tbody>\n",
       "    <tr>\n",
       "      <th>882</th>\n",
       "      <td>uk youth  interested  in politics the majority...</td>\n",
       "      <td>politics</td>\n",
       "    </tr>\n",
       "    <tr>\n",
       "      <th>1664</th>\n",
       "      <td>robben sidelined with broken foot chelsea wing...</td>\n",
       "      <td>sport</td>\n",
       "    </tr>\n",
       "    <tr>\n",
       "      <th>962</th>\n",
       "      <td>stars shine on bafta red carpet hollywood star...</td>\n",
       "      <td>entertainment</td>\n",
       "    </tr>\n",
       "    <tr>\n",
       "      <th>1144</th>\n",
       "      <td>visa row mandarin made sir john the top civil ...</td>\n",
       "      <td>politics</td>\n",
       "    </tr>\n",
       "    <tr>\n",
       "      <th>1268</th>\n",
       "      <td>watchdog probes vivendi bond sale french stock...</td>\n",
       "      <td>business</td>\n",
       "    </tr>\n",
       "    <tr>\n",
       "      <th>...</th>\n",
       "      <td>...</td>\n",
       "      <td>...</td>\n",
       "    </tr>\n",
       "    <tr>\n",
       "      <th>372</th>\n",
       "      <td>us peer-to-peer pirates convicted the first co...</td>\n",
       "      <td>tech</td>\n",
       "    </tr>\n",
       "    <tr>\n",
       "      <th>1234</th>\n",
       "      <td>fear will help france - laporte france coach b...</td>\n",
       "      <td>sport</td>\n",
       "    </tr>\n",
       "    <tr>\n",
       "      <th>934</th>\n",
       "      <td>mutant book wins guardian prize a book about t...</td>\n",
       "      <td>entertainment</td>\n",
       "    </tr>\n",
       "    <tr>\n",
       "      <th>758</th>\n",
       "      <td>qwest may spark mci bidding war us phone compa...</td>\n",
       "      <td>business</td>\n",
       "    </tr>\n",
       "    <tr>\n",
       "      <th>1248</th>\n",
       "      <td>stars pay tribute to actor davis hollywood sta...</td>\n",
       "      <td>entertainment</td>\n",
       "    </tr>\n",
       "  </tbody>\n",
       "</table>\n",
       "<p>1192 rows × 2 columns</p>\n",
       "</div>"
      ],
      "text/plain": [
       "                                                        Text       Category\n",
       "ArticleId                                                                  \n",
       "882        uk youth  interested  in politics the majority...       politics\n",
       "1664       robben sidelined with broken foot chelsea wing...          sport\n",
       "962        stars shine on bafta red carpet hollywood star...  entertainment\n",
       "1144       visa row mandarin made sir john the top civil ...       politics\n",
       "1268       watchdog probes vivendi bond sale french stock...       business\n",
       "...                                                      ...            ...\n",
       "372        us peer-to-peer pirates convicted the first co...           tech\n",
       "1234       fear will help france - laporte france coach b...          sport\n",
       "934        mutant book wins guardian prize a book about t...  entertainment\n",
       "758        qwest may spark mci bidding war us phone compa...       business\n",
       "1248       stars pay tribute to actor davis hollywood sta...  entertainment\n",
       "\n",
       "[1192 rows x 2 columns]"
      ]
     },
     "execution_count": 9,
     "metadata": {},
     "output_type": "execute_result"
    }
   ],
   "source": [
    "from sklearn.model_selection import train_test_split\n",
    "train, test = train_test_split(df_news, test_size = 0.2, random_state = RANDOM_STATE)\n",
    "train"
   ]
  },
  {
   "cell_type": "code",
   "execution_count": 10,
   "metadata": {},
   "outputs": [
    {
     "name": "stderr",
     "output_type": "stream",
     "text": [
      "No handles with labels found to put in legend.\n"
     ]
    },
    {
     "data": {
      "text/plain": [
       "<matplotlib.legend.Legend at 0x23081546c10>"
      ]
     },
     "execution_count": 10,
     "metadata": {},
     "output_type": "execute_result"
    },
    {
     "data": {
      "image/png": "[encoded data removed]",
      "text/plain": [
       "<Figure size 1080x432 with 1 Axes>"
      ]
     },
     "metadata": {},
     "output_type": "display_data"
    }
   ],
   "source": [
    "train.groupby(\"Category\").count().plot.pie(autopct='%1.1f%%',\n",
    "                 figsize=(15, 6),\n",
    "                 startangle=90,      \n",
    "                 labels=None,         \n",
    "                 pctdistance=1.22,\n",
    "                    subplots = True) \n",
    "plt.title('Category proportion in train dataset', y=1.12) \n",
    "plt.axis('equal') \n",
    "\n",
    "plt.legend(labels=train.groupby(\"Category\").count().index, loc='upper right') "
   ]
  },
  {
   "cell_type": "markdown",
   "metadata": {},
   "source": [
    "Utilizamos la gráfica anterior para comprobar que el conjunto de entrenamiento está equilibrado en cuanto a número de instancias por categoría. A pesar de una ligera diferencia obtenemos una distribución prácticamente igual a la original, la cual consideramos que esta bien distribuida. Asimismo consideramos que el número de textos del que disponemos (1192 en test y 1490 en total) es suficientemente grande."
   ]
  },
  {
   "cell_type": "markdown",
   "metadata": {
    "id": "3Fx5hJC7pzXf"
   },
   "source": [
    "## 2) Representación basada en bolsa de palabras y tf-idf\n",
    "\n",
    "La primera vectorización que vamos a usar representará los mensajes usando el modelo de bolsa de palabras, monogramas y el valor tf-idf de cada palabra. Usa como _stop words_ las que vienen configuradas por defecto para el inglés.\n",
    "\n",
    "Aplica la vectorización a los conjuntos de mensajes de entrenamiento y test. Muestra algún mensaje tanto en su formato de texto original como en la versión vectorizada. ¿Qué palabras se han eliminado y por qué?\n",
    "\n",
    "Calcula la precisión@5 de cada una de las clases usando como consultas los documentos de la partición de test y la similitud del coseno. Vamos a considerar que un documento recuperado es relevante cuando pertenezca a la misma clase que la consulta.\n",
    "\n",
    "Dibuja los resultados en un diagrama de barras y comenta las clases en las que se comporta mejor y peor. ¿Crees que los resultados son buenos?"
   ]
  },
  {
   "cell_type": "code",
   "execution_count": 11,
   "metadata": {
    "id": "wKdL2-VSpzXg"
   },
   "outputs": [],
   "source": [
    "from sklearn.feature_extraction.text import CountVectorizer\n",
    "from sklearn.feature_extraction.text import TfidfTransformer"
   ]
  },
  {
   "cell_type": "code",
   "execution_count": 12,
   "metadata": {},
   "outputs": [],
   "source": [
    "vectorizer = CountVectorizer(stop_words='english', binary=False, ngram_range=(1,1), token_pattern=r'(?u)\\b[A-Za-z]+\\b')\n",
    "# Tomamos los textos del conjunto de entrenamiento y los transformamos en \n",
    "# una matriz de datos (palabras) según el diccionario estándar\n",
    "train_vector_data = vectorizer.fit_transform(train.Text)\n",
    "test_vector_data = vectorizer.transform(test.Text)\n",
    "#print(test_vector_data[5])"
   ]
  },
  {
   "cell_type": "code",
   "execution_count": 13,
   "metadata": {},
   "outputs": [
    {
     "name": "stdout",
     "output_type": "stream",
     "text": [
      "21272\n"
     ]
    }
   ],
   "source": [
    "feature_names=vectorizer.get_feature_names()\n",
    "print(len(feature_names))"
   ]
  },
  {
   "cell_type": "code",
   "execution_count": 14,
   "metadata": {},
   "outputs": [
    {
     "name": "stdout",
     "output_type": "stream",
     "text": [
      "['aa', 'aaa', 'aaas', 'aac', 'aadc', 'aaltra', 'aamir', 'aaron', 'abacus', 'abandon', 'abandoned', 'abandoning', 'abandonment', 'abating', 'abba', 'abbas', 'abbasi', 'abbott', 'abbreviated', 'abc', 'abdellatif', 'abdication', 'abdomen', 'abdominal', 'abducted', 'abduction', 'abdullah', 'abdullatif', 'abebe', 'aberdeen', 'aberration', 'aberystwyth', 'abeyance', 'abeyie', 'abhorrent', 'abi', 'abide', 'abided', 'abiding', 'abigail', 'abilities', 'ability', 'abish', 'able', 'abn', 'abnormality', 'abolish', 'abolishing', 'abolition', 'aborted', 'abortion', 'abortionist', 'abortive', 'abramovich', 'abroad', 'absa', 'absence', 'absent', 'absentee', 'absolute', 'absolutely', 'absolution', 'absorb', 'absorbed', 'absorbing', 'absorbs', 'abstain', 'abstentions', 'absurd', 'abtahi', 'abu', 'abundance', 'abundantly', 'aburizal', 'abuse', 'abused', 'abuses', 'abusing', 'abusive', 'abut', 'abuzz', 'abysmal', 'ac', 'academic', 'academie', 'academies', 'academy', 'acc', 'accelerate', 'accelerated', 'accelerating', 'acceleration', 'accelerator', 'accent', 'accept', 'acceptable', 'acceptance', 'acceptances', 'accepted', 'accepting']\n"
     ]
    }
   ],
   "source": [
    "print(feature_names[:100])"
   ]
  },
  {
   "cell_type": "code",
   "execution_count": 18,
   "metadata": {},
   "outputs": [],
   "source": [
    "tfidftrans = TfidfTransformer()\n",
    "train_preprocessed = tfidftrans.fit_transform(train_vector_data)\n",
    "test_preprocessed = tfidftrans.transform(test_vector_data)"
   ]
  },
  {
   "cell_type": "code",
   "execution_count": 19,
   "metadata": {},
   "outputs": [],
   "source": [
    "import numpy as np\n",
    "import numpy.ma as ma\n",
    "\n",
    "def write_terms (feature_names, data, vector_data, index):\n",
    "    '''\n",
    "    Escribe los términos presentes en un mensaje representado como bolsa de palabras.\n",
    "    \n",
    "    - feature_names: terminos usados para vectorizar\n",
    "    - data: lista de mensajes original (si data==None no se muestra el mensaje original)\n",
    "    - vector_data: matriz (dispersa) de mensaje vectorizados\n",
    "    - index: posición del mensaje a mostrar\n",
    "    '''\n",
    "    # máscara para seleccionar sólo el mensaje en posición index\n",
    "    mask=vector_data[index,:]>0\n",
    "    \n",
    "    # términos que aparecen en ese mensaje vectorizado\n",
    "    terminos = ma.array(feature_names, mask = ~(mask[0].toarray()))\n",
    "    \n",
    "    # mostrar mensaje original\n",
    "    if data is not None:\n",
    "        print('Mensaje', index, ':', data.iloc[index],'\\n')\n",
    "    \n",
    "    # mostrar términos que aparecen en el mensaje vectorizado\n",
    "    print('Mensaje', index, 'vectorizado:', terminos.compressed(),'\\n')"
   ]
  },
  {
   "cell_type": "code",
   "execution_count": 20,
   "metadata": {},
   "outputs": [
    {
     "name": "stdout",
     "output_type": "stream",
     "text": [
      "Mensaje 598 : blair labour s longest-serving pm tony blair has become the labour party s longest-serving prime minister.  the 51-year-old premier has marked his 2 838th day in the post  overtaking the combined length of harold wilson s two terms during the 1960s and 1970s. if mr blair wins the next election and fulfils his promise to serve a full third term  he will surpass margaret thatcher s 11 years by the end of 2008. in 1997  mr blair became the youngest premier of the 20th century  when he came to power at the age of 43. the last prime minister to be installed at a younger age was lord liverpool  who was a year his junior in 1812.  mr blair s other political firsts include becoming the first labour leader to win two successive full terms in power after the 2001 labour landslide. and the birth of the blairs  fourth child  leo  on 20 may  2000  was the first child born to a serving prime minister in more than 150 years. the last  downing street dad  was lord john russell in 1848. labour won a huge majority of 167 over the conservatives in 2001  but mr blair has since been criticised by many in his own party. the war in iraq and reforms of the health service and education system have provoked dissent from backbenchers.  gordon brown  chancellor of the exchequer under mr blair  became britain s longest-serving chancellor of modern times in 2004. former labour leader lord kinnock said the chancellor would be best placed to take over from mr blair. when asked about the future leadership of the party  he told itv wales  waterfront programme:  that contest is a long way away and it will occur only when the prime minister  tony blair  decides he s subscribed all he can and then wants to go.  i think that the main contender will be gordon brown  who is a man of virtually unmatched capability and now great experience.  both mr brown and mr blair rose to prominence when lord kinnock led labour between 1983 and 1992. \n",
      "\n",
      "Mensaje 598 vectorizado: ['age' 'asked' 'away' 'backbenchers' 'best' 'birth' 'blair' 'blairs'\n",
      " 'born' 'britain' 'brown' 'came' 'capability' 'century' 'chancellor'\n",
      " 'child' 'combined' 'conservatives' 'contender' 'contest' 'criticised'\n",
      " 'dad' 'day' 'decides' 'dissent' 'downing' 'education' 'election' 'end'\n",
      " 'exchequer' 'experience' 'firsts' 'fourth' 'fulfils' 'future' 'gordon'\n",
      " 'great' 'harold' 'health' 'huge' 'include' 'installed' 'iraq' 'itv'\n",
      " 'john' 'junior' 'kinnock' 'labour' 'landslide' 'leader' 'leadership'\n",
      " 'led' 'length' 'leo' 'liverpool' 'long' 'longest' 'lord' 'main'\n",
      " 'majority' 'man' 'margaret' 'marked' 'minister' 'modern' 'mr' 'occur'\n",
      " 'old' 'overtaking' 'party' 'placed' 'pm' 'political' 'post' 'power'\n",
      " 'premier' 'prime' 'programme' 'prominence' 'promise' 'provoked' 'reforms'\n",
      " 'rose' 'russell' 's' 'said' 'serve' 'service' 'serving' 'street'\n",
      " 'subscribed' 'successive' 'surpass' 'term' 'terms' 'thatcher' 'think'\n",
      " 'times' 'told' 'tony' 'unmatched' 'virtually' 'wales' 'wants' 'war'\n",
      " 'waterfront' 'way' 'wilson' 'win' 'wins' 'won' 'year' 'years' 'younger'\n",
      " 'youngest'] \n",
      "\n"
     ]
    }
   ],
   "source": [
    "write_terms(feature_names, train.Text, train_preprocessed,598)"
   ]
  },
  {
   "cell_type": "markdown",
   "metadata": {},
   "source": [
    "En el mensaje original existen muchos términos numéricos o alfanuméricos que aportarían mucho ruido a la vecotrización del propio texto, razón por la que se han eliminado. También se han eliminado las _stop_words_ del inglés como 'to' o 'the' por el mismo motivo."
   ]
  },
  {
   "cell_type": "code",
   "execution_count": 21,
   "metadata": {},
   "outputs": [],
   "source": [
    "from sklearn.metrics.pairwise import cosine_similarity\n",
    "\n",
    "def knn(query, X_train, k):\n",
    "    '''Devuelve los índices de los k documentos de entrenamiento más similares a la consulta usando \n",
    "    la similitud del coseno.\n",
    "    \n",
    "    Parámetros:\n",
    "    - query: documento consulta vectorizado\n",
    "    - X_train: documentos de entrenamiento vectorizados\n",
    "    - k: número de documentos a recuperar\n",
    "    \n",
    "    Devuelve:\n",
    "    - índices de los k documentos más similares a la consulta.\n",
    "    '''\n",
    "    \n",
    "    # Necesitamos un vector de dimensión (1, X). Si se pasa un vector de dimensión X, transformarlo\n",
    "    if len(query.shape) == 1:\n",
    "        query = query.reshape(1, -1)\n",
    "\n",
    "    simil = cosine_similarity(query, X_train)\n",
    "    simil_idx = np.argsort(simil.flatten())\n",
    "    simil_idx = simil_idx[::-1]\n",
    "    return simil_idx[:k]"
   ]
  },
  {
   "cell_type": "code",
   "execution_count": 22,
   "metadata": {},
   "outputs": [],
   "source": [
    "def precision_at_k(y_selected, y_real, k):\n",
    "    '''Devuelve la precisión @k de los documentos seleccionados.\n",
    "    \n",
    "    Parametros:\n",
    "    - y_selected: etiquetas de los documentos seleccionados (se usan los k primeros)\n",
    "    - y_real: etiqueta de la categoría correcta\n",
    "    - k: número de documentos que se tienen en cuenta\n",
    "    \n",
    "    Devuelve:\n",
    "    - Precisión@k\n",
    "    '''\n",
    "    \n",
    "    return np.sum(y_selected[:k] == y_real) / k * 100"
   ]
  },
  {
   "cell_type": "code",
   "execution_count": 23,
   "metadata": {},
   "outputs": [],
   "source": [
    "def mean_precisions_per_class(X_train, y_train, X_test, y_test, k):\n",
    "    '''Devuelve las precision@k media para cada una de las classes.\n",
    "    \n",
    "    Parámetros:\n",
    "    - X_train: documentos de entrenamiento vectorizados.\n",
    "    - y_train: etiquetas de los documentos de entrenamiento.\n",
    "    - X_test: documentos vectorizados que se usan como consultas\n",
    "    - y_test: etiquetas de los documentos que se usan como consultas\n",
    "    - k: número de documentos considerados a recuperar por la consulta\n",
    "    \n",
    "    Devuelve:\n",
    "    - Diccionario clase -> precisión en tanto por ciento.\n",
    "    '''\n",
    "    \n",
    "    # diccionario categoría -> lista de precisiones\n",
    "    y_precisions = {y: [] for y in np.unique(y_test)}\n",
    "    \n",
    "    # Calcular precision@k para cada consulta\n",
    "    for x_query, y_query in zip(X_test, y_test):\n",
    "        idx = knn(x_query, X_train, k)\n",
    "        y_selected = np.take(y_train, idx)\n",
    "        precision = precision_at_k(y_selected, y_query, k)\n",
    "        y_precisions[y_query].append(precision)\n",
    "        \n",
    "    # Calcular medias\n",
    "    for y in y_precisions:\n",
    "        y_precisions[y] = np.mean(y_precisions[y])\n",
    "    \n",
    "    return y_precisions"
   ]
  },
  {
   "cell_type": "code",
   "execution_count": 26,
   "metadata": {},
   "outputs": [
    {
     "data": {
      "text/plain": [
       "{'business': 80.28169014084507,\n",
       " 'entertainment': 76.98113207547169,\n",
       " 'politics': 91.27272727272727,\n",
       " 'sport': 98.61111111111111,\n",
       " 'tech': 88.51063829787235}"
      ]
     },
     "execution_count": 26,
     "metadata": {},
     "output_type": "execute_result"
    }
   ],
   "source": [
    "p5 = mean_precisions_per_class(train_preprocessed,train.Category, test_preprocessed, test.Category, 5)\n",
    "p5"
   ]
  },
  {
   "cell_type": "code",
   "execution_count": 27,
   "metadata": {},
   "outputs": [
    {
     "data": {
      "text/plain": [
       "<AxesSubplot:xlabel='Category'>"
      ]
     },
     "execution_count": 27,
     "metadata": {},
     "output_type": "execute_result"
    },
    {
     "data": {
      "image/png": "[encoded data removed]",
      "text/plain": [
       "<Figure size 432x288 with 1 Axes>"
      ]
     },
     "metadata": {
      "needs_background": "light"
     },
     "output_type": "display_data"
    }
   ],
   "source": [
    "import pandas as pd\n",
    "\n",
    "test_category_names=['business', 'entertainment', 'politics', 'sport', 'tech']\n",
    "\n",
    "df_p5 = pd.DataFrame.from_dict(p5, orient='index', columns=['precision@5'])\n",
    "\n",
    "df_p5[\"Category\"] =  test_category_names\n",
    "\n",
    "d = df_p5.set_index(\"Category\")\n",
    "\n",
    "d.plot.bar()"
   ]
  },
  {
   "cell_type": "markdown",
   "metadata": {},
   "source": [
    "Se puede apreciar en la tabla que la precisión a la hora de recuperar textos de la misma categoría es más alta para el caso de 'sport' para la cual es del 97.26%. La precisión para las categorías 'politics' y 'tech' ronda el 90%, mientras que para 'business' está en un 80.28%. Los textos que el modelo recupera con peor precisión son los de 'entertainment' con una precisión por debajo del 77%.\n",
    "\n",
    "Los resultados cuadran bastante con lo observado en la primera práctica. 'Sports' es la categoría que se diferencia más de las demás en cuanto a vocabulario utilizado, por lo que el modelo es más preciso a la hora de recuperar textos similares de esta categoría. Por otro lado, el resto de categorías las confunde entre sí con más frecuencia, especialmente en el caso de 'entertainment', que es una categoría que puede intersecar con varios temas más frecuentemente.\n",
    "\n",
    "El modelo ofrece una aproximación relativamente buena del problema que queremos resolver ya que casi todas las categorías se recuperan con un porcentaje en torno al 80% o supertior en algunos casos. Sin embargo, opinamos que para que el modelo sea realmente útil en un caso real, la precisión para todas las categorías debería ser mucho más alta estando en torno a un un 95% mínimo."
   ]
  },
  {
   "cell_type": "markdown",
   "metadata": {
    "id": "lH7sldldpzXi"
   },
   "source": [
    "## 3) Representación basada en word-embeddings y tf-idf\n",
    "\n",
    "La segunda vectorización que vamos a usar representará los mensajes usando word-embeddings usando como pesos la frecuencia de aparición de cada palabra. Al igual que en el apartado anterior, usaremos monogramas y las _stop words_ que vienen configuradas por defecto para el inglés. Recuerda usar como vocabulario para vectorizar el vocabulario del fichero con las word-embeddings.\n",
    "\n",
    "Aplica la vectorización a los conjuntos de mensajes de entrenamiento y test.\n",
    "\n",
    "Calcula la precisión@5 de cada una de las clases usando como consultas los documentos de la partición de test y la similitud del coseno. Vamos a considerar que un documento recuperado es relevante cuando pertenezca a la misma clase que la consulta.\n",
    "\n",
    "Dibuja los resultados en un diagrama de barras y compara los resultados con los del apartado anterior."
   ]
  },
  {
   "cell_type": "code",
   "execution_count": 29,
   "metadata": {},
   "outputs": [],
   "source": [
    "import gensim\n",
    "from gensim.scripts.glove2word2vec import glove2word2vec\n",
    "from gensim.models import KeyedVectors\n",
    "\n",
    "globe_file='glove.6B.50d.txt'\n",
    "model = KeyedVectors.load_word2vec_format(globe_file, binary=False, no_header=True)"
   ]
  },
  {
   "cell_type": "code",
   "execution_count": 30,
   "metadata": {},
   "outputs": [],
   "source": [
    "we_vocabulary = list(model.key_to_index.keys())\n",
    "vectorizer_2 = CountVectorizer(vocabulary = we_vocabulary, ngram_range=(1,1), stop_words='english', binary = False)"
   ]
  },
  {
   "cell_type": "code",
   "execution_count": 31,
   "metadata": {},
   "outputs": [],
   "source": [
    "train_vector_data_2=vectorizer_2.fit_transform(train.Text) \n",
    "test_vector_data_2=vectorizer_2.transform(test.Text)"
   ]
  },
  {
   "cell_type": "code",
   "execution_count": 32,
   "metadata": {},
   "outputs": [],
   "source": [
    "tfidftrans = TfidfTransformer()\n",
    "train_preprocessed_2 = tfidftrans.fit_transform(train_vector_data_2)\n",
    "test_preprocessed_2 = tfidftrans.transform(test_vector_data_2)"
   ]
  },
  {
   "cell_type": "code",
   "execution_count": 33,
   "metadata": {},
   "outputs": [
    {
     "name": "stdout",
     "output_type": "stream",
     "text": [
      "21272\n"
     ]
    }
   ],
   "source": [
    "feature_names_2=vectorizer_2.get_feature_names()\n",
    "print(len(feature_names))"
   ]
  },
  {
   "cell_type": "code",
   "execution_count": 34,
   "metadata": {},
   "outputs": [],
   "source": [
    "from scipy.sparse import find\n",
    "\n",
    "\n",
    "def create_doc_embedding (doc_matrix_word_freq, keyedvectors):\n",
    "    \"\"\"\n",
    "    create_doc_embedding creates a doc-embedding matrix where rows are the \n",
    "    documents and columns are the dimensions of the word-embedding. Each row r\n",
    "    summarizes the vectors of the word-embeddings present in document r\n",
    "\n",
    "    :param doc_matrix_word_freq: frequency matrix of the terms in each document\n",
    "            It admits binary values, frequencies or weights.\n",
    "            It admits the output of vectorizer.fit_transform\n",
    "    :param keyedvectors: keyedvectors object from Gensim which has the \n",
    "            word-embedding information\n",
    "    :return: returns the doc-embedding matrix that summarizes the \n",
    "             vector-embeddings of the words present in each document\n",
    "    \"\"\" \n",
    "\n",
    "    \n",
    "    num_docs, num_words= doc_matrix_word_freq.get_shape()\n",
    "\n",
    "    # Creamos la matriz de documentos con tantas columnas como dimensiones tiene el we \n",
    "    doc_embed_matrix = np.zeros([num_docs,keyedvectors.vector_size])\n",
    "\n",
    "\n",
    "    # Obtenemos los documentos\n",
    "    docs, col, val = find(doc_matrix_word_freq)\n",
    "    docs = np.unique(docs)\n",
    "\n",
    "    # Para cada documento (esto se podrá hacer de forma más pythonica)\n",
    "    for doc in docs:\n",
    "      # Obtenemos las palabras presentes en el documento y su frecuencia\n",
    "      row, words, frecs = find(doc_matrix_word_freq[doc,:])\n",
    "\n",
    "      # Calculamos el vector medio para el documento\n",
    "      # Para ello recuperamos los vectores del we presentes en el documento y \n",
    "      # los promediamos teniendo en cuenta su frecuencia\n",
    "      count = 0\n",
    "      for w,f in zip(words,frecs):\n",
    "        doc_embed_matrix[doc,:] = doc_embed_matrix[doc,:] + (keyedvectors[w] * f)\n",
    "        count = count +1\n",
    "      doc_embed_matrix[doc,:] = doc_embed_matrix[doc,:]/count\n",
    "    \n",
    "      \n",
    "    return doc_embed_matrix"
   ]
  },
  {
   "cell_type": "code",
   "execution_count": 35,
   "metadata": {},
   "outputs": [],
   "source": [
    "doc_embed_matrix_train = create_doc_embedding(train_preprocessed_2,model)\n",
    "doc_embed_matrix_test = create_doc_embedding(test_preprocessed_2,model)"
   ]
  },
  {
   "cell_type": "code",
   "execution_count": 36,
   "metadata": {},
   "outputs": [
    {
     "data": {
      "text/plain": [
       "{'business': 85.91549295774648,\n",
       " 'entertainment': 90.94339622641509,\n",
       " 'politics': 92.0,\n",
       " 'sport': 99.44444444444444,\n",
       " 'tech': 90.2127659574468}"
      ]
     },
     "execution_count": 36,
     "metadata": {},
     "output_type": "execute_result"
    }
   ],
   "source": [
    "p5_2 = mean_precisions_per_class(doc_embed_matrix_train,train.Category, doc_embed_matrix_test, test.Category, 5)\n",
    "p5_2"
   ]
  },
  {
   "cell_type": "code",
   "execution_count": 37,
   "metadata": {},
   "outputs": [
    {
     "data": {
      "text/plain": [
       "<AxesSubplot:xlabel='Category'>"
      ]
     },
     "execution_count": 37,
     "metadata": {},
     "output_type": "execute_result"
    },
    {
     "data": {
      "image/png": "[encoded data removed]",
      "text/plain": [
       "<Figure size 432x288 with 1 Axes>"
      ]
     },
     "metadata": {
      "needs_background": "light"
     },
     "output_type": "display_data"
    }
   ],
   "source": [
    "df_p5 = pd.DataFrame.from_dict(p5_2,orient='index', columns=['precision@5'])\n",
    "\n",
    "df_p5[\"Category\"] =  test_category_names\n",
    "\n",
    "d_2 = df_p5.set_index(\"Category\")\n",
    "\n",
    "d_2.plot.bar()"
   ]
  },
  {
   "cell_type": "code",
   "execution_count": 38,
   "metadata": {},
   "outputs": [
    {
     "data": {
      "text/html": [
       "<div>\n",
       "<style scoped>\n",
       "    .dataframe tbody tr th:only-of-type {\n",
       "        vertical-align: middle;\n",
       "    }\n",
       "\n",
       "    .dataframe tbody tr th {\n",
       "        vertical-align: top;\n",
       "    }\n",
       "\n",
       "    .dataframe thead th {\n",
       "        text-align: right;\n",
       "    }\n",
       "</style>\n",
       "<table border=\"1\" class=\"dataframe\">\n",
       "  <thead>\n",
       "    <tr style=\"text-align: right;\">\n",
       "      <th></th>\n",
       "      <th>precision@5</th>\n",
       "    </tr>\n",
       "  </thead>\n",
       "  <tbody>\n",
       "    <tr>\n",
       "      <th>business</th>\n",
       "      <td>5.633803</td>\n",
       "    </tr>\n",
       "    <tr>\n",
       "      <th>entertainment</th>\n",
       "      <td>13.962264</td>\n",
       "    </tr>\n",
       "    <tr>\n",
       "      <th>politics</th>\n",
       "      <td>0.727273</td>\n",
       "    </tr>\n",
       "    <tr>\n",
       "      <th>sport</th>\n",
       "      <td>0.833333</td>\n",
       "    </tr>\n",
       "    <tr>\n",
       "      <th>tech</th>\n",
       "      <td>1.702128</td>\n",
       "    </tr>\n",
       "  </tbody>\n",
       "</table>\n",
       "</div>"
      ],
      "text/plain": [
       "               precision@5\n",
       "business          5.633803\n",
       "entertainment    13.962264\n",
       "politics          0.727273\n",
       "sport             0.833333\n",
       "tech              1.702128"
      ]
     },
     "execution_count": 38,
     "metadata": {},
     "output_type": "execute_result"
    }
   ],
   "source": [
    "mejora = []\n",
    "for i in range(len(np.array(d))):\n",
    "    mejora.append(d_2.iloc[i]-d.iloc[i])\n",
    "mejora_df = pd.DataFrame(mejora,columns=['precision@5'])\n",
    "mejora_df"
   ]
  },
  {
   "cell_type": "code",
   "execution_count": 39,
   "metadata": {},
   "outputs": [
    {
     "data": {
      "text/plain": [
       "Text(0.5, 1.0, 'Mejora')"
      ]
     },
     "execution_count": 39,
     "metadata": {},
     "output_type": "execute_result"
    },
    {
     "data": {
      "image/png": "[encoded data removed]",
      "text/plain": [
       "<Figure size 432x288 with 1 Axes>"
      ]
     },
     "metadata": {
      "needs_background": "light"
     },
     "output_type": "display_data"
    }
   ],
   "source": [
    "mejora_df.plot.bar()\n",
    "                   \n",
    "plt.title('Mejora') "
   ]
  },
  {
   "cell_type": "markdown",
   "metadata": {},
   "source": [
    "Como se puede apreciar en la gráfica anterior, la precisión mejora con respecto al modelo anterior (la mejora tiene un valor positivo) a la hora de recuperar textos de cualquier categoría. \n",
    "\n",
    "Las categorías que menos mejoran son aquellas que ya tenían una precisión relativamente alta (>88%) siendo estas 'politics', 'sport' y 'tech'. Todas ellas mejoran en menos de un 2%, a pesar de ello, 'sport' sigue siendo la categoría que el modelo mejor recupera con un 99.44% de efectividad.\n",
    "\n",
    "Por otro lado las categoría que más mejoran con word-embeddings con respecto a la anterior vectorización es la de 'entertainment' con un 13.96% de incremento y 'business' con un incremento del 5.63% colocando a ambas por encima del 85% de precisión.\n",
    "\n",
    "Se observa un aumento sustancial de la precisión del modelo sobre todo en aquellas categorías que el modelo con la anterior vectorización recuperaba peor. Esta mejora implica que ninguna categoría se recupere con una efectividad menor al 85% con word-embeddings mientras que en el caso anterior teníamos dos categorías con una precisión bastante baja lo que hace de este modelo más útil. Aún así pensamos que tendría que mejorar un poco más para llegar a ser realmente utilizable en un caso real.\n",
    "\n",
    "A pesar de las diferencias con la anterior vectorización, podemos sacar conclusiones similares a las sacadas con el anterior modelo (y en la práctica 1) ya que 'sport' sigue siendo con diferencia la categoría que mejor recupera el modelo, aunque ahora encontramos a la cola la categoría 'business'."
   ]
  },
  {
   "cell_type": "markdown",
   "metadata": {
    "id": "d-J6GYut4DGu"
   },
   "source": [
    "## 4) Análisis de errores\n",
    "\n",
    "Vamos a investigar los resultados para entender mejor dónde están fallando los procesos de recuperación. Sigue los siguientes pasos.\n",
    "\n",
    "\n",
    "1. Identifica la categoría de noticias donde la precisión media haya mejorado más al incorporar word-embeddings\n",
    "2. Para dicha categoría, identifica la consulta donde la precisión haya mejorado más al usar word-embeddings\n",
    "3. Muestra el texto original de la consulta y los términos que aparecen en las dos vectorizaciones tf-idf que usamos (recuerda que usamos diccionarios distintos para las vectorizaciones bolsa de palabras y word-embeddings).\n",
    "4. Identifica las noticias recuperadas para dicha consulta para las dos aproximaciones y sus categorías (TF-IDF puro y con word-embeddings)\n",
    "5. Muestra la intersección de términos entre la consulta y la primera noticia mal recuperada usando TF-IDF puro.\n",
    "6. Muestra la intersección de términos entre la consulta y la última noticia bien recuperada usando word-embeddings.\n",
    "7. A la luz de todo lo anterior, razona sobre por qué crees que el TF-IDF no fue capaz de clasificar bien la noticia y el word-embedding sí.\n",
    "\n",
    "\n",
    "Puedes usar el código que calcula la intersección de términos que ponemos a continuación"
   ]
  },
  {
   "cell_type": "markdown",
   "metadata": {},
   "source": [
    "---------\n",
    "Como indicamos en el apartado anterior la categoría 'entertainment' es la que más mejora con word-embeddings por lo que vamos a intentar analizar porque sucede esto para algún ejeplo en concreto."
   ]
  },
  {
   "cell_type": "code",
   "execution_count": 41,
   "metadata": {
    "id": "RUat8DCRLYs1"
   },
   "outputs": [],
   "source": [
    "def terms_in_message(feature_names,vector_data,index):\n",
    "    '''\n",
    "    Devuelve un conjunto los términos presentes en un mensaje representado como bolsa de palabras.\n",
    "    \n",
    "    - feature_names: terminos usados para vectorizar\n",
    "    - vector_data: matriz (dispersa) de mensaje vectorizados\n",
    "    - index: posición del mensaje a mostrar\n",
    "    '''\n",
    "    mensaje=vector_data[index,:]>0\n",
    "    terminos_presentes = ma.array(feature_names, mask = ~(mensaje[0].toarray()))\n",
    "\n",
    "    return set(terminos_presentes.compressed())"
   ]
  },
  {
   "cell_type": "code",
   "execution_count": 43,
   "metadata": {},
   "outputs": [],
   "source": [
    "def precisions(X_train, y_train, X_test, y_test, k):\n",
    "    '''Devuelve una lista con la precision de cada consulta.\n",
    "    \n",
    "    Parámetros:\n",
    "    - X_train: documentos de entrenamiento vectorizados.\n",
    "    - y_train: etiquetas de los documentos de entrenamiento.\n",
    "    - X_test: documentos vectorizados que se usan como consultas\n",
    "    - y_test: etiquetas de los documentos que se usan como consultas\n",
    "    - k: número de documentos considerados a recuperar por la consulta\n",
    "    \n",
    "    '''\n",
    "    precisions = []\n",
    "    \n",
    "    # Calcular precision@k para cada consulta\n",
    "    for x_query, y_query in zip(X_test, y_test):\n",
    "        idx = knn(x_query, X_train, k)\n",
    "        y_selected = np.take(y_train, idx)\n",
    "        precision = precision_at_k(y_selected, y_query, k)\n",
    "        precisions.append((y_query,precision))\n",
    "    \n",
    "    return precisions"
   ]
  },
  {
   "cell_type": "code",
   "execution_count": 45,
   "metadata": {},
   "outputs": [],
   "source": [
    "precisions_1 = precisions(train_preprocessed,train.Category, test_preprocessed, test.Category, 5)\n",
    "precisions_2 = precisions(doc_embed_matrix_train,train.Category, doc_embed_matrix_test, test.Category, 5)"
   ]
  },
  {
   "cell_type": "code",
   "execution_count": 51,
   "metadata": {},
   "outputs": [
    {
     "data": {
      "text/plain": [
       "205"
      ]
     },
     "execution_count": 51,
     "metadata": {},
     "output_type": "execute_result"
    }
   ],
   "source": [
    "#Calculamos la posición de la consulta etiquetada como 'entertainment' cuya precisión \n",
    "#ha mejorado más con word-embeddings\n",
    "maximo = 0\n",
    "pos = 0\n",
    "for i in range(len(precisions_1)):\n",
    "    new = precisions_2[i][1]-precisions_1[i][1]\n",
    "    if precisions_1[i][0] == 'entertainment' and new > maximo:\n",
    "        maximo = new\n",
    "        pos = i\n",
    "pos"
   ]
  },
  {
   "cell_type": "code",
   "execution_count": 52,
   "metadata": {},
   "outputs": [
    {
     "name": "stdout",
     "output_type": "stream",
     "text": [
      "('entertainment', 0.0)\n",
      "('entertainment', 100.0)\n"
     ]
    }
   ],
   "source": [
    "print(precisions_1[pos])\n",
    "print(precisions_2[pos])"
   ]
  },
  {
   "cell_type": "markdown",
   "metadata": {},
   "source": [
    "Observamos que existe una consulta donde el primer modelo (tf-idf puro) no ha recuperado ningún texto de la misma categoría que el consultado ('entertainment') mientras que con word-embeddings ha recuperado 5/5 de la misma categoría. A continuación mostramos el texto original de esta consulta y sus vectorizaciones."
   ]
  },
  {
   "cell_type": "code",
   "execution_count": 55,
   "metadata": {},
   "outputs": [
    {
     "data": {
      "text/plain": [
       "'singer ian brown  in gig arrest  former stone roses singer ian brown was arrested after a fight during a concert in san francisco on tuesday  his spokesman has said.  a fan jumped on stage and attacked the singer  who then became involved in a fracas with a security guard  fiction records spokesman paul smernicki said. he said brown was arrested at his hotel after the show at the great american music hall but released without charge. san francisco police said they could find no record of his arrest. mr smernicki said he had been told a fan  rugby-tackled  the singer during the gig  which resulted in  pushing and shoving .  brown then got into a brawl with another man who tried to restrain him - without realising he was a security guard  mr smernicki added. the star went off for 15 minutes before returning to finish his set. police took witness statements and apprehended brown at his hotel  mr smernicki said. but he was released without charge and  as far as we re aware  that s the end of it   mr smernicki added. a spokesperson for the san francisco police department said he may have been detained but they could find no record of the incident. brown  42  was lead singer with the stone roses  one of the most seminal bands in british rock  until they split in 1996. he has since forged a successful solo career  scoring nine uk top 30 singles since 1998. in 1998  he was sentenced to four months in jail for using threatening behaviour towards an aeroplane captain and stewardess.'"
      ]
     },
     "execution_count": 55,
     "metadata": {},
     "output_type": "execute_result"
    }
   ],
   "source": [
    "test.iloc[pos].Text"
   ]
  },
  {
   "cell_type": "code",
   "execution_count": 56,
   "metadata": {},
   "outputs": [
    {
     "name": "stdout",
     "output_type": "stream",
     "text": [
      "{'pushing', 'months', 'arrest', 'detained', 'department', 'star', 'jumped', 'man', 'resulted', 'ian', 'successful', 'split', 'police', 'set', 'stage', 'record', 'san', 'gig', 'records', 'attacked', 'said', 'released', 'singer', 'spokesman', 'stone', 's', 'witness', 'uk', 'charge', 'rock', 'hotel', 'security', 'solo', 'statements', 'told', 'bands', 'went', 'forged', 'captain', 'involved', 'singles', 'tackled', 'sentenced', 'scoring', 'lead', 'far', 'jail', 'arrested', 'paul', 'tuesday', 'using', 'end', 'fiction', 'francisco', 'took', 'finish', 'fight', 'realising', 'british', 'fan', 'aware', 'fracas', 'roses', 'got', 'added', 'shoving', 'returning', 'great', 'seminal', 'minutes', 'music', 'threatening', 'american', 'incident', 'mr', 'rugby', 'guard', 'hall', 'behaviour', 'career', 'brown', 'concert', 'spokesperson', 'tried'}\n",
      "-----------------------------------------------------\n",
      "{'pushing', 'months', 'arrest', 'detained', 'department', 'star', 'jumped', 'man', 'resulted', 'ian', '1998', 'successful', 'split', 'police', 'set', 'stage', 'record', 'san', '30', 'gig', 'records', 'attacked', 'said', 'released', 'singer', 'spokesman', 'stone', 'witness', 'uk', 'charge', 'rock', 'security', 'hotel', 'statements', 'solo', 'told', 'bands', '42', 'went', 'forged', 'captain', 'involved', 'singles', 'restrain', 'tackled', 'sentenced', 'scoring', 'lead', 'far', 'jail', 'arrested', 'paul', 'tuesday', 'using', 'end', 'fiction', 'francisco', 'took', 'finish', 'brawl', 'fight', 'realising', 'british', 'fan', 'aware', 'fracas', 'got', 'roses', 'added', 'shoving', 'returning', 'great', 'seminal', 'minutes', 'aeroplane', 'music', '15', 'threatening', 'stewardess', 'american', 'incident', 'mr', 'rugby', 'guard', 'apprehended', '1996', 'hall', 'behaviour', 'career', 'brown', 'concert', 'spokesperson', 'tried'}\n"
     ]
    }
   ],
   "source": [
    "terms1 = terms_in_message(feature_names,test_preprocessed,pos)\n",
    "terms2 = terms_in_message(feature_names_2,test_preprocessed_2,pos)\n",
    "print(terms1)\n",
    "print(\"-----------------------------------------------------\")\n",
    "print(terms2)"
   ]
  },
  {
   "cell_type": "code",
   "execution_count": 57,
   "metadata": {},
   "outputs": [
    {
     "name": "stdout",
     "output_type": "stream",
     "text": [
      "Terms in first vectorization and not in second:  ['s']\n",
      "-----------------------------------------------------\n",
      "Terms in second vectorization and not in first:  ['1998', '30', '42', 'restrain', 'brawl', 'aeroplane', '15', 'stewardess', 'apprehended', '1996']\n"
     ]
    }
   ],
   "source": [
    "t1_notint2 = [] #términos en la primera vectorización y no en la segunda\n",
    "t2_notint1 = [] #términos en la segunda vectorización y no en la primera\n",
    "for term in terms1:\n",
    "    if term not in terms2:\n",
    "        t1_notint2.append(term)\n",
    "for term in terms2:\n",
    "    if term not in terms1:\n",
    "        t2_notint1.append(term)\n",
    "print(\"Terms in first vectorization and not in second: \", t1_notint2)\n",
    "print(\"-----------------------------------------------------\")\n",
    "print(\"Terms in second vectorization and not in first: \",t2_notint1)"
   ]
  },
  {
   "cell_type": "markdown",
   "metadata": {},
   "source": [
    "En la segunda vectorización observamos que se encuentran palabras como _restrain_, _brawl_, _apprehended_ o _stewardess_ y términos númericos, algunos de los cuales probablemente correspondan a fechas como _1998_ o _1996_, que no aparecen en la primera vectorización. Por otro lado el único término distinto en la primera vectorización es la letra _s_.\n",
    "\n",
    "Se puede apreciar por tanto, que la información que encontramos en la segunda vectorización y no en la primera es mucho más útil y más numerosa que la que encontramos en la primera y no en la segunda."
   ]
  },
  {
   "cell_type": "code",
   "execution_count": 60,
   "metadata": {},
   "outputs": [
    {
     "data": {
      "text/plain": [
       "ArticleId\n",
       "613     politics\n",
       "2060    politics\n",
       "1690    politics\n",
       "289     politics\n",
       "1651    politics\n",
       "Name: Category, dtype: object"
      ]
     },
     "execution_count": 60,
     "metadata": {},
     "output_type": "execute_result"
    }
   ],
   "source": [
    "idx = knn(test_preprocessed[pos], train_preprocessed, 5)\n",
    "y_selected = np.take(train.Category, idx)\n",
    "y_selected"
   ]
  },
  {
   "cell_type": "code",
   "execution_count": 62,
   "metadata": {},
   "outputs": [
    {
     "data": {
      "text/plain": [
       "ArticleId\n",
       "479     entertainment\n",
       "1603    entertainment\n",
       "1093    entertainment\n",
       "2110    entertainment\n",
       "615     entertainment\n",
       "Name: Category, dtype: object"
      ]
     },
     "execution_count": 62,
     "metadata": {},
     "output_type": "execute_result"
    }
   ],
   "source": [
    "idx = knn(doc_embed_matrix_test[pos], doc_embed_matrix_train, 5)\n",
    "y_selected = np.take(train.Category, idx)\n",
    "y_selected"
   ]
  },
  {
   "cell_type": "markdown",
   "metadata": {},
   "source": [
    "Por alguna razón, el primer modelo recupera 5/5 textos categorizados como 'politics' en vez de como 'entertainment', lo que si sucede en el segundo modelo que lo hace correctamente. A continuación analizaremos algunos de estos textos para intentar dar explicación a este fenómeno."
   ]
  },
  {
   "cell_type": "code",
   "execution_count": 63,
   "metadata": {},
   "outputs": [],
   "source": [
    "#Buscamos la posición en la que se enuentran los textos que nos interesan\n",
    "#en el conjunto de entrenamiento\n",
    "wrong = 0\n",
    "right = 0\n",
    "for i in range(len(train)):\n",
    "    if train.iloc[i].name == 613:\n",
    "        wrong = i\n",
    "    if train.iloc[i].name == 615:\n",
    "        right = i"
   ]
  },
  {
   "cell_type": "code",
   "execution_count": 64,
   "metadata": {},
   "outputs": [
    {
     "data": {
      "text/plain": [
       "Text        profile: gordon brown the ultimate prize of 10...\n",
       "Category                                             politics\n",
       "Name: 613, dtype: object"
      ]
     },
     "execution_count": 64,
     "metadata": {},
     "output_type": "execute_result"
    }
   ],
   "source": [
    "train.iloc[wrong]"
   ]
  },
  {
   "cell_type": "code",
   "execution_count": 65,
   "metadata": {},
   "outputs": [
    {
     "data": {
      "text/plain": [
       "Text        spears seeks aborted tour payment singer britn...\n",
       "Category                                        entertainment\n",
       "Name: 615, dtype: object"
      ]
     },
     "execution_count": 65,
     "metadata": {},
     "output_type": "execute_result"
    }
   ],
   "source": [
    "train.iloc[right]"
   ]
  },
  {
   "cell_type": "code",
   "execution_count": 66,
   "metadata": {},
   "outputs": [],
   "source": [
    "terms_wrong = terms_in_message(feature_names,train_preprocessed,wrong)\n",
    "terms_right =  terms_in_message(feature_names_2,train_preprocessed_2,right)"
   ]
  },
  {
   "cell_type": "code",
   "execution_count": 67,
   "metadata": {},
   "outputs": [
    {
     "name": "stdout",
     "output_type": "stream",
     "text": [
      "Intersección entre consulta y primera noticia mal recuperada con td-idf puro:  ['said', 's', 'went', 'using', 'mr', 'career', 'brown', 'man', 'spokesman', 'far', 'record', 'took']\n"
     ]
    }
   ],
   "source": [
    "intersection_wrong = []\n",
    "for term in terms_wrong:\n",
    "    if term in terms1:\n",
    "        intersection_wrong.append(term)\n",
    "print(\"Intersección entre consulta y primera noticia mal recuperada con td-idf puro: \", intersection_wrong)"
   ]
  },
  {
   "cell_type": "code",
   "execution_count": 68,
   "metadata": {},
   "outputs": [
    {
     "name": "stdout",
     "output_type": "stream",
     "text": [
      "Intersección entre consulta y última noticia bien recuperada con td-idf y word-embeddings:  ['star', '30', 'said', 'singer', 'hotel', 'took', 'music', 'incident']\n"
     ]
    }
   ],
   "source": [
    "intersection_right = []\n",
    "for term in terms_right:\n",
    "    if term in terms2:\n",
    "        intersection_right.append(term)\n",
    "print(\"Intersección entre consulta y última noticia bien recuperada con td-idf y word-embeddings: \", intersection_right)"
   ]
  },
  {
   "cell_type": "markdown",
   "metadata": {},
   "source": [
    "Como ya hemos indicado, la segunda vectorización parece que aportaba más información y a la vez con más significado que la primera.\n",
    "\n",
    "Por otro lado analicemos la intersección entre los textos recuperados y la consulta que más ha mejorado con word-embeddings:\n",
    "\n",
    "El primer texto erroneamente recuperado por el primer modelo tiene una vectorización con varios términos en común con el de la consulta. Si nos fijamos en estos términos, son o bastante genéricos o vocabulario que podría encontrarse tanto en 'politics' (categoría del texto recuperado) como en 'entertainment' (categoría de la consulta). _Said_, _went_, o _took_ son ejemplos de verbos que podemos encontrar en todo tipo de textos, mientras que _career_ es una palabra que podría referirse tanto a la carrera de un político como a la de un artista y podría ser frecuente encontrarla en ambos tipos de texto.\n",
    "\n",
    "En el último texto recuperado correctamente por el segundo modelo encontramos términos que conforman un vocabulario más específico de la categoría 'entertainment' como _star_, _singer_ o _music_.\n",
    "\n",
    "De lo anterior podemos sacar algunas conclusiones de por qué el segundo modelo tiene una mejor precisión. El primer modelo recupera textos similares en cuanto a la frecuencia de aparición de palabras comunes lo cual ofrece una funcionamiento relativamente bueno. Sin embargo el segundo modelo tiene también en cuenta la proximidad semántica de las palabras lo que resulta en un mejor rendimiento a la hora de recuperar textos de la misma categoría."
   ]
  }
 ],
 "metadata": {
  "colab": {
   "name": "P2_recuperacion_informacion_2122_enunciado.ipynb",
   "provenance": []
  },
  "kernelspec": {
   "display_name": "Python 3 (ipykernel)",
   "language": "python",
   "name": "python3"
  },
  "language_info": {
   "codemirror_mode": {
    "name": "ipython",
    "version": 3
   },
   "file_extension": ".py",
   "mimetype": "text/x-python",
   "name": "python",
   "nbconvert_exporter": "python",
   "pygments_lexer": "ipython3",
   "version": "3.9.7"
  }
 },
 "nbformat": 4,
 "nbformat_minor": 1
}
