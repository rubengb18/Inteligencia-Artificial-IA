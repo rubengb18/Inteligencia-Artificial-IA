{
 "cells": [
  {
   "cell_type": "markdown",
   "metadata": {
    "id": "OUBRwgEu3yu1"
   },
   "source": [
    "# Práctica 2: Procesamiento del Lenguaje Natural\n",
    "\n",
    "__Fecha de entrega: 17 de abril de 2022__\n",
    "\n",
    "El objetivo de esta práctica es aplicar los conceptos teóricos vistos en clase en el módulo de PLN. La práctica consta de 2 notebooks que se entregarán simultáneamente en la tarea de entrega habilitada en el Campus  Virtual.\n",
    "\n",
    "Lo más importante en esta práctica no es el código Python, sino el análisis de los datos y modelos que construyas y las explicaciones razonadas de cada una de las decisiones que tomes. __No se valorarán trozos de código o gráficas sin ningún tipo de contexto o explicación__.\n",
    "\n",
    "Finalmente, recuerda establecer el parámetro `random_state` en todas las funciones que tomen decisiones aleatorias para que los resultados sean reproducibles (los resultados no varíen entre ejecuciones)."
   ]
  },
  {
   "cell_type": "code",
   "execution_count": 1,
   "metadata": {
    "id": "V3YxCTUW3yu9"
   },
   "outputs": [],
   "source": [
    "RANDOM_STATE = 1311 "
   ]
  },
  {
   "cell_type": "markdown",
   "metadata": {
    "id": "pn_YQLVL3yvA"
   },
   "source": [
    "# Apartado 1: Clasificador de noticias"
   ]
  },
  {
   "cell_type": "markdown",
   "metadata": {
    "id": "de-i8w0s3yvC"
   },
   "source": [
    "__Número de grupo: 10__\n",
    "\n",
    "__Nombres de los estudiantes: Rubén Gómez, Adrián Sanjuán y Adrián Pérez__"
   ]
  },
  {
   "cell_type": "markdown",
   "metadata": {
    "id": "yeVD_g2D3yvC"
   },
   "source": [
    "## 1) Carga del conjunto de datos\n",
    "\n",
    "El fichero `BBC News.csv` contiene noticias clasificadas en 5 categorías diferentes. \n",
    "\n",
    "Carga los datos en un dataframe teniendo en cuenta que la columna `ArticleId` es un identificador de la noticia y por lo tanto no debes usarlo para clasificar. \n",
    "\n",
    "Estudia el tamaño del conjunto de datos y la proporción de noticias que pertenecen a cada una de las categorías. Indica si debemos tenerlo en cuenta de alguna forma al analizar los modelos que construyamos.\n",
    "\n",
    "Muestra un mensaje cualquiera y explica si lo habrías clasificado en la clase correcta tras leerlo.\n",
    "\n",
    "Crea una partición de los datos dejando el 80% para entrenamiento y el 20% restante para test usando la función `train_test_split` de sklearn. "
   ]
  },
  {
   "cell_type": "code",
   "execution_count": 2,
   "metadata": {
    "id": "0csu2B8N3yvE"
   },
   "outputs": [
    {
     "data": {
      "text/html": [
       "<div>\n",
       "<style scoped>\n",
       "    .dataframe tbody tr th:only-of-type {\n",
       "        vertical-align: middle;\n",
       "    }\n",
       "\n",
       "    .dataframe tbody tr th {\n",
       "        vertical-align: top;\n",
       "    }\n",
       "\n",
       "    .dataframe thead th {\n",
       "        text-align: right;\n",
       "    }\n",
       "</style>\n",
       "<table border=\"1\" class=\"dataframe\">\n",
       "  <thead>\n",
       "    <tr style=\"text-align: right;\">\n",
       "      <th></th>\n",
       "      <th>Text</th>\n",
       "      <th>Category</th>\n",
       "    </tr>\n",
       "    <tr>\n",
       "      <th>ArticleId</th>\n",
       "      <th></th>\n",
       "      <th></th>\n",
       "    </tr>\n",
       "  </thead>\n",
       "  <tbody>\n",
       "    <tr>\n",
       "      <th>1833</th>\n",
       "      <td>worldcom ex-boss launches defence lawyers defe...</td>\n",
       "      <td>business</td>\n",
       "    </tr>\n",
       "    <tr>\n",
       "      <th>154</th>\n",
       "      <td>german business confidence slides german busin...</td>\n",
       "      <td>business</td>\n",
       "    </tr>\n",
       "    <tr>\n",
       "      <th>1101</th>\n",
       "      <td>bbc poll indicates economic gloom citizens in ...</td>\n",
       "      <td>business</td>\n",
       "    </tr>\n",
       "    <tr>\n",
       "      <th>1976</th>\n",
       "      <td>lifestyle  governs mobile choice  faster  bett...</td>\n",
       "      <td>tech</td>\n",
       "    </tr>\n",
       "    <tr>\n",
       "      <th>917</th>\n",
       "      <td>enron bosses in $168m payout eighteen former e...</td>\n",
       "      <td>business</td>\n",
       "    </tr>\n",
       "    <tr>\n",
       "      <th>...</th>\n",
       "      <td>...</td>\n",
       "      <td>...</td>\n",
       "    </tr>\n",
       "    <tr>\n",
       "      <th>857</th>\n",
       "      <td>double eviction from big brother model caprice...</td>\n",
       "      <td>entertainment</td>\n",
       "    </tr>\n",
       "    <tr>\n",
       "      <th>325</th>\n",
       "      <td>dj double act revamp chart show dj duo jk and ...</td>\n",
       "      <td>entertainment</td>\n",
       "    </tr>\n",
       "    <tr>\n",
       "      <th>1590</th>\n",
       "      <td>weak dollar hits reuters revenues at media gro...</td>\n",
       "      <td>business</td>\n",
       "    </tr>\n",
       "    <tr>\n",
       "      <th>1587</th>\n",
       "      <td>apple ipod family expands market apple has exp...</td>\n",
       "      <td>tech</td>\n",
       "    </tr>\n",
       "    <tr>\n",
       "      <th>538</th>\n",
       "      <td>santy worm makes unwelcome visit thousands of ...</td>\n",
       "      <td>tech</td>\n",
       "    </tr>\n",
       "  </tbody>\n",
       "</table>\n",
       "<p>1490 rows × 2 columns</p>\n",
       "</div>"
      ],
      "text/plain": [
       "                                                        Text       Category\n",
       "ArticleId                                                                  \n",
       "1833       worldcom ex-boss launches defence lawyers defe...       business\n",
       "154        german business confidence slides german busin...       business\n",
       "1101       bbc poll indicates economic gloom citizens in ...       business\n",
       "1976       lifestyle  governs mobile choice  faster  bett...           tech\n",
       "917        enron bosses in $168m payout eighteen former e...       business\n",
       "...                                                      ...            ...\n",
       "857        double eviction from big brother model caprice...  entertainment\n",
       "325        dj double act revamp chart show dj duo jk and ...  entertainment\n",
       "1590       weak dollar hits reuters revenues at media gro...       business\n",
       "1587       apple ipod family expands market apple has exp...           tech\n",
       "538        santy worm makes unwelcome visit thousands of ...           tech\n",
       "\n",
       "[1490 rows x 2 columns]"
      ]
     },
     "execution_count": 2,
     "metadata": {},
     "output_type": "execute_result"
    }
   ],
   "source": [
    "import numpy as np\n",
    "import pandas as pd\n",
    "df_news = pd.read_csv('BBC News.csv', index_col = 0)\n",
    "df_news"
   ]
  },
  {
   "cell_type": "code",
   "execution_count": 3,
   "metadata": {},
   "outputs": [
    {
     "name": "stderr",
     "output_type": "stream",
     "text": [
      "No handles with labels found to put in legend.\n"
     ]
    },
    {
     "data": {
      "text/plain": [
       "<matplotlib.legend.Legend at 0x2c76f8300d0>"
      ]
     },
     "execution_count": 3,
     "metadata": {},
     "output_type": "execute_result"
    },
    {
     "data": {
      "image/png": "[encoded data removed]",
      "text/plain": [
       "<Figure size 1080x432 with 1 Axes>"
      ]
     },
     "metadata": {},
     "output_type": "display_data"
    }
   ],
   "source": [
    "%matplotlib inline\n",
    "import matplotlib as mpl\n",
    "import matplotlib.pyplot as plt\n",
    "df_news.groupby(\"Category\").count().plot.pie(autopct='%1.1f%%',\n",
    "                 figsize=(15, 6),\n",
    "                 startangle=90,      \n",
    "                 labels=None,         \n",
    "                 pctdistance=1.22,\n",
    "                    subplots = True) \n",
    "plt.title('Category proportion', y=1.12) \n",
    "plt.axis('equal') \n",
    "\n",
    "plt.legend(labels=df_news.groupby(\"Category\").count().index, loc='upper right') "
   ]
  },
  {
   "cell_type": "code",
   "execution_count": 4,
   "metadata": {},
   "outputs": [
    {
     "data": {
      "text/html": [
       "<div>\n",
       "<style scoped>\n",
       "    .dataframe tbody tr th:only-of-type {\n",
       "        vertical-align: middle;\n",
       "    }\n",
       "\n",
       "    .dataframe tbody tr th {\n",
       "        vertical-align: top;\n",
       "    }\n",
       "\n",
       "    .dataframe thead th {\n",
       "        text-align: right;\n",
       "    }\n",
       "</style>\n",
       "<table border=\"1\" class=\"dataframe\">\n",
       "  <thead>\n",
       "    <tr style=\"text-align: right;\">\n",
       "      <th></th>\n",
       "      <th>Text</th>\n",
       "    </tr>\n",
       "    <tr>\n",
       "      <th>Category</th>\n",
       "      <th></th>\n",
       "    </tr>\n",
       "  </thead>\n",
       "  <tbody>\n",
       "    <tr>\n",
       "      <th>business</th>\n",
       "      <td>336</td>\n",
       "    </tr>\n",
       "    <tr>\n",
       "      <th>entertainment</th>\n",
       "      <td>273</td>\n",
       "    </tr>\n",
       "    <tr>\n",
       "      <th>politics</th>\n",
       "      <td>274</td>\n",
       "    </tr>\n",
       "    <tr>\n",
       "      <th>sport</th>\n",
       "      <td>346</td>\n",
       "    </tr>\n",
       "    <tr>\n",
       "      <th>tech</th>\n",
       "      <td>261</td>\n",
       "    </tr>\n",
       "  </tbody>\n",
       "</table>\n",
       "</div>"
      ],
      "text/plain": [
       "               Text\n",
       "Category           \n",
       "business        336\n",
       "entertainment   273\n",
       "politics        274\n",
       "sport           346\n",
       "tech            261"
      ]
     },
     "execution_count": 4,
     "metadata": {},
     "output_type": "execute_result"
    }
   ],
   "source": [
    "df_news.groupby(\"Category\").count()"
   ]
  },
  {
   "cell_type": "markdown",
   "metadata": {},
   "source": [
    "-----\n",
    "Como podemos observar en la tabla anterior, si agrupamos por categorías el número de textos clasificados en cada categoría no difieren demasiado los unos con los otros. La máxima diferencia esta entre sport con 346 y tech con 261 y es de 85, por lo tanto las categorías están relativamente equilibradas. Que las categorías no estén exactamente proporcionadas no debería ser un problema ya que naive bayes tiene en cuenta la frecuencia de cada categoría y en cuanto al k-NN deberían estar suficientemente separadas en el espacio de dimensiones.\n",
    "\n",
    "Quizás si hubiera una categoría con muy pocos textos, habría que tenerlo en cuenta a la hora del análisis ya que pocas instancias pueden desvirtuar la predicción dando mucha importancia a ciertas palabras cuando en realidad no son importantes."
   ]
  },
  {
   "cell_type": "code",
   "execution_count": 232,
   "metadata": {},
   "outputs": [
    {
     "name": "stdout",
     "output_type": "stream",
     "text": [
      "tv station refuses adoption show a tv station in the us has refused to show a controversial new series where adopted children try and pick their birth father - and win a cash prize.  the wraz-tv fox affiliate in north carolina was the only one of 182 stations to refuse monday s show. who s your daddy promises $100 000 (£52 000) to the contestant if she correctly identifies her father. it was met with protests by the national council for adoption  which said it  exploits  sensitive emotions.  it exploits the sensitive emotions of adoption   said thomas atwood  president of the national council for adoption.  it trivialises them. adoption is a very personal  meaningful experience and it should not be commercialised like this.  on the pre-taped programme  the contestant is presented with eight men who may or may not be her natural father.  if she picks the correct man from the line-up  the contestant wins the jackpot prize of us$100 000 (£52 590). however  if she picks the wrong man  then the impostor takes the money. fox producers defended the show  saying it was a  positive experience . they have made six specials  though only one episode has so far been broadcast.   the special was thoroughly vetted by our standards and practices department to ensure that it was appropriate for broadcast   said a fox spokesman.  however  any network affiliate that feels the programming may be inappropriate for their individual market has the right to pre-empt the schedule.  wraz-tv instead chose to air an independently-produced film  i have roots and branches... personal reflections on adoption  a documentary about families with adopted children.  we just don t think adoption is a game show   said tommy schenck  wraz-tv s general manager  though he said his decision had not been influenced by public protests.\n",
      "entertainment\n"
     ]
    }
   ],
   "source": [
    "print(df_news.iloc[45,0])\n",
    "print(df_news.iloc[45,1])\n",
    "\n",
    "#print(df_news.iloc(200,\"Text\"))"
   ]
  },
  {
   "cell_type": "markdown",
   "metadata": {},
   "source": [
    "----------------------------------------------------------\n",
    "El texto se encuentra etiquetado como 'entertainment' porque trata sobre una serie/programa de un canal de televisión. Sin embargo creemos que quizás se podría confundir con uno de categoría 'politics' al hablar de temas como adopción y ética. Además se mencionan conceptos que se suelen asociar a la política como 'national council' o 'public protests' por lo que se ve que también es un texto que trata un tema político.\n",
    "\n",
    "Pensamos que esta bien categorizado como 'entertainment' porque el tema principal del texto es un programa de televisión, pero si se etiquetara como 'politics' también estaría bien categorizado, consideramos que sería la segunda etiqueta más probable para el texto."
   ]
  },
  {
   "cell_type": "code",
   "execution_count": 5,
   "metadata": {},
   "outputs": [
    {
     "name": "stdout",
     "output_type": "stream",
     "text": [
      "2384\n"
     ]
    }
   ],
   "source": [
    "from sklearn.model_selection import train_test_split\n",
    "train, test = train_test_split(df_news, test_size = 0.2,random_state=RANDOM_STATE)\n",
    "print(train.size)"
   ]
  },
  {
   "cell_type": "code",
   "execution_count": 9,
   "metadata": {},
   "outputs": [
    {
     "name": "stderr",
     "output_type": "stream",
     "text": [
      "No handles with labels found to put in legend.\n"
     ]
    },
    {
     "data": {
      "text/plain": [
       "<matplotlib.legend.Legend at 0x2c7725a88b0>"
      ]
     },
     "execution_count": 9,
     "metadata": {},
     "output_type": "execute_result"
    },
    {
     "data": {
      "image/png": "[encoded data removed]",
      "text/plain": [
       "<Figure size 1080x432 with 1 Axes>"
      ]
     },
     "metadata": {},
     "output_type": "display_data"
    }
   ],
   "source": [
    "train.groupby(\"Category\").count().plot.pie(autopct='%1.1f%%',\n",
    "                 figsize=(15, 6),\n",
    "                 startangle=90,      \n",
    "                 labels=None,         \n",
    "                 pctdistance=1.22,\n",
    "                    subplots = True) \n",
    "plt.title('Category proportion in train dataset', y=1.12) \n",
    "plt.axis('equal') \n",
    "\n",
    "plt.legend(labels=train.groupby(\"Category\").count().index, loc='upper right') "
   ]
  },
  {
   "cell_type": "markdown",
   "metadata": {},
   "source": [
    "Utilizamos la gráfica anterior para comprobar que el conjunto de entrenamiento está equilibrado en cuanto a número de instancias por categoría. Como vemos se ha obtenido un conjunto de entrenamiento incluso más equilibrado que el total."
   ]
  },
  {
   "cell_type": "markdown",
   "metadata": {
    "id": "r4rXv3xX3yvG"
   },
   "source": [
    "## 2) Representación basada en bolsa de palabras y frecuencia de aparición\n",
    "\n",
    "La primera vectorización que vamos a usar representará los mensajes usando el modelo de bolsa de palabras, monogramas y la frecuencia de aparición de cada palabra. Usa como _stop words_ las que vienen configuradas por defecto para el inglés.\n",
    "\n",
    "Aplica la vectorización a los conjuntos de mensajes de entrenamiento y test. Muestra algún mensaje tanto en su formato de texto original como en la versión vectorizada. ¿Qué palabras se han eliminado y por qué?\n",
    "\n",
    "Entrena un clasificador Naive Bayes Multinomial y calcula su tasa de aciertos sobre el conjunto de entrenamiento y el conjunto de test. A continuación calcula los valores de precisión, exhaustividad y puntuación F1 para cada una de las clases. Dibuja la matriz de confusión. Analiza los resultados obtenidos.\n",
    "\n",
    "A continuación, entrena un clasificador k-NN con la configuración por defecto y usando la misma vectorización. Analiza los resultados, ¿a qué crees que se deben?"
   ]
  },
  {
   "cell_type": "code",
   "execution_count": 10,
   "metadata": {
    "id": "HsJsTVjL3yvH"
   },
   "outputs": [],
   "source": [
    "from sklearn.feature_extraction.text import CountVectorizer\n",
    "from sklearn.feature_extraction.text import TfidfTransformer"
   ]
  },
  {
   "cell_type": "code",
   "execution_count": 11,
   "metadata": {},
   "outputs": [],
   "source": [
    "vectorizer = CountVectorizer(stop_words='english', binary=False)\n",
    "# Tomamos los textos del conjunto de entrenamiento y los transformamos en \n",
    "# una matriz de datos (palabras) según el diccionario estándar\n",
    "train_vector_data_old=vectorizer.fit_transform(train.Text)"
   ]
  },
  {
   "cell_type": "code",
   "execution_count": 12,
   "metadata": {},
   "outputs": [
    {
     "name": "stdout",
     "output_type": "stream",
     "text": [
      "22282\n"
     ]
    }
   ],
   "source": [
    "feature_names_old = vectorizer.get_feature_names()\n",
    "\n",
    "print(len(feature_names_old))\n",
    "#print(feature_names[:500])"
   ]
  },
  {
   "cell_type": "code",
   "execution_count": 13,
   "metadata": {},
   "outputs": [],
   "source": [
    "#print(train_vector_data_old[45])"
   ]
  },
  {
   "cell_type": "code",
   "execution_count": 14,
   "metadata": {},
   "outputs": [],
   "source": [
    "import numpy as np\n",
    "import numpy.ma as ma\n",
    "\n",
    "def write_terms (feature_names, data, vector_data, index):\n",
    "    '''\n",
    "    Escribe los términos presentes en un mensaje representado como bolsa de palabras.\n",
    "    \n",
    "    - feature_names: terminos usados para vectorizar\n",
    "    - data: lista de mensajes original (si data==None no se muestra el mensaje original)\n",
    "    - vector_data: matriz (dispersa) de mensaje vectorizados\n",
    "    - index: posición del mensaje a mostrar\n",
    "    '''\n",
    "    # máscara para seleccionar sólo el mensaje en posición index\n",
    "    mask=vector_data[index,:]>0\n",
    "    \n",
    "    # términos que aparecen en ese mensaje vectorizado\n",
    "    terminos = ma.array(feature_names, mask = ~(mask[0].toarray()))\n",
    "    \n",
    "    # mostrar mensaje original\n",
    "    if data is not None:\n",
    "        print('Mensaje', index, ':', data[index][0])\n",
    "    \n",
    "    # mostrar términos que aparecen en el mensaje vectorizado\n",
    "    print('Mensaje', index, 'vectorizado:', terminos.compressed(),'\\n')"
   ]
  },
  {
   "cell_type": "code",
   "execution_count": 16,
   "metadata": {},
   "outputs": [
    {
     "name": "stdout",
     "output_type": "stream",
     "text": [
      "Mensaje 255 : hitachi unveils  fastest robot  japanese electronics firm hitachi has unveiled its first humanoid robot  called emiew  to challenge honda s asimo and sony s qrio robots.  hitachi said the 1.3m (4.2ft) emiew was the world s quickest-moving robot yet. two wheel-based emiews  pal and chum  introduced themselves to reporters at a press conference in japan. the robots will be guests at the world expo later this month. sony and honda have both built sophisticated robots to show off developments in electronics. explaining why hitachi s emiew used wheels instead of feet  toshihiko horiuchi  from hitachi s mechanical engineering research laboratory  said:  we aimed to create a robot that could live and co-exist with people.   we want to make the robots useful for people ... if the robots moved slower than people  users would be frustrated.  emiew - excellent mobility and interactive existence as workmate - can move at 3.7m/h. its  wheel feet  resemble the bottom half of a segway scooter. with sensors on the head  waist  and near the wheels  pal and chum demonstrated how they could react to commands.  i want to be able to walk about in places like shinjuku and shibuya [shopping districts] in the future without bumping into people and cars   pal told reporters. hitachi said pal and chum  which have a vocabulary of about 100 words  could be  trained  for practical office and factory use in as little as five to six years.  robotics researchers have long been challenged by developing robots that walk in the gait of a human. at the recent aaas (american association for the advancement of science) annual meeting in washington dc  researchers showed off bipedal designs. the three designs  each built by a different research group  use the same principle to achieve a human-like gait.  sony and honda have both used humanoid robots  which are not commercially available  as a way of showing off computing power and engineering expertise. honda s asimo was  born  five years ago. since then  honda and sony s qrio have tried to trump each other with what the robots can do at various technology events. asimo  has visited the uk  germany  the czech republic  france and ireland as part of a world tour. sony s qrio has been singing  jogging and dancing in formation around the world too and was  until last year  the fastest robot on two legs. but its record was beaten by asimo. it is capable of 3km/h  which its makers claim is almost four times as fast as qrio. last year  car maker toyota also stepped into the ring and unveiled its trumpet-playing humanoid robot. by 2007  it is predicted that there will be almost 2.5 million  entertainment and leisure  robots in homes  compared to about 137 000 currently  according to the united nations (un). by the end of that year  4.1 million robots will be doing jobs in homes  said the report by the un economic commission for europe and the international federation of robotics. hitachi is one of the companies with home cleaning robot machines on the market.\n",
      "Mensaje 255 vectorizado: ['000' '100' '137' '2007' '2ft' '3km' '3m' '7m' 'aaas' 'able' 'according'\n",
      " 'achieve' 'advancement' 'ago' 'aimed' 'american' 'annual' 'asimo'\n",
      " 'association' 'available' 'based' 'beaten' 'bipedal' 'born' 'built'\n",
      " 'bumping' 'called' 'capable' 'car' 'cars' 'challenge' 'challenged' 'chum'\n",
      " 'claim' 'cleaning' 'commands' 'commercially' 'commission' 'companies'\n",
      " 'compared' 'computing' 'conference' 'create' 'currently' 'czech'\n",
      " 'dancing' 'dc' 'demonstrated' 'designs' 'developing' 'developments'\n",
      " 'different' 'districts' 'doing' 'economic' 'electronics' 'emiew' 'emiews'\n",
      " 'end' 'engineering' 'entertainment' 'europe' 'events' 'excellent' 'exist'\n",
      " 'existence' 'expertise' 'explaining' 'expo' 'factory' 'fast' 'fastest'\n",
      " 'federation' 'feet' 'firm' 'formation' 'france' 'frustrated' 'future'\n",
      " 'gait' 'germany' 'group' 'guests' 'half' 'head' 'hitachi' 'home' 'homes'\n",
      " 'honda' 'horiuchi' 'human' 'humanoid' 'instead' 'interactive'\n",
      " 'international' 'introduced' 'ireland' 'japan' 'japanese' 'jobs'\n",
      " 'jogging' 'laboratory' 'later' 'legs' 'leisure' 'like' 'little' 'live'\n",
      " 'long' 'machines' 'make' 'maker' 'makers' 'market' 'mechanical' 'meeting'\n",
      " 'million' 'mobility' 'month' 'moved' 'moving' 'nations' 'near' 'office'\n",
      " 'pal' 'people' 'places' 'playing' 'power' 'practical' 'predicted' 'press'\n",
      " 'principle' 'qrio' 'quickest' 'react' 'recent' 'record' 'report'\n",
      " 'reporters' 'republic' 'research' 'researchers' 'resemble' 'ring' 'robot'\n",
      " 'robotics' 'robots' 'said' 'science' 'scooter' 'segway' 'sensors'\n",
      " 'shibuya' 'shinjuku' 'shopping' 'showed' 'showing' 'singing' 'slower'\n",
      " 'sony' 'sophisticated' 'stepped' 'technology' 'times' 'told' 'toshihiko'\n",
      " 'tour' 'toyota' 'trained' 'tried' 'trump' 'trumpet' 'uk' 'united'\n",
      " 'unveiled' 'unveils' 'use' 'used' 'useful' 'users' 'various' 'visited'\n",
      " 'vocabulary' 'waist' 'walk' 'want' 'washington' 'way' 'wheel' 'wheels'\n",
      " 'words' 'workmate' 'world' 'year' 'years'] \n",
      "\n",
      "Mensaje 100 : freeze on anti-spam campaign a campaign by lycos europe to target spam-related websites appears to have been put on hold.  earlier this week the company released a screensaver that bombarded the sites with data to try to bump up the running costs of the websites. but the site hosting the screensaver now displays a pink graphic and the words  stay tuned . no one at lycos was available for comment on latest developments in its controversial anti-spam campaign.  lycos europe s  make love not spam  campaign was intended as a way for users to fight back against the mountain of junk mail flooding inboxes. people were encouraged to download the screensaver which  when their pc was idle  would then send lots of data to sites that peddle the goods and services mentioned in spam messages. lycos said the idea was to get the spam sites running at 95% capacity and generate big bandwidth bills for the spammers behind the sites. but the plan has proved controversial.  monitoring firm netcraft analysed response times for some of the sites targeted by the screensaver and found that a number were completely knocked offline.  the downing of the sites could dent lycos claims that what it is doing does not amount to a distributed denial of service attack. in such attacks thousands of computers bombard sites with data in an attempt to overwhelm them. laws in many countries do not explicitly outlaw such attacks but many nations are re-drafting computer use laws to make them specific offences. lycos europe now appears to have put the plan on hold. the site hosting the screensaver currently shows a holding page  with the words   stay tuned . the numerical internet address of the site has also changed. this is likely to be in response to spammers who have reportedly redirected traffic from their sites back to the lycos screensaver site. the campaign has come under fire from some corners of the web. many discussion groups have said that it set a dangerous precedent and could incite vigilantism.  attacking a spammer s website is like poking a grizzly bear sleeping in your back garden with a pointy stick   said graham cluley  senior technology consultant for sophos.  not only is this screensaver similar in its approach to a potentially illegal distributed denial of service attack  but it also is in danger of turning innocent computer users into vigilantes  who may not be prepared for whatever retaliation the spammers care to dream up.\n",
      "Mensaje 100 vectorizado: ['95' 'address' 'analysed' 'anti' 'appears' 'approach' 'attack'\n",
      " 'attacking' 'attacks' 'attempt' 'available' 'bandwidth' 'bear' 'big'\n",
      " 'bills' 'bombard' 'bombarded' 'bump' 'campaign' 'capacity' 'care'\n",
      " 'changed' 'claims' 'cluley' 'come' 'comment' 'company' 'completely'\n",
      " 'computer' 'computers' 'consultant' 'controversial' 'corners' 'costs'\n",
      " 'countries' 'currently' 'danger' 'dangerous' 'data' 'denial' 'dent'\n",
      " 'developments' 'discussion' 'displays' 'distributed' 'does' 'doing'\n",
      " 'downing' 'download' 'drafting' 'dream' 'earlier' 'encouraged' 'europe'\n",
      " 'explicitly' 'fight' 'firm' 'flooding' 'freeze' 'garden' 'generate'\n",
      " 'goods' 'graham' 'graphic' 'grizzly' 'groups' 'hold' 'holding' 'hosting'\n",
      " 'idea' 'idle' 'illegal' 'inboxes' 'incite' 'innocent' 'intended'\n",
      " 'internet' 'junk' 'knocked' 'latest' 'laws' 'like' 'likely' 'lots' 'love'\n",
      " 'lycos' 'mail' 'make' 'mentioned' 'messages' 'monitoring' 'mountain'\n",
      " 'nations' 'netcraft' 'number' 'numerical' 'offences' 'offline' 'outlaw'\n",
      " 'overwhelm' 'page' 'pc' 'peddle' 'people' 'pink' 'plan' 'pointy' 'poking'\n",
      " 'potentially' 'precedent' 'prepared' 'proved' 'redirected' 'related'\n",
      " 'released' 'reportedly' 'response' 'retaliation' 'running' 'said'\n",
      " 'screensaver' 'send' 'senior' 'service' 'services' 'set' 'shows'\n",
      " 'similar' 'site' 'sites' 'sleeping' 'sophos' 'spam' 'spammer' 'spammers'\n",
      " 'specific' 'stay' 'stick' 'target' 'targeted' 'technology' 'thousands'\n",
      " 'times' 'traffic' 'try' 'tuned' 'turning' 'use' 'users' 'vigilantes'\n",
      " 'vigilantism' 'way' 'web' 'website' 'websites' 'week' 'words'] \n",
      "\n"
     ]
    }
   ],
   "source": [
    "write_terms(feature_names_old, np.array(train), train_vector_data_old, 255)\n",
    "write_terms(feature_names_old, np.array(train), train_vector_data_old, 100)"
   ]
  },
  {
   "cell_type": "markdown",
   "metadata": {},
   "source": [
    "------------------\n",
    "Podemos observar que hay algunos términos numéricos e incluso nombres propios que no tienen porque aportar gran significado al texto. Es posible que fechas, cantidades o incluso nombres propios conocidos de lugares o personas famosas nos puedan dar información o aportar significado a un texto para ayudar a clasificarlo pero hemos decidido considerar esto ruido ya que en la mayoría de casos pensamos que no aporta gran información. \n",
    "\n",
    "-----------------"
   ]
  },
  {
   "cell_type": "markdown",
   "metadata": {},
   "source": [
    "Volvemos a realizar la vectorización, pero esta vez con un diccionario predeterminado de forma que el ruido mencionado anteriormente se elimina. Como efectos colaterales también es posible que se eliminen términos más específicos de las diferentes categorías del problema que con alta probabilidad no se encontrarán en un diccionario estándar y genérico como el que vamos a utilizar.\n",
    "\n",
    "Otras opciones serían eliminar a mano el ruido o utilizar una herramienta más sofisitcada."
   ]
  },
  {
   "cell_type": "code",
   "execution_count": 17,
   "metadata": {},
   "outputs": [],
   "source": [
    "# Pasamos el fichero a una lista (una línea por item)\n",
    "with open('words.txt') as f:\n",
    "    dictionary = f.read().splitlines()\n",
    "\n",
    "# El diccionario cargado lo pasamos en el parámetro vocabulary    \n",
    "vectorizer = CountVectorizer(vocabulary=dictionary, stop_words='english')   "
   ]
  },
  {
   "cell_type": "code",
   "execution_count": 19,
   "metadata": {},
   "outputs": [
    {
     "name": "stdout",
     "output_type": "stream",
     "text": [
      "466551\n"
     ]
    }
   ],
   "source": [
    "feature_names = vectorizer.get_feature_names()\n",
    "print(len(feature_names))\n",
    "#print(feature_names[:500])"
   ]
  },
  {
   "cell_type": "markdown",
   "metadata": {},
   "source": [
    "--------\n",
    "Como vemos, hay más términos en nuestro vocabulario (466551 en vez de 22282) ya que en vez de utilizar solo los que aparecen en nuestro conjunto de entrenamiento, vamos a utilizar un diccionario predeterminado. Sin embargo, el número de términos en los diferentes textos vecotrizados será menor porque habrá muchas palabras o términos numéricos que al no aparecer en el diccionario no se consideren."
   ]
  },
  {
   "cell_type": "code",
   "execution_count": 20,
   "metadata": {},
   "outputs": [],
   "source": [
    "train_vector_data = vectorizer.fit_transform(train.Text)\n",
    "\n",
    "#print(train_vector_data[12])"
   ]
  },
  {
   "cell_type": "code",
   "execution_count": 21,
   "metadata": {},
   "outputs": [
    {
     "name": "stdout",
     "output_type": "stream",
     "text": [
      "Mensaje 100 : freeze on anti-spam campaign a campaign by lycos europe to target spam-related websites appears to have been put on hold.  earlier this week the company released a screensaver that bombarded the sites with data to try to bump up the running costs of the websites. but the site hosting the screensaver now displays a pink graphic and the words  stay tuned . no one at lycos was available for comment on latest developments in its controversial anti-spam campaign.  lycos europe s  make love not spam  campaign was intended as a way for users to fight back against the mountain of junk mail flooding inboxes. people were encouraged to download the screensaver which  when their pc was idle  would then send lots of data to sites that peddle the goods and services mentioned in spam messages. lycos said the idea was to get the spam sites running at 95% capacity and generate big bandwidth bills for the spammers behind the sites. but the plan has proved controversial.  monitoring firm netcraft analysed response times for some of the sites targeted by the screensaver and found that a number were completely knocked offline.  the downing of the sites could dent lycos claims that what it is doing does not amount to a distributed denial of service attack. in such attacks thousands of computers bombard sites with data in an attempt to overwhelm them. laws in many countries do not explicitly outlaw such attacks but many nations are re-drafting computer use laws to make them specific offences. lycos europe now appears to have put the plan on hold. the site hosting the screensaver currently shows a holding page  with the words   stay tuned . the numerical internet address of the site has also changed. this is likely to be in response to spammers who have reportedly redirected traffic from their sites back to the lycos screensaver site. the campaign has come under fire from some corners of the web. many discussion groups have said that it set a dangerous precedent and could incite vigilantism.  attacking a spammer s website is like poking a grizzly bear sleeping in your back garden with a pointy stick   said graham cluley  senior technology consultant for sophos.  not only is this screensaver similar in its approach to a potentially illegal distributed denial of service attack  but it also is in danger of turning innocent computer users into vigilantes  who may not be prepared for whatever retaliation the spammers care to dream up.\n",
      "Mensaje 100 vectorizado: ['95' 'address' 'analysed' 'anti' 'appears' 'approach' 'attack'\n",
      " 'attacking' 'attacks' 'attempt' 'available' 'bandwidth' 'bear' 'big'\n",
      " 'bills' 'bombard' 'bombarded' 'bump' 'campaign' 'capacity' 'care'\n",
      " 'changed' 'claims' 'cluley' 'come' 'comment' 'company' 'completely'\n",
      " 'computer' 'computers' 'consultant' 'controversial' 'corners' 'costs'\n",
      " 'countries' 'currently' 'danger' 'dangerous' 'data' 'denial' 'dent'\n",
      " 'developments' 'discussion' 'displays' 'distributed' 'does' 'doing'\n",
      " 'downing' 'download' 'drafting' 'dream' 'earlier' 'encouraged' 'europe'\n",
      " 'explicitly' 'fight' 'firm' 'flooding' 'freeze' 'garden' 'generate'\n",
      " 'goods' 'graham' 'graphic' 'grizzly' 'groups' 'hold' 'holding' 'hosting'\n",
      " 'idea' 'idle' 'illegal' 'inboxes' 'incite' 'innocent' 'intended'\n",
      " 'internet' 'junk' 'knocked' 'latest' 'laws' 'like' 'likely' 'lots' 'love'\n",
      " 'lycos' 'mail' 'make' 'mentioned' 'messages' 'monitoring' 'mountain'\n",
      " 'nations' 'netcraft' 'number' 'numerical' 'offences' 'offline' 'outlaw'\n",
      " 'overwhelm' 'page' 'pc' 'peddle' 'people' 'pink' 'plan' 'pointy' 'poking'\n",
      " 'potentially' 'precedent' 'prepared' 'proved' 'redirected' 'related'\n",
      " 'released' 'reportedly' 'response' 'retaliation' 'running' 'said'\n",
      " 'screensaver' 'send' 'senior' 'service' 'services' 'set' 'shows'\n",
      " 'similar' 'site' 'sites' 'sleeping' 'sophos' 'spam' 'spammer' 'spammers'\n",
      " 'specific' 'stay' 'stick' 'target' 'targeted' 'technology' 'thousands'\n",
      " 'times' 'traffic' 'try' 'tuned' 'turning' 'use' 'users' 'vigilantes'\n",
      " 'vigilantism' 'way' 'web' 'website' 'websites' 'week' 'words'] \n",
      "\n",
      "Mensaje 100 vectorizado: ['address' 'analysed' 'appears' 'approach' 'attack' 'attacking' 'attacks'\n",
      " 'attempt' 'available' 'bandwidth' 'big' 'bombard' 'bombarded' 'bump'\n",
      " 'campaign' 'capacity' 'changed' 'claims' 'come' 'comment' 'company'\n",
      " 'completely' 'computer' 'computers' 'consultant' 'controversial'\n",
      " 'corners' 'costs' 'countries' 'currently' 'danger' 'dangerous' 'denial'\n",
      " 'developments' 'discussion' 'displays' 'distributed' 'does' 'doing'\n",
      " 'download' 'drafting' 'earlier' 'encouraged' 'explicitly' 'fight' 'firm'\n",
      " 'flooding' 'freeze' 'generate' 'goods' 'graphic' 'grizzly' 'groups'\n",
      " 'hold' 'holding' 'hosting' 'idle' 'illegal' 'incite' 'innocent'\n",
      " 'intended' 'internet' 'junk' 'knocked' 'latest' 'like' 'mail' 'make'\n",
      " 'mentioned' 'messages' 'monitoring' 'number' 'numerical' 'offences'\n",
      " 'offline' 'overwhelm' 'peddle' 'people' 'pink' 'pointy' 'poking'\n",
      " 'potentially' 'precedent' 'prepared' 'proved' 'redirected' 'related'\n",
      " 'released' 'reportedly' 'response' 'retaliation' 'running' 'said' 'send'\n",
      " 'services' 'shows' 'similar' 'site' 'sites' 'sleeping' 'specific' 'stay'\n",
      " 'stick' 'target' 'targeted' 'technology' 'thousands' 'times' 'traffic'\n",
      " 'try' 'tuned' 'turning' 'users' 'vigilantes' 'vigilantism' 'way' 'week'\n",
      " 'words'] \n",
      "\n"
     ]
    }
   ],
   "source": [
    "#Mostramos las dos vectorizaciones de un texto\n",
    "write_terms(feature_names_old, np.array(train), train_vector_data_old, 100)\n",
    "write_terms(feature_names, None, train_vector_data, 100)"
   ]
  },
  {
   "cell_type": "markdown",
   "metadata": {},
   "source": [
    "-------\n",
    "En el bloque anterior se muestra el mismo mensaje con las dos vectorizaciones. \n",
    "\n",
    "La diferencia más evidente entre ambas es la ausencia de términos alfanuméricos como '1500m', '2005' y '800m' en la segunda vectorización realizada. Si indagamos observamos que también se han eliminado nombres propios como 'kelly'. Por tanto hemos logrado nuestro objetivo de eliminar el ruido, sin embargo, lo hemos hecho a costa de eliminar términos que si que podían ser útiles, como habíamos previsto. En la segunda vectorización desaparecen términos más específicos del tema tratado como 'olympic' o nombres propios de países como 'greece' o 'russia'."
   ]
  },
  {
   "cell_type": "code",
   "execution_count": 22,
   "metadata": {},
   "outputs": [],
   "source": [
    "# Tomamos los textos del conjunto de test y los transformamos en una matriz\n",
    "# de palabras. Al usar \"transform\" toma como referencia únicamente las palabras\n",
    "# encontradas en el conjunto de entrenamiento\n",
    "test_vector_data=vectorizer.transform(test.Text)\n",
    "# Calculamos el valor TF-IDF \n",
    "# Al usar \"transform\" toma como IDF el del conjunto de entrenamiento \n",
    "tfidfer = TfidfTransformer()\n",
    "train_preprocessed = tfidfer.fit_transform(train_vector_data)\n",
    "test_preprocessed = tfidfer.transform(test_vector_data)"
   ]
  },
  {
   "cell_type": "markdown",
   "metadata": {},
   "source": [
    "#### Naive Bayes"
   ]
  },
  {
   "cell_type": "code",
   "execution_count": 23,
   "metadata": {},
   "outputs": [
    {
     "name": "stdout",
     "output_type": "stream",
     "text": [
      "Multinomial Naive Bayes, porcentaje de aciertos en entrenamiento: 0.9848993288590604\n",
      "Multinomial Naive Bayes, porcentaje de aciertos en test: 0.9228187919463087\n"
     ]
    }
   ],
   "source": [
    "from sklearn.naive_bayes import MultinomialNB\n",
    "\n",
    "mnb_classifier = MultinomialNB()\n",
    "\n",
    "mnb_classifier.fit(train_preprocessed, train.Category)\n",
    "\n",
    "mnb_train_predictions = mnb_classifier.predict(train_preprocessed)\n",
    "mnb_test_predictions = mnb_classifier.predict(test_preprocessed)\n",
    "\n",
    "print(\"Multinomial Naive Bayes, porcentaje de aciertos en entrenamiento:\", np.mean(mnb_train_predictions == train.Category))\n",
    "print(\"Multinomial Naive Bayes, porcentaje de aciertos en test:\", np.mean(mnb_test_predictions == test.Category))"
   ]
  },
  {
   "cell_type": "markdown",
   "metadata": {},
   "source": [
    "----\n",
    "A priori, aunque es una métrica bastante básica, parece que funciona bastante ya que sobre el conjunto de test predice el 92.3% de las categorías de los textos bien. El porcentaje de acierto sobre el conjunto de entrenamiento obviamente es mayor ya que predice textos sobre los que ha entrenado y por eso es de prácticamente el 98.5%."
   ]
  },
  {
   "cell_type": "code",
   "execution_count": 24,
   "metadata": {},
   "outputs": [],
   "source": [
    "from sklearn.metrics import classification_report, confusion_matrix"
   ]
  },
  {
   "cell_type": "code",
   "execution_count": 27,
   "metadata": {},
   "outputs": [
    {
     "data": {
      "text/html": [
       "<div>\n",
       "<style scoped>\n",
       "    .dataframe tbody tr th:only-of-type {\n",
       "        vertical-align: middle;\n",
       "    }\n",
       "\n",
       "    .dataframe tbody tr th {\n",
       "        vertical-align: top;\n",
       "    }\n",
       "\n",
       "    .dataframe thead th {\n",
       "        text-align: right;\n",
       "    }\n",
       "</style>\n",
       "<table border=\"1\" class=\"dataframe\">\n",
       "  <thead>\n",
       "    <tr style=\"text-align: right;\">\n",
       "      <th></th>\n",
       "      <th>Text</th>\n",
       "    </tr>\n",
       "    <tr>\n",
       "      <th>Category</th>\n",
       "      <th></th>\n",
       "    </tr>\n",
       "  </thead>\n",
       "  <tbody>\n",
       "    <tr>\n",
       "      <th>business</th>\n",
       "      <td>68</td>\n",
       "    </tr>\n",
       "    <tr>\n",
       "      <th>entertainment</th>\n",
       "      <td>57</td>\n",
       "    </tr>\n",
       "    <tr>\n",
       "      <th>politics</th>\n",
       "      <td>52</td>\n",
       "    </tr>\n",
       "    <tr>\n",
       "      <th>sport</th>\n",
       "      <td>76</td>\n",
       "    </tr>\n",
       "    <tr>\n",
       "      <th>tech</th>\n",
       "      <td>45</td>\n",
       "    </tr>\n",
       "  </tbody>\n",
       "</table>\n",
       "</div>"
      ],
      "text/plain": [
       "               Text\n",
       "Category           \n",
       "business         68\n",
       "entertainment    57\n",
       "politics         52\n",
       "sport            76\n",
       "tech             45"
      ]
     },
     "execution_count": 27,
     "metadata": {},
     "output_type": "execute_result"
    }
   ],
   "source": [
    "test.groupby(\"Category\").count()"
   ]
  },
  {
   "cell_type": "code",
   "execution_count": 28,
   "metadata": {},
   "outputs": [
    {
     "data": {
      "text/plain": [
       "(array([0.5, 1.5, 2.5, 3.5, 4.5]),\n",
       " [Text(0.5, 0, 'business'),\n",
       "  Text(1.5, 0, 'entertainment'),\n",
       "  Text(2.5, 0, 'politics'),\n",
       "  Text(3.5, 0, 'sport'),\n",
       "  Text(4.5, 0, 'tech')])"
      ]
     },
     "execution_count": 28,
     "metadata": {},
     "output_type": "execute_result"
    },
    {
     "data": {
      "image/png": "[encoded data removed]",
      "text/plain": [
       "<Figure size 1080x720 with 2 Axes>"
      ]
     },
     "metadata": {
      "needs_background": "light"
     },
     "output_type": "display_data"
    }
   ],
   "source": [
    "%matplotlib inline\n",
    "import pandas as pd\n",
    "import seaborn as sn\n",
    "import matplotlib.pyplot as plt\n",
    "\n",
    "#Hemos consultado cuantas instancias hay de cada categoría en el conjunto de test para etiquetar correctamente\n",
    "test_category_names=['business', 'entertainment', 'politics', 'sport', 'tech']\n",
    "\n",
    "conf_matrix = confusion_matrix(test.Category, mnb_test_predictions)\n",
    "conf_matrix_df = pd.DataFrame(conf_matrix, index=test_category_names, columns=test_category_names)\n",
    "\n",
    "plt.figure(figsize=(15, 10))\n",
    "sn.heatmap(conf_matrix_df, annot=True, vmin=0, vmax=conf_matrix.max(), fmt='d', cmap=\"YlGnBu\")\n",
    "plt.yticks(rotation=0)\n",
    "plt.xticks(rotation=0)\n"
   ]
  },
  {
   "cell_type": "markdown",
   "metadata": {},
   "source": [
    "- FILAS: CATEGORÍA REAL\n",
    "- COLUMNAS: PREDICCIONES\n",
    "\n"
   ]
  },
  {
   "cell_type": "markdown",
   "metadata": {},
   "source": [
    "Una fila con muchos valores fuera de la diagonal, indica una exhaustividad/recall baja. Como vemos, los textos categorizados como 'entertainment' son los que más suele confundir el clasificador con otras categorías (sobre todo con business).\n",
    "\n",
    "Una columna con muchos valores fuera de la diagonal indica una precisión baja. En la columna de la categoría 'business' se observa que pese a tener una exhaustividad/recall de casi 100% (es decir, predice casi todos los textos que pertenecen a esta categoría correctamente) también predice algunos falsos positivos con textos que en realidad pertencen a 'entertainment', 'politics' o 'tech'.\n",
    "\n",
    "Fijándonos en la tabla se pueden apreciar relaciones entre los tipos de texto:\n",
    "- Se puede ver que el único valor 0 en la columna de 'business' es el de la fila de 'sport', es decir, 'sport' es la única categoría que no se ha confundido en ningún caso con 'business'. Si tenemos en cuenta los posibles contenidos de estos textos se puede deducir que 'sport' es la categoría más \"opuesta\" a 'business' que puede haber.\n",
    "- En la fila de 'entertainment' se puede ver que se confunde con todas las categorías. Tiene sentido ya que es un tema que puede hacer referencia a todas las demás categorías (desde tecnología si pensamos en tv o videojuegos por ejemplo, hasta deporte o política si pensamos en terulias televisivas)."
   ]
  },
  {
   "cell_type": "code",
   "execution_count": 29,
   "metadata": {},
   "outputs": [
    {
     "name": "stdout",
     "output_type": "stream",
     "text": [
      "               precision    recall  f1-score   support\n",
      "\n",
      "     business       0.84      0.99      0.91        68\n",
      "entertainment       1.00      0.82      0.90        57\n",
      "     politics       0.98      0.90      0.94        52\n",
      "        sport       0.93      1.00      0.96        76\n",
      "         tech       0.93      0.84      0.88        45\n",
      "\n",
      "     accuracy                           0.92       298\n",
      "    macro avg       0.93      0.91      0.92       298\n",
      " weighted avg       0.93      0.92      0.92       298\n",
      "\n"
     ]
    }
   ],
   "source": [
    "print(classification_report(test.Category, mnb_test_predictions, target_names=test_category_names))"
   ]
  },
  {
   "cell_type": "markdown",
   "metadata": {},
   "source": [
    "----\n",
    "Lo observado anteriormente lo podemos apreciar en esta tabla. En general parece que el clasificador tiene una precisión especialmente baja a la hora de predecir textos de la categoría 'business' (única categoría por debajo de 0.93 con un valor de 0.84) lo que puede ser debido a que es una categoría muy general, que puede abordar otros temas, por lo que es relativamente fácil clasificar un texto de otra categoría como de business. En cuanto al recall, es especialmente bajo para 'entertainment' con un valor de 0.82, lo cual puede ser debido a que como consecuencia de lo expuesto anteriormente un texto se pueda llegar a clasificar de otra categoría cuando en realidad es de 'entertainment'.\n",
    "\n",
    "El clasificador se comporta especialmente bien para la categoría 'sport' que tiene una precisión de 0.93 y un recall de 1.00. Como hemos observado en su relación con 'business' (se puede extrapolar también a otras como 'tech') quizás sea una de las categorías con menos relación con las demás y por ello no se confunde apenas."
   ]
  },
  {
   "cell_type": "markdown",
   "metadata": {},
   "source": [
    "#### k-NN"
   ]
  },
  {
   "cell_type": "code",
   "execution_count": 30,
   "metadata": {},
   "outputs": [
    {
     "name": "stdout",
     "output_type": "stream",
     "text": [
      "k-NN, porcentaje de aciertos en entrenamiento: 0.9546979865771812\n",
      "k-NN, porcentaje de aciertos en test: 0.9060402684563759\n"
     ]
    }
   ],
   "source": [
    "from sklearn import neighbors\n",
    "\n",
    "knn_classifier = neighbors.KNeighborsClassifier()\n",
    "knn_classifier.fit(train_preprocessed, train.Category)\n",
    "\n",
    "knn_train_predictions = knn_classifier.predict(train_preprocessed)\n",
    "knn_test_predictions = knn_classifier.predict(test_preprocessed)\n",
    "\n",
    "print(\"k-NN, porcentaje de aciertos en entrenamiento:\", np.mean(knn_train_predictions == train.Category))\n",
    "print(\"k-NN, porcentaje de aciertos en test:\", np.mean(knn_test_predictions == test.Category))"
   ]
  },
  {
   "cell_type": "markdown",
   "metadata": {},
   "source": [
    "----\n",
    "El porcentaje de acierto del clasificador k-NN para el conjunto de test es de un 90.6% y de un 95.5% sobre el conjunto de entrenamiento. En general parece que tiene un porcentaje de acierto un poco menor (entre un 2% y un 3%) que el modelo anterior."
   ]
  },
  {
   "cell_type": "code",
   "execution_count": 31,
   "metadata": {},
   "outputs": [],
   "source": [
    "from sklearn.metrics import classification_report, confusion_matrix"
   ]
  },
  {
   "cell_type": "code",
   "execution_count": 32,
   "metadata": {},
   "outputs": [
    {
     "data": {
      "text/plain": [
       "(array([0.5, 1.5, 2.5, 3.5, 4.5]),\n",
       " [Text(0.5, 0, 'business'),\n",
       "  Text(1.5, 0, 'entertainment'),\n",
       "  Text(2.5, 0, 'politics'),\n",
       "  Text(3.5, 0, 'sport'),\n",
       "  Text(4.5, 0, 'tech')])"
      ]
     },
     "execution_count": 32,
     "metadata": {},
     "output_type": "execute_result"
    },
    {
     "data": {
      "image/png": "[encoded data removed]",
      "text/plain": [
       "<Figure size 1080x720 with 2 Axes>"
      ]
     },
     "metadata": {
      "needs_background": "light"
     },
     "output_type": "display_data"
    }
   ],
   "source": [
    "conf_matrix = confusion_matrix(test.Category, knn_test_predictions)\n",
    "conf_matrix_df = pd.DataFrame(conf_matrix, index=test_category_names, columns=test_category_names)\n",
    "\n",
    "plt.figure(figsize=(15, 10))\n",
    "sn.heatmap(conf_matrix_df, annot=True, vmin=0, vmax=conf_matrix.max(), fmt='d', cmap=\"YlGnBu\")\n",
    "plt.yticks(rotation=0)\n",
    "plt.xticks(rotation=90)"
   ]
  },
  {
   "cell_type": "code",
   "execution_count": 33,
   "metadata": {},
   "outputs": [
    {
     "name": "stdout",
     "output_type": "stream",
     "text": [
      "               precision    recall  f1-score   support\n",
      "\n",
      "     business       0.88      0.87      0.87        68\n",
      "entertainment       0.98      0.82      0.90        57\n",
      "     politics       0.78      0.90      0.84        52\n",
      "        sport       0.96      1.00      0.98        76\n",
      "         tech       0.93      0.91      0.92        45\n",
      "\n",
      "     accuracy                           0.91       298\n",
      "    macro avg       0.91      0.90      0.90       298\n",
      " weighted avg       0.91      0.91      0.91       298\n",
      "\n"
     ]
    }
   ],
   "source": [
    "print(classification_report(test.Category, knn_test_predictions, target_names=test_category_names))"
   ]
  },
  {
   "cell_type": "markdown",
   "metadata": {},
   "source": [
    "----\n",
    "En media se observa que los valores son muy similares a los del clasificador naive bayes con una precisión un poco más baja y un recall ligeramente más alto lo que hace que tengan un f1-score prácticamente igual. Hay cuatro categorías con una precisión mayor que 0.93. En cuanto al recall no observamos ninguna categoría con un valor de 1 pero sin embargo todas tienen un valor por encima de 0.87. En general son clasificadores muy parecidos ya que el f1-score es muy similar para todas las categorías y en media es igual. La categoría 'sport' sigue teniendo los mejores valores para precisión y exhaustividad."
   ]
  },
  {
   "cell_type": "markdown",
   "metadata": {},
   "source": [
    "Como hemos visto en clase, un clasificador k-NN no es la mejor opción para esta clase de problemas ya que sufre de dimensionalidad buscando vecinos en un espacio de diimensiones muy grande. En este caso es muy acusado ya que hay menos instancias de entrenamiento (2384) que dimensiones tiene el problema (466551) por lo que no es lo más apropiado y los resultados puede que nos estén dando una 'falsa' sensación de que es un clasificador medianamente bueno."
   ]
  },
  {
   "cell_type": "markdown",
   "metadata": {},
   "source": [
    "Debido a las métricas analizadas y a la reflexión anterior, pensamos que el clasificador Naive Bayes Multinomial es más apropiado que el k-NN para este problema y este dataset."
   ]
  },
  {
   "cell_type": "markdown",
   "metadata": {
    "id": "mbqVVeAk3yvI"
   },
   "source": [
    "## 3) Representación basada en word-embeddings\n",
    "\n",
    "La segunda vectorización que vamos a usar representará los mensajes usando word-embeddings. Cada documento se representará como el vector que resulta de promediar los embeddings de cada una de sus palabras. Al igual que en el apartado anterior, usaremos monogramas y las _stop words_ que vienen configuradas por defecto para el inglés. Recuerda usar como vocabulario para vectorizar el vocabulario del fichero con las word-embeddings. \n",
    "\n",
    "Entrena un clasificador Naive Bayes Gaussiano (el Multinomial no admite valores negativos que sí aparecen en los embeddings). Analiza el error por clase y dibuja la matriz de confusión.\n",
    "\n",
    "Entrena otro clasificador kNN con la nueva vectorización y la configuración por defecto y analiza su error."
   ]
  },
  {
   "cell_type": "code",
   "execution_count": 34,
   "metadata": {
    "id": "uaJJB0Wp3yvJ"
   },
   "outputs": [],
   "source": [
    "import gensim\n",
    "from gensim.scripts.glove2word2vec import glove2word2vec\n",
    "from gensim.models import KeyedVectors\n",
    "\n",
    "globe_file='glove.6B.50d.txt'\n",
    "model = KeyedVectors.load_word2vec_format(globe_file, binary=False, no_header=True)"
   ]
  },
  {
   "cell_type": "code",
   "execution_count": 35,
   "metadata": {},
   "outputs": [],
   "source": [
    "we_vocabulary = list(model.key_to_index.keys())\n",
    "vectorizer = CountVectorizer(vocabulary = we_vocabulary, stop_words='english', binary = False)"
   ]
  },
  {
   "cell_type": "code",
   "execution_count": 36,
   "metadata": {},
   "outputs": [
    {
     "name": "stdout",
     "output_type": "stream",
     "text": [
      "400000\n"
     ]
    }
   ],
   "source": [
    "tokens = vectorizer.get_feature_names()\n",
    "print(len(tokens))"
   ]
  },
  {
   "cell_type": "code",
   "execution_count": 37,
   "metadata": {},
   "outputs": [],
   "source": [
    "train_vector_m = vectorizer.fit_transform(train.Text)\n",
    "test_vector_m = vectorizer.transform(test.Text)"
   ]
  },
  {
   "cell_type": "code",
   "execution_count": 38,
   "metadata": {},
   "outputs": [],
   "source": [
    "from scipy.sparse import find\n",
    "\n",
    "\n",
    "def create_doc_embedding (doc_matrix_word_freq, keyedvectors):\n",
    "    \"\"\"\n",
    "    create_doc_embedding creates a doc-embedding matrix where rows are the \n",
    "    documents and columns are the dimensions of the word-embedding. Each row r\n",
    "    summarizes the vectors of the word-embeddings present in document r\n",
    "\n",
    "    :param doc_matrix_word_freq: frequency matrix of the terms in each document\n",
    "            It admits binary values, frequencies or weights.\n",
    "            It admits the output of vectorizer.fit_transform\n",
    "    :param keyedvectors: keyedvectors object from Gensim which has the \n",
    "            word-embedding information\n",
    "    :return: returns the doc-embedding matrix that summarizes the \n",
    "             vector-embeddings of the words present in each document\n",
    "    \"\"\" \n",
    "\n",
    "    \n",
    "    num_docs, num_words= doc_matrix_word_freq.get_shape()\n",
    "\n",
    "    # Creamos la matriz de documentos con tantas columnas como dimensiones tiene el we \n",
    "    doc_embed_matrix = np.zeros([num_docs,keyedvectors.vector_size])\n",
    "\n",
    "\n",
    "    # Obtenemos los documentos\n",
    "    docs, col, val = find(doc_matrix_word_freq)\n",
    "    docs = np.unique(docs)\n",
    "\n",
    "    # Para cada documento (esto se podrá hacer de forma más pythonica)\n",
    "    for doc in docs:\n",
    "      # Obtenemos las palabras presentes en el documento y su frecuencia\n",
    "      row, words, frecs = find(doc_matrix_word_freq[doc,:])\n",
    "\n",
    "      # Calculamos el vector medio para el documento\n",
    "      # Para ello recuperamos los vectores del we presentes en el documento y \n",
    "      # los promediamos teniendo en cuenta su frecuencia\n",
    "      count = 0\n",
    "      for w,f in zip(words,frecs):\n",
    "        doc_embed_matrix[doc,:] = doc_embed_matrix[doc,:] + (keyedvectors[w] * f)\n",
    "        count = count +1\n",
    "      doc_embed_matrix[doc,:] = doc_embed_matrix[doc,:]/count\n",
    "    \n",
    "      \n",
    "    return doc_embed_matrix"
   ]
  },
  {
   "cell_type": "code",
   "execution_count": 39,
   "metadata": {},
   "outputs": [],
   "source": [
    "doc_embed_matrix_train = create_doc_embedding(train_vector_m,model)\n",
    "doc_embed_matrix_test = create_doc_embedding(test_vector_m,model)\n",
    "# contiene un vector \"embedding\" para cada documento"
   ]
  },
  {
   "cell_type": "markdown",
   "metadata": {},
   "source": [
    "#### Naive Bayes"
   ]
  },
  {
   "cell_type": "code",
   "execution_count": 40,
   "metadata": {},
   "outputs": [
    {
     "data": {
      "text/plain": [
       "GaussianNB()"
      ]
     },
     "execution_count": 40,
     "metadata": {},
     "output_type": "execute_result"
    }
   ],
   "source": [
    "from sklearn.naive_bayes import GaussianNB\n",
    "\n",
    "gnb_classifier = GaussianNB()\n",
    "gnb_classifier.fit(doc_embed_matrix_train, train.Category)"
   ]
  },
  {
   "cell_type": "code",
   "execution_count": 41,
   "metadata": {},
   "outputs": [
    {
     "name": "stdout",
     "output_type": "stream",
     "text": [
      "Gaussian Naive Bayes, porcentaje de aciertos en entrenamiento: 0.9454697986577181\n",
      "Gaussian Naive Bayes, porcentaje de aciertos en test: 0.9194630872483222\n"
     ]
    }
   ],
   "source": [
    "gnb_train_predictions = gnb_classifier.predict(doc_embed_matrix_train)\n",
    "gnb_test_predictions = gnb_classifier.predict(doc_embed_matrix_test)\n",
    "\n",
    "print(\"Gaussian Naive Bayes, porcentaje de aciertos en entrenamiento:\", np.mean(gnb_train_predictions == train.Category))\n",
    "print(\"Gaussian Naive Bayes, porcentaje de aciertos en test:\", np.mean(gnb_test_predictions == test.Category))"
   ]
  },
  {
   "cell_type": "markdown",
   "metadata": {},
   "source": [
    "El clasificador Naive Bayes Gaussiano con la vectorización mediante word-embeddings obtiene un porcentaje de acierto sobre el conjunto de entrenamiento del 94.5%, pero lo que más nos interesa que es el porcentaje de acierto con respecto al test es del 91.15%. Los valores son muy simila"
   ]
  },
  {
   "cell_type": "code",
   "execution_count": 42,
   "metadata": {},
   "outputs": [
    {
     "data": {
      "text/plain": [
       "(array([0.5, 1.5, 2.5, 3.5, 4.5]),\n",
       " [Text(0.5, 0, 'business'),\n",
       "  Text(1.5, 0, 'entertainment'),\n",
       "  Text(2.5, 0, 'politics'),\n",
       "  Text(3.5, 0, 'sport'),\n",
       "  Text(4.5, 0, 'tech')])"
      ]
     },
     "execution_count": 42,
     "metadata": {},
     "output_type": "execute_result"
    },
    {
     "data": {
      "image/png": "[encoded data removed]",
      "text/plain": [
       "<Figure size 1080x720 with 2 Axes>"
      ]
     },
     "metadata": {
      "needs_background": "light"
     },
     "output_type": "display_data"
    }
   ],
   "source": [
    "conf_matrix = confusion_matrix(test.Category, gnb_test_predictions)\n",
    "conf_matrix_df = pd.DataFrame(conf_matrix, index=test_category_names, columns=test_category_names)\n",
    "\n",
    "plt.figure(figsize=(15, 10))\n",
    "sn.heatmap(conf_matrix_df, annot=True, vmin=0, vmax=conf_matrix.max(), fmt='d', cmap=\"YlGnBu\")\n",
    "plt.yticks(rotation=0)\n",
    "plt.xticks(rotation=90)"
   ]
  },
  {
   "cell_type": "code",
   "execution_count": 43,
   "metadata": {},
   "outputs": [
    {
     "name": "stdout",
     "output_type": "stream",
     "text": [
      "               precision    recall  f1-score   support\n",
      "\n",
      "     business       0.90      0.94      0.92        68\n",
      "entertainment       0.98      0.84      0.91        57\n",
      "     politics       0.82      0.90      0.86        52\n",
      "        sport       0.99      0.97      0.98        76\n",
      "         tech       0.89      0.91      0.90        45\n",
      "\n",
      "     accuracy                           0.92       298\n",
      "    macro avg       0.92      0.91      0.91       298\n",
      " weighted avg       0.92      0.92      0.92       298\n",
      "\n"
     ]
    }
   ],
   "source": [
    "print(classification_report(test.Category, gnb_test_predictions, target_names=test_category_names))"
   ]
  },
  {
   "cell_type": "markdown",
   "metadata": {},
   "source": [
    "A simple vista el dato que más llama la atención es la baja precisión (0.82) a la hora de predecir la categoría 'politics'  ya que como podemos observar en la tabla califica de 'politics' varios textos que en realidad deberían ser etiquetados como 'entertainment', razón por la cual la exhaustividad/recall de 'entertainment' también es bastante baja con un valor de 0.84. Asimismo la precisión de 'business' es algo baja debido a los textos que confunde con 'politics', lo que hace que el recall de esta clase también disminuya.\n",
    "\n",
    "Comparando con las predicciones anteriores observamos que no hay gran diferencia en cuanto al parámetro f1-score, lo que indica que este predictor es tan bueno como los anteriores.\n",
    "\n",
    "Observamos que al igual que en los casos anteriores obtenemos los mejores valores para predecir la categoría 'sport' con un f1-score de 0.98 mientras los demás no pasan de 0.92. Que esto haya sucedido en la mayoría de clasificadores prácticamente nos confirma que esta categoría es la más 'fácil' de predecir ya que como hemos apuntado antes, probablemente sea la que más se diferencia de las demás."
   ]
  },
  {
   "cell_type": "markdown",
   "metadata": {},
   "source": [
    "### k-NN"
   ]
  },
  {
   "cell_type": "code",
   "execution_count": 44,
   "metadata": {},
   "outputs": [
    {
     "name": "stdout",
     "output_type": "stream",
     "text": [
      "k-NN, porcentaje de aciertos en entrenamiento: 0.9731543624161074\n",
      "k-NN, porcentaje de aciertos en test: 0.9328859060402684\n"
     ]
    }
   ],
   "source": [
    "knn_classifier = neighbors.KNeighborsClassifier()\n",
    "knn_classifier.fit(doc_embed_matrix_train, train.Category)\n",
    "\n",
    "knn_train_predictions = knn_classifier.predict(doc_embed_matrix_train)\n",
    "knn_test_predictions_2 = knn_classifier.predict(doc_embed_matrix_test)\n",
    "\n",
    "print(\"k-NN, porcentaje de aciertos en entrenamiento:\", np.mean(knn_train_predictions == train.Category))\n",
    "print(\"k-NN, porcentaje de aciertos en test:\", np.mean(knn_test_predictions_2 == test.Category))"
   ]
  },
  {
   "cell_type": "code",
   "execution_count": 45,
   "metadata": {},
   "outputs": [
    {
     "data": {
      "text/plain": [
       "(array([0.5, 1.5, 2.5, 3.5, 4.5]),\n",
       " [Text(0.5, 0, 'business'),\n",
       "  Text(1.5, 0, 'entertainment'),\n",
       "  Text(2.5, 0, 'politics'),\n",
       "  Text(3.5, 0, 'sport'),\n",
       "  Text(4.5, 0, 'tech')])"
      ]
     },
     "execution_count": 45,
     "metadata": {},
     "output_type": "execute_result"
    },
    {
     "data": {
      "image/png": "[encoded data removed]",
      "text/plain": [
       "<Figure size 1080x720 with 2 Axes>"
      ]
     },
     "metadata": {
      "needs_background": "light"
     },
     "output_type": "display_data"
    }
   ],
   "source": [
    "conf_matrix = confusion_matrix(test.Category, knn_test_predictions_2)\n",
    "conf_matrix_df = pd.DataFrame(conf_matrix, index=test_category_names, columns=test_category_names)\n",
    "\n",
    "plt.figure(figsize=(15, 10))\n",
    "sn.heatmap(conf_matrix_df, annot=True, vmin=0, vmax=conf_matrix.max(), fmt='d', cmap=\"YlGnBu\")\n",
    "plt.yticks(rotation=0)\n",
    "plt.xticks(rotation=90)"
   ]
  },
  {
   "cell_type": "code",
   "execution_count": 46,
   "metadata": {},
   "outputs": [
    {
     "name": "stdout",
     "output_type": "stream",
     "text": [
      "               precision    recall  f1-score   support\n",
      "\n",
      "     business       0.93      0.91      0.92        68\n",
      "entertainment       0.98      0.86      0.92        57\n",
      "     politics       0.84      0.94      0.89        52\n",
      "        sport       0.99      1.00      0.99        76\n",
      "         tech       0.91      0.93      0.92        45\n",
      "\n",
      "     accuracy                           0.93       298\n",
      "    macro avg       0.93      0.93      0.93       298\n",
      " weighted avg       0.94      0.93      0.93       298\n",
      "\n"
     ]
    }
   ],
   "source": [
    "print(classification_report(test.Category, knn_test_predictions_2, target_names=test_category_names))"
   ]
  },
  {
   "cell_type": "markdown",
   "metadata": {},
   "source": [
    "Para el k-NN obtenemos valores altos de precisión excepto para la categoría 'politics' para la cual es especialmente bajo ya que en este caso confunde estos textos con 'entertainment' y 'business'. En cuanto al recall, este mejora en todas las clases respecto de la vectorización anterior en el k-NN.\n",
    "\n",
    "'Sport' vuelve a ser la cateogoría que mejor clasifica el modelo con bastante diferencia ya que da el mejor valor de f1-score con 0.99, teniendo una precisión de 0.99 y un recall de 1.00.\n",
    "\n",
    "En general parece ligeramente mejor que cualquiera de los clasificadores anteriores si nos fijamos en los valores medios ponderados de las métricas."
   ]
  },
  {
   "cell_type": "markdown",
   "metadata": {
    "id": "XmM1ftJe3yvK"
   },
   "source": [
    "## 4) Análisis comparativo final\n",
    "\n",
    "Hemos entrenado dos clasificadores usando dos vectorizaciones diferentes de los datos. Compara la tasa de acierto de todos ellos y explica a qué crees que se deben las diferencias.\n",
    "\n",
    "Busca un mensaje mal clasificado por el Naive Bayes con vectorización de frecuencias y otro mal clasificado por el k-NN con Word-embeddings. Analiza los vectores de términos de dichos mensajes e intenta razonar por qué ha sido clasificado erróneamente.\n",
    "\n",
    "Para el Naive Bayes con vectorización de frecuencias, elige dos clases donde el clasificador no haya funcionado bien y analiza las palabras más relevantes para clasificar una noticia como de dichas clases. Razona si lo que ves crees que influye en la posible confusión a la hora de clasificar entre dichas clases."
   ]
  },
  {
   "cell_type": "markdown",
   "metadata": {},
   "source": [
    "----\n",
    "Como ya hemos dicho antes los k-NN no deberian funcionar bien ya que debido al alto número de dimensiones buscar vecinos cercanos puede no funcionar correctamente. Esto se puede observar en el clasificador k-NN con la primera vectorización. Pensamos que la segunda vectorización debería funcionar mejor ya que hace uso de un mayor número de términos de los textos, lo que se traduce en más información útil. Sin embargo, con esta vectorización no se aprecia gran mejoría en los resultados, lo que se puede deber a un tamaño insuficiente del corpus que distorsione los resultados."
   ]
  },
  {
   "cell_type": "code",
   "execution_count": 47,
   "metadata": {},
   "outputs": [
    {
     "name": "stdout",
     "output_type": "stream",
     "text": [
      "18\n",
      "Categoría real:  politics\n",
      "Categorba predicha con Naive Bayes y vectorización de frecuencias:  business\n"
     ]
    }
   ],
   "source": [
    "#Calculamos la posición de la primera predicción errónea del modelo\n",
    "i = 0;\n",
    "cat = np.array(test.Category)\n",
    "while cat[i] == mnb_test_predictions[i]:\n",
    "    i+=1\n",
    "print(i)\n",
    "print(\"Categoría real: \", cat[i])\n",
    "print(\"Categorba predicha con Naive Bayes y vectorización de frecuencias: \", mnb_test_predictions[i])"
   ]
  },
  {
   "cell_type": "code",
   "execution_count": 48,
   "metadata": {},
   "outputs": [
    {
     "name": "stdout",
     "output_type": "stream",
     "text": [
      "Mensaje 18 : job cuts  false economy   - tuc plans to shed 71 000 civil service jobs will prove to be a  false economy  that could hamper public sector reforms  according to a tuc report.  public and commercial services union members have already voted to strike over cuts for one day on 5 november. the tuc said cuts would deliver less than 6% of the £22bn ministers hope to save through efficiency reforms. general secretary brendan barber warned the  costs could easily outweigh the benefits .  the government s big boost to public spending is now showing results   said mr barber.  public services are improving but looking for simple savings through job cuts at this stage could be a false economy.   they may shoot a tory fox  but cutting thousands of civil service jobs will hit the morale and capabilities of the public servants expected to implement government reforms. the costs could easily outweigh the benefits.  next friday s strike action by the pcs is the biggest in the civil service since 1993  hitting jobcentres  benefit agencies  pensions offices  customs and driving tests. the union says it is concerned about pensions  sick pay and forced relocation as well as the cut in jobs. last month it was announced that a total of 37 social security offices and jobcentres across the uk would close in the first wave of plans to shed civil service jobs. the number of civil servants in britain rose to more than 520 000 in april. other areas the strike will affect include passports  museums and galleries  libraries and health and safety inspections.\n",
      "Mensaje 18 vectorizado: ['according' 'action' 'affect' 'agencies' 'announced' 'areas' 'benefit'\n",
      " 'benefits' 'big' 'biggest' 'boost' 'capabilities' 'civil' 'commercial'\n",
      " 'concerned' 'costs' 'customs' 'cutting' 'deliver' 'driving' 'easily'\n",
      " 'efficiency' 'expected' 'forced' 'galleries' 'general' 'government'\n",
      " 'hamper' 'health' 'hit' 'hitting' 'implement' 'improving' 'include'\n",
      " 'inspections' 'jobs' 'libraries' 'looking' 'members' 'ministers' 'month'\n",
      " 'morale' 'museums' 'number' 'offices' 'outweigh' 'pay' 'passports'\n",
      " 'pensions' 'plans' 'prove' 'reforms' 'relocation' 'report' 'results'\n",
      " 'safety' 'said' 'says' 'savings' 'secretary' 'sector' 'security'\n",
      " 'servants' 'services' 'shed' 'shoot' 'showing' 'sick' 'simple' 'social'\n",
      " 'spending' 'strike' 'tests' 'thousands' 'total' 'voted' 'warned'] \n",
      "\n"
     ]
    }
   ],
   "source": [
    "write_terms(feature_names, np.array(test), test_vector_data, 18)"
   ]
  },
  {
   "cell_type": "markdown",
   "metadata": {},
   "source": [
    "----\n",
    "Antes de analizar el texto en cuestión debemos tener en cuenta que estos dos temas están estrechamente relacionados, pues una gran parte de la política trata las regulaciones económicas. Es por tanto entendible que estas dos categorñias se confundan y algunas de las palabras que han  podido llevar al modelo a elegir la categoría 'business' en lugar de 'politics' son _benefit_, _efficiency_, _commercial_, _jobs_ o _pay_. Asimismo también hay palabras que parecen más propias del campo de la política como _ministers_, _civil_, _social_, _voted_ o _government_. Cabe también destacar palabras que aparecen en el texto pero no en la vectorización y que podrían haber ayudado a decidirse por 'politics' como por ejemplo _economy_ y _public_."
   ]
  },
  {
   "cell_type": "code",
   "execution_count": 49,
   "metadata": {
    "id": "vqZdbiiV3yvS"
   },
   "outputs": [
    {
     "name": "stdout",
     "output_type": "stream",
     "text": [
      "24\n",
      "Categoría real:  tech\n",
      "Categoría predicha con k-NN y word-embeddings:  business\n"
     ]
    }
   ],
   "source": [
    "#Calculamos la posición de una predicción errónea del modelo\n",
    "i = 20;\n",
    "while cat[i] == knn_test_predictions_2[i]:\n",
    "    i+=1\n",
    "print(i)\n",
    "print(\"Categoría real: \", cat[i])\n",
    "print(\"Categoría predicha con k-NN y word-embeddings: \", knn_test_predictions_2[i])"
   ]
  },
  {
   "cell_type": "code",
   "execution_count": 50,
   "metadata": {},
   "outputs": [
    {
     "name": "stdout",
     "output_type": "stream",
     "text": [
      "Mensaje 24 : anti-spam laws bite spammer hard the net s self-declared spam king is seeking bankruptcy protection.  scott richter  the man behind optinrealbig.com and billions of junk mail messages  said lawsuits had forced the company into chapter 11. optinrealbig was fighting several legal battles  most notably against microsoft  which is pushing for millions of dollars in damages. the company said filing for chapter 11 would help it try to resolve its legal problems but still keep trading.  listed as the third biggest spammer in the world by junk mail watchdog spamhaus  optinrealbig was sued in december 2003 for sending mail messages that violated anti-spam laws. the lawsuit was brought by microsoft and new york attorney general eliot spitzer who alleged that mr richter and his accomplices sent billions of spam messages through 514 compromised net addresses in 35 countries. according to microsoft the messages were sent via net addresses owned by the kuwait ministries of communication and finance  several korean schools  the seoul municipal boramae hospital  and the virginia community college system. mr richter settled the attorney general case in july 2004 but the legal fight with microsoft is continuing. microsoft is seeking millions in dollars in damages from optinrealbig under anti-spam laws that impose penalties for every violation. in a statement announcing the desire to seek bankruptcy protection the company said it:  could not continue to contend with legal maneuvers (sic) by a number of companies across the country  including microsoft  and still run a viable business.  in its chapter 11 filing optinrealbig claimed it had assets of less than $10m (£5.29m) but debts of more than $50m which included the $46m that microsoft is seeking via its lawsuit.  the litigation has been a relentless distraction with which to contend   said steven richter  legal counsel for optinrealbig.  but  make no mistake  we do expect to prevail.  for its part optinrealbig describes itself as a premier internet marketing company and said the move to seek chapter 11 was necessary to let it keep trading while sorting out its legal battles.\n",
      "Mensaje 24 vectorizado: ['said' 'new' 'world' 'country' 'company' 'including' 'make' 'york'\n",
      " 'according' 'general' 'number' 'dollars' 'countries' 'business' 'help'\n",
      " 'man' 'case' 'run' 'companies' 'statement' 'july' '11' 'december'\n",
      " 'college' 'community' 'hard' 'continue' 'problems' 'included' 'sent'\n",
      " 'king' '2004' 'hospital' '2003' 'fighting' 'anti' 'legal' 'fight' 'try'\n",
      " 'brought' 'trading' 'biggest' 'let' 'schools' 'internet' 'forced' 'net'\n",
      " 'korean' 'claimed' 'owned' 'finance' 'attorney' 'seeking' 'premier'\n",
      " 'mail' 'protection' 'laws' 'self' 'necessary' 'expect' 'alleged'\n",
      " 'declared' 'virginia' '35' 'listed' 'seek' 'millions' 'scott' 'assets'\n",
      " 'microsoft' 'marketing' 'continuing' 'sending' 'settled' 'lawsuit'\n",
      " 'municipal' 'kuwait' 'resolve' 'pushing' 'bankruptcy' 'desire' 'seoul'\n",
      " 'communication' 'notably' 'mistake' 'chapter' 'messages' 'counsel'\n",
      " 'steven' 'describes' 'battles' 'violation' 'impose' 'penalties'\n",
      " 'billions' 'damages' 'violated' 'filing' 'announcing' 'lawsuits' 'debts'\n",
      " 'sued' 'watchdog' 'mr' 'ministries' 'contend' 'addresses' 'viable'\n",
      " 'litigation' 'bite' 'richter' 'com' 'junk' 'prevail' 'relentless'\n",
      " 'spitzer' 'maneuvers' 'compromised' 'eliot' 'distraction' 'spam'\n",
      " 'accomplices' 'sorting' '50m' 'sic' '10m' '514' 'spammer' 'spamhaus'\n",
      " '46m' '29m'] \n",
      "\n"
     ]
    }
   ],
   "source": [
    "write_terms(tokens, np.array(test), test_vector_m, 24)"
   ]
  },
  {
   "cell_type": "markdown",
   "metadata": {},
   "source": [
    "----\n",
    "A priori no son dos categorías muy relacionadas, sin embargo en ciertas áreas sí que se puede encontrar una intersección entre estos dos temas. Un ejemplo de esto sería la prensa sobre la industria tecnológica, que de hecho es donde se podría enmarcar este texto. Algunas de las palabras que han podido llevar al clasificador a decidirse por la categoría 'business' en lugar de 'tech' son _dollars_, _company_, _business_, _bankruptcy_, _finance_ o _marketing_. Aun así hay muchas palabras que hacen pensar que este texto podría haber sido clasificado en 'tech' como _microsoft_, _com_, _net_, _watchdog_ o _spam_. A pesar de todas estas palabras es lógico que el clasificador haya podido confundirse entre estas dos categorías."
   ]
  },
  {
   "cell_type": "code",
   "execution_count": 51,
   "metadata": {},
   "outputs": [],
   "source": [
    "def print_top20_features_per_class_in_NB(vectorizer, clf, class_labels):\n",
    "    \"\"\"Prints features with the highest coefficient values, per class\"\"\"\n",
    "    feature_names = vectorizer.get_feature_names()\n",
    "    print(\"Top 20 features per class\\n\")\n",
    "    for i, class_label in enumerate(class_labels):\n",
    "        top20 = np.argsort(clf.feature_log_prob_[i])[-20:]\n",
    "        reversed_top = top20[::-1]\n",
    "        \n",
    "        print(\"%s: %s\" % (class_label,\n",
    "              \" / \".join(feature_names[j] for j in reversed_top)),'\\n')"
   ]
  },
  {
   "cell_type": "code",
   "execution_count": 52,
   "metadata": {},
   "outputs": [],
   "source": [
    "vectorizer = CountVectorizer(vocabulary=dictionary, stop_words='english')   "
   ]
  },
  {
   "cell_type": "code",
   "execution_count": 53,
   "metadata": {},
   "outputs": [
    {
     "name": "stdout",
     "output_type": "stream",
     "text": [
      "Top 20 features per class\n",
      "\n",
      "business: said / firm / growth / oil / company / year / shares / sales / economic / profits / deal / prices / financial / government / business / chief / analysts / rates / companies / group \n",
      "\n",
      "entertainment: film / music / awards / band / said / award / album / films / year / festival / director / chart / number / actress / musical / nominated / comedy / including / movie / theatre \n",
      "\n",
      "politics: labour / said / election / party / government / minister / prime / tax / people / leader / plans / secretary / campaign / general / told / council / spokesman / says / local / police \n",
      "\n",
      "sport: game / said / cup / players / match / team / world / injury / final / play / year / coach / club / champion / half / second / open / arsenal / league / minutes \n",
      "\n",
      "tech: people / said / software / users / technology / phone / digital / music / computer / games / online / broadband / virus / search / video / phones / internet / million / mail / information \n",
      "\n"
     ]
    }
   ],
   "source": [
    "print_top20_features_per_class_in_NB(vectorizer, mnb_classifier, test_category_names)"
   ]
  },
  {
   "cell_type": "markdown",
   "metadata": {},
   "source": [
    "----\n",
    "Las clases que obtuvieron menos f1-score fueron 'tech' y 'entertainment', así que serán las que analizaremos. Cabe destacar, lo primero de todo, que la palabra _said_ aparece entre las más usadas para clasificar los textos en todas las categorías, lo cual es poco útil pues ante la aparición de esta palabra no se obtiene demasiada información para discriminar el tip de texto del que se trata. En cuanto a la clase 'tech', entre las palabras destacadas podemos encontrar _people_, _music_ o _search_, que son palabras muy comunes en el inglés y que pueden estar en otra categoría. Por ejemplo _music_ podría ser perfectamente una palabra muy usada en 'entertainment' y _people_ en 'politics', lo que podría llevar a clasificar textos de estas categorías como 'tech'. En cuanto a 'entertainment' podemos observar el mismo fenómeno con palabras como _year_, _chart_ y _number_ aunque sí que se aprecian términos más específicos del tema, lo que lleva a que tenga un mayor f1-score.\n",
    "\n",
    "Por otro lado, lo que hace que una clase obtenga menor f1-score es que sus términos más específicos sean palabras que pueden aparecer con frecuencia también en otros ámbitos y por tanto en textos clasificados como de otras categorías. Esto ocurre más en las clases 'tech' y 'entertainment', y por eso tienen un valor más bajo en su f1-score. Ejemplos de esto pueden ser _information_, _internet_, _awards_ o _director_, que siendo específicos de su tema pueden aparecer en otros contextos."
   ]
  }
 ],
 "metadata": {
  "colab": {
   "name": "P1_clasificaccion_texto_2122_enunciado.ipynb",
   "provenance": []
  },
  "kernelspec": {
   "display_name": "Python 3 (ipykernel)",
   "language": "python",
   "name": "python3"
  },
  "language_info": {
   "codemirror_mode": {
    "name": "ipython",
    "version": 3
   },
   "file_extension": ".py",
   "mimetype": "text/x-python",
   "name": "python",
   "nbconvert_exporter": "python",
   "pygments_lexer": "ipython3",
   "version": "3.9.7"
  }
 },
 "nbformat": 4,
 "nbformat_minor": 1
}
