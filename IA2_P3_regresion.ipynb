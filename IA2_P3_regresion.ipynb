{
 "cells": [
  {
   "cell_type": "markdown",
   "id": "4bd016e1",
   "metadata": {
    "id": "patent-amazon"
   },
   "source": [
    "# Práctica 1: Aprendizaje automático\n",
    "\n",
    "__Fecha de entrega: 9 de marzo de 2022__\n",
    "\n",
    "El objetivo de esta práctica es aplicar los distintos algoritmos de aprendizaje automático disponibles en la scikit-learn [sklearn](https://scikit-learn.org/stable/) sobre varios conjuntos de datos y aprender a interpretar los resultados obtenidos. La práctica consta de 3 notebooks que se entregarán simultáneamente en la tarea de entrega habilitada en el Campus  Virtual.\n",
    "\n",
    "Lo más importante en esta práctica no es el código Python, sino el análisis de los datos y modelos que construyas y las explicaciones razonadas de cada una de las decisiones que tomes. __No se valorarán trozos de código o gráficas sin ningún tipo de contexto o explicación__.\n",
    "\n",
    "Finalmente, recuerda establecer el parámetro `random_state` en todas las funciones que tomen decisiones aleatorias para que los resultados sean reproducibles (los resultados no varíen entre ejecuciones)."
   ]
  },
  {
   "cell_type": "markdown",
   "id": "34b2271a",
   "metadata": {
    "id": "toxic-floor"
   },
   "source": [
    "## Apartado 3: Regresión"
   ]
  },
  {
   "cell_type": "markdown",
   "id": "fb231abf",
   "metadata": {
    "id": "formed-bruce"
   },
   "source": [
    "__Número de grupo: XX__\n",
    "\n",
    "__Nombres de los estudiantes: Rubén Gómez, Adrián Pérez y Adrián Sanjuán__"
   ]
  },
  {
   "cell_type": "markdown",
   "id": "c74f4b36",
   "metadata": {
    "id": "fancy-sympathy"
   },
   "source": [
    "En este notebook trabajaremos con un conjunto de datos tomado del repositorio de la Universidad de California Irvine. En concreto, se trata de un conjunto de datos sobre distintos vinos del norte de Portugal (vinho verde)  que puedes encontrar [aquí](https://archive.ics.uci.edu/ml/datasets/wine+quality). \n",
    "\n",
    "El objetivo es modelar la calidad del vino (con un valor de 0 a 10) en base a variables que reflejan sus propiedades físicas y químicas. En concreto, las propiedades son las siguientes:\n",
    "- fixed acidity\n",
    "- volatile acidity\n",
    "- citric acid\n",
    "- residual sugar\n",
    "- chlorides\n",
    "- free sulfur dioxide\n",
    "- total sulfur dioxide\n",
    "- density\n",
    "- pH\n",
    "- sulphates\n",
    "- alcohol \n",
    "\n",
    "De cara a la memoria que vas a realizar puedes investigar sobre estas propiedades para explicar mejor qué miden y cómo afectan al vino. \n",
    "\n",
    "La calidad del vino es una variable que toma valores entre 0 y 10. \n",
    "\n",
    "Para modelar la relación entre la calidad del vino y sus propiedades usaremos una red neuronal. "
   ]
  },
  {
   "cell_type": "markdown",
   "id": "02b351ee",
   "metadata": {
    "id": "heated-biotechnology"
   },
   "source": [
    "### 1) Descripción de los datos\n",
    "\n",
    "Carga el fichero de datos `calidad_vinos.csv` en un dataframe. \n",
    "\n",
    "Describe el conjunto de datos e identifica aquella variable que tiene unos valores extremos más acusados con respecto a la media, y aquella que está más concentrada en torno a la media. Reflexiona sobre la posible influencia de estas variables a la hora de entrenar el perceptrón multicapa.\n",
    "\n",
    "Estudia la distribución de la calidad del vino en el conjunto de datos."
   ]
  },
  {
   "cell_type": "code",
   "execution_count": 40,
   "id": "d396d764",
   "metadata": {},
   "outputs": [],
   "source": [
    "import numpy as np\n",
    "import pandas as pd"
   ]
  },
  {
   "cell_type": "code",
   "execution_count": 41,
   "id": "52d237fa",
   "metadata": {},
   "outputs": [
    {
     "data": {
      "text/html": [
       "<div>\n",
       "<style scoped>\n",
       "    .dataframe tbody tr th:only-of-type {\n",
       "        vertical-align: middle;\n",
       "    }\n",
       "\n",
       "    .dataframe tbody tr th {\n",
       "        vertical-align: top;\n",
       "    }\n",
       "\n",
       "    .dataframe thead th {\n",
       "        text-align: right;\n",
       "    }\n",
       "</style>\n",
       "<table border=\"1\" class=\"dataframe\">\n",
       "  <thead>\n",
       "    <tr style=\"text-align: right;\">\n",
       "      <th></th>\n",
       "      <th>fixed acidity</th>\n",
       "      <th>volatile acidity</th>\n",
       "      <th>citric acid</th>\n",
       "      <th>residual sugar</th>\n",
       "      <th>chlorides</th>\n",
       "      <th>free sulfur dioxide</th>\n",
       "      <th>total sulfur dioxide</th>\n",
       "      <th>density</th>\n",
       "      <th>pH</th>\n",
       "      <th>sulphates</th>\n",
       "      <th>alcohol</th>\n",
       "      <th>quality</th>\n",
       "    </tr>\n",
       "  </thead>\n",
       "  <tbody>\n",
       "    <tr>\n",
       "      <th>0</th>\n",
       "      <td>7.4</td>\n",
       "      <td>0.700</td>\n",
       "      <td>0.00</td>\n",
       "      <td>1.9</td>\n",
       "      <td>0.076</td>\n",
       "      <td>11.0</td>\n",
       "      <td>34.0</td>\n",
       "      <td>0.99780</td>\n",
       "      <td>3.51</td>\n",
       "      <td>0.56</td>\n",
       "      <td>9.4</td>\n",
       "      <td>5</td>\n",
       "    </tr>\n",
       "    <tr>\n",
       "      <th>1</th>\n",
       "      <td>7.8</td>\n",
       "      <td>0.880</td>\n",
       "      <td>0.00</td>\n",
       "      <td>2.6</td>\n",
       "      <td>0.098</td>\n",
       "      <td>25.0</td>\n",
       "      <td>67.0</td>\n",
       "      <td>0.99680</td>\n",
       "      <td>3.20</td>\n",
       "      <td>0.68</td>\n",
       "      <td>9.8</td>\n",
       "      <td>5</td>\n",
       "    </tr>\n",
       "    <tr>\n",
       "      <th>2</th>\n",
       "      <td>7.8</td>\n",
       "      <td>0.760</td>\n",
       "      <td>0.04</td>\n",
       "      <td>2.3</td>\n",
       "      <td>0.092</td>\n",
       "      <td>15.0</td>\n",
       "      <td>54.0</td>\n",
       "      <td>0.99700</td>\n",
       "      <td>3.26</td>\n",
       "      <td>0.65</td>\n",
       "      <td>9.8</td>\n",
       "      <td>5</td>\n",
       "    </tr>\n",
       "    <tr>\n",
       "      <th>3</th>\n",
       "      <td>11.2</td>\n",
       "      <td>0.280</td>\n",
       "      <td>0.56</td>\n",
       "      <td>1.9</td>\n",
       "      <td>0.075</td>\n",
       "      <td>17.0</td>\n",
       "      <td>60.0</td>\n",
       "      <td>0.99800</td>\n",
       "      <td>3.16</td>\n",
       "      <td>0.58</td>\n",
       "      <td>9.8</td>\n",
       "      <td>6</td>\n",
       "    </tr>\n",
       "    <tr>\n",
       "      <th>4</th>\n",
       "      <td>7.4</td>\n",
       "      <td>0.700</td>\n",
       "      <td>0.00</td>\n",
       "      <td>1.9</td>\n",
       "      <td>0.076</td>\n",
       "      <td>11.0</td>\n",
       "      <td>34.0</td>\n",
       "      <td>0.99780</td>\n",
       "      <td>3.51</td>\n",
       "      <td>0.56</td>\n",
       "      <td>9.4</td>\n",
       "      <td>5</td>\n",
       "    </tr>\n",
       "    <tr>\n",
       "      <th>...</th>\n",
       "      <td>...</td>\n",
       "      <td>...</td>\n",
       "      <td>...</td>\n",
       "      <td>...</td>\n",
       "      <td>...</td>\n",
       "      <td>...</td>\n",
       "      <td>...</td>\n",
       "      <td>...</td>\n",
       "      <td>...</td>\n",
       "      <td>...</td>\n",
       "      <td>...</td>\n",
       "      <td>...</td>\n",
       "    </tr>\n",
       "    <tr>\n",
       "      <th>1594</th>\n",
       "      <td>6.2</td>\n",
       "      <td>0.600</td>\n",
       "      <td>0.08</td>\n",
       "      <td>2.0</td>\n",
       "      <td>0.090</td>\n",
       "      <td>32.0</td>\n",
       "      <td>44.0</td>\n",
       "      <td>0.99490</td>\n",
       "      <td>3.45</td>\n",
       "      <td>0.58</td>\n",
       "      <td>10.5</td>\n",
       "      <td>5</td>\n",
       "    </tr>\n",
       "    <tr>\n",
       "      <th>1595</th>\n",
       "      <td>5.9</td>\n",
       "      <td>0.550</td>\n",
       "      <td>0.10</td>\n",
       "      <td>2.2</td>\n",
       "      <td>0.062</td>\n",
       "      <td>39.0</td>\n",
       "      <td>51.0</td>\n",
       "      <td>0.99512</td>\n",
       "      <td>3.52</td>\n",
       "      <td>0.76</td>\n",
       "      <td>11.2</td>\n",
       "      <td>6</td>\n",
       "    </tr>\n",
       "    <tr>\n",
       "      <th>1596</th>\n",
       "      <td>6.3</td>\n",
       "      <td>0.510</td>\n",
       "      <td>0.13</td>\n",
       "      <td>2.3</td>\n",
       "      <td>0.076</td>\n",
       "      <td>29.0</td>\n",
       "      <td>40.0</td>\n",
       "      <td>0.99574</td>\n",
       "      <td>3.42</td>\n",
       "      <td>0.75</td>\n",
       "      <td>11.0</td>\n",
       "      <td>6</td>\n",
       "    </tr>\n",
       "    <tr>\n",
       "      <th>1597</th>\n",
       "      <td>5.9</td>\n",
       "      <td>0.645</td>\n",
       "      <td>0.12</td>\n",
       "      <td>2.0</td>\n",
       "      <td>0.075</td>\n",
       "      <td>32.0</td>\n",
       "      <td>44.0</td>\n",
       "      <td>0.99547</td>\n",
       "      <td>3.57</td>\n",
       "      <td>0.71</td>\n",
       "      <td>10.2</td>\n",
       "      <td>5</td>\n",
       "    </tr>\n",
       "    <tr>\n",
       "      <th>1598</th>\n",
       "      <td>6.0</td>\n",
       "      <td>0.310</td>\n",
       "      <td>0.47</td>\n",
       "      <td>3.6</td>\n",
       "      <td>0.067</td>\n",
       "      <td>18.0</td>\n",
       "      <td>42.0</td>\n",
       "      <td>0.99549</td>\n",
       "      <td>3.39</td>\n",
       "      <td>0.66</td>\n",
       "      <td>11.0</td>\n",
       "      <td>6</td>\n",
       "    </tr>\n",
       "  </tbody>\n",
       "</table>\n",
       "<p>1599 rows × 12 columns</p>\n",
       "</div>"
      ],
      "text/plain": [
       "      fixed acidity  volatile acidity  citric acid  residual sugar  chlorides  \\\n",
       "0               7.4             0.700         0.00             1.9      0.076   \n",
       "1               7.8             0.880         0.00             2.6      0.098   \n",
       "2               7.8             0.760         0.04             2.3      0.092   \n",
       "3              11.2             0.280         0.56             1.9      0.075   \n",
       "4               7.4             0.700         0.00             1.9      0.076   \n",
       "...             ...               ...          ...             ...        ...   \n",
       "1594            6.2             0.600         0.08             2.0      0.090   \n",
       "1595            5.9             0.550         0.10             2.2      0.062   \n",
       "1596            6.3             0.510         0.13             2.3      0.076   \n",
       "1597            5.9             0.645         0.12             2.0      0.075   \n",
       "1598            6.0             0.310         0.47             3.6      0.067   \n",
       "\n",
       "      free sulfur dioxide  total sulfur dioxide  density    pH  sulphates  \\\n",
       "0                    11.0                  34.0  0.99780  3.51       0.56   \n",
       "1                    25.0                  67.0  0.99680  3.20       0.68   \n",
       "2                    15.0                  54.0  0.99700  3.26       0.65   \n",
       "3                    17.0                  60.0  0.99800  3.16       0.58   \n",
       "4                    11.0                  34.0  0.99780  3.51       0.56   \n",
       "...                   ...                   ...      ...   ...        ...   \n",
       "1594                 32.0                  44.0  0.99490  3.45       0.58   \n",
       "1595                 39.0                  51.0  0.99512  3.52       0.76   \n",
       "1596                 29.0                  40.0  0.99574  3.42       0.75   \n",
       "1597                 32.0                  44.0  0.99547  3.57       0.71   \n",
       "1598                 18.0                  42.0  0.99549  3.39       0.66   \n",
       "\n",
       "      alcohol  quality  \n",
       "0         9.4        5  \n",
       "1         9.8        5  \n",
       "2         9.8        5  \n",
       "3         9.8        6  \n",
       "4         9.4        5  \n",
       "...       ...      ...  \n",
       "1594     10.5        5  \n",
       "1595     11.2        6  \n",
       "1596     11.0        6  \n",
       "1597     10.2        5  \n",
       "1598     11.0        6  \n",
       "\n",
       "[1599 rows x 12 columns]"
      ]
     },
     "execution_count": 41,
     "metadata": {},
     "output_type": "execute_result"
    }
   ],
   "source": [
    "df = pd.read_csv(\"calidad_vinos.csv\")\n",
    "df"
   ]
  },
  {
   "cell_type": "code",
   "execution_count": 42,
   "id": "cadbf397",
   "metadata": {
    "scrolled": true
   },
   "outputs": [
    {
     "data": {
      "text/html": [
       "<div>\n",
       "<style scoped>\n",
       "    .dataframe tbody tr th:only-of-type {\n",
       "        vertical-align: middle;\n",
       "    }\n",
       "\n",
       "    .dataframe tbody tr th {\n",
       "        vertical-align: top;\n",
       "    }\n",
       "\n",
       "    .dataframe thead th {\n",
       "        text-align: right;\n",
       "    }\n",
       "</style>\n",
       "<table border=\"1\" class=\"dataframe\">\n",
       "  <thead>\n",
       "    <tr style=\"text-align: right;\">\n",
       "      <th></th>\n",
       "      <th>count</th>\n",
       "      <th>mean</th>\n",
       "      <th>std</th>\n",
       "      <th>min</th>\n",
       "      <th>25%</th>\n",
       "      <th>50%</th>\n",
       "      <th>75%</th>\n",
       "      <th>max</th>\n",
       "    </tr>\n",
       "  </thead>\n",
       "  <tbody>\n",
       "    <tr>\n",
       "      <th>fixed acidity</th>\n",
       "      <td>1599.0</td>\n",
       "      <td>8.319637</td>\n",
       "      <td>1.741096</td>\n",
       "      <td>4.60000</td>\n",
       "      <td>7.1000</td>\n",
       "      <td>7.90000</td>\n",
       "      <td>9.200000</td>\n",
       "      <td>15.90000</td>\n",
       "    </tr>\n",
       "    <tr>\n",
       "      <th>volatile acidity</th>\n",
       "      <td>1599.0</td>\n",
       "      <td>0.527821</td>\n",
       "      <td>0.179060</td>\n",
       "      <td>0.12000</td>\n",
       "      <td>0.3900</td>\n",
       "      <td>0.52000</td>\n",
       "      <td>0.640000</td>\n",
       "      <td>1.58000</td>\n",
       "    </tr>\n",
       "    <tr>\n",
       "      <th>citric acid</th>\n",
       "      <td>1599.0</td>\n",
       "      <td>0.270976</td>\n",
       "      <td>0.194801</td>\n",
       "      <td>0.00000</td>\n",
       "      <td>0.0900</td>\n",
       "      <td>0.26000</td>\n",
       "      <td>0.420000</td>\n",
       "      <td>1.00000</td>\n",
       "    </tr>\n",
       "    <tr>\n",
       "      <th>residual sugar</th>\n",
       "      <td>1599.0</td>\n",
       "      <td>2.538806</td>\n",
       "      <td>1.409928</td>\n",
       "      <td>0.90000</td>\n",
       "      <td>1.9000</td>\n",
       "      <td>2.20000</td>\n",
       "      <td>2.600000</td>\n",
       "      <td>15.50000</td>\n",
       "    </tr>\n",
       "    <tr>\n",
       "      <th>chlorides</th>\n",
       "      <td>1599.0</td>\n",
       "      <td>0.087467</td>\n",
       "      <td>0.047065</td>\n",
       "      <td>0.01200</td>\n",
       "      <td>0.0700</td>\n",
       "      <td>0.07900</td>\n",
       "      <td>0.090000</td>\n",
       "      <td>0.61100</td>\n",
       "    </tr>\n",
       "    <tr>\n",
       "      <th>free sulfur dioxide</th>\n",
       "      <td>1599.0</td>\n",
       "      <td>15.874922</td>\n",
       "      <td>10.460157</td>\n",
       "      <td>1.00000</td>\n",
       "      <td>7.0000</td>\n",
       "      <td>14.00000</td>\n",
       "      <td>21.000000</td>\n",
       "      <td>72.00000</td>\n",
       "    </tr>\n",
       "    <tr>\n",
       "      <th>total sulfur dioxide</th>\n",
       "      <td>1599.0</td>\n",
       "      <td>46.467792</td>\n",
       "      <td>32.895324</td>\n",
       "      <td>6.00000</td>\n",
       "      <td>22.0000</td>\n",
       "      <td>38.00000</td>\n",
       "      <td>62.000000</td>\n",
       "      <td>289.00000</td>\n",
       "    </tr>\n",
       "    <tr>\n",
       "      <th>density</th>\n",
       "      <td>1599.0</td>\n",
       "      <td>0.996747</td>\n",
       "      <td>0.001887</td>\n",
       "      <td>0.99007</td>\n",
       "      <td>0.9956</td>\n",
       "      <td>0.99675</td>\n",
       "      <td>0.997835</td>\n",
       "      <td>1.00369</td>\n",
       "    </tr>\n",
       "    <tr>\n",
       "      <th>pH</th>\n",
       "      <td>1599.0</td>\n",
       "      <td>3.311113</td>\n",
       "      <td>0.154386</td>\n",
       "      <td>2.74000</td>\n",
       "      <td>3.2100</td>\n",
       "      <td>3.31000</td>\n",
       "      <td>3.400000</td>\n",
       "      <td>4.01000</td>\n",
       "    </tr>\n",
       "    <tr>\n",
       "      <th>sulphates</th>\n",
       "      <td>1599.0</td>\n",
       "      <td>0.658149</td>\n",
       "      <td>0.169507</td>\n",
       "      <td>0.33000</td>\n",
       "      <td>0.5500</td>\n",
       "      <td>0.62000</td>\n",
       "      <td>0.730000</td>\n",
       "      <td>2.00000</td>\n",
       "    </tr>\n",
       "    <tr>\n",
       "      <th>alcohol</th>\n",
       "      <td>1599.0</td>\n",
       "      <td>10.422983</td>\n",
       "      <td>1.065668</td>\n",
       "      <td>8.40000</td>\n",
       "      <td>9.5000</td>\n",
       "      <td>10.20000</td>\n",
       "      <td>11.100000</td>\n",
       "      <td>14.90000</td>\n",
       "    </tr>\n",
       "    <tr>\n",
       "      <th>quality</th>\n",
       "      <td>1599.0</td>\n",
       "      <td>5.636023</td>\n",
       "      <td>0.807569</td>\n",
       "      <td>3.00000</td>\n",
       "      <td>5.0000</td>\n",
       "      <td>6.00000</td>\n",
       "      <td>6.000000</td>\n",
       "      <td>8.00000</td>\n",
       "    </tr>\n",
       "  </tbody>\n",
       "</table>\n",
       "</div>"
      ],
      "text/plain": [
       "                       count       mean        std      min      25%  \\\n",
       "fixed acidity         1599.0   8.319637   1.741096  4.60000   7.1000   \n",
       "volatile acidity      1599.0   0.527821   0.179060  0.12000   0.3900   \n",
       "citric acid           1599.0   0.270976   0.194801  0.00000   0.0900   \n",
       "residual sugar        1599.0   2.538806   1.409928  0.90000   1.9000   \n",
       "chlorides             1599.0   0.087467   0.047065  0.01200   0.0700   \n",
       "free sulfur dioxide   1599.0  15.874922  10.460157  1.00000   7.0000   \n",
       "total sulfur dioxide  1599.0  46.467792  32.895324  6.00000  22.0000   \n",
       "density               1599.0   0.996747   0.001887  0.99007   0.9956   \n",
       "pH                    1599.0   3.311113   0.154386  2.74000   3.2100   \n",
       "sulphates             1599.0   0.658149   0.169507  0.33000   0.5500   \n",
       "alcohol               1599.0  10.422983   1.065668  8.40000   9.5000   \n",
       "quality               1599.0   5.636023   0.807569  3.00000   5.0000   \n",
       "\n",
       "                           50%        75%        max  \n",
       "fixed acidity          7.90000   9.200000   15.90000  \n",
       "volatile acidity       0.52000   0.640000    1.58000  \n",
       "citric acid            0.26000   0.420000    1.00000  \n",
       "residual sugar         2.20000   2.600000   15.50000  \n",
       "chlorides              0.07900   0.090000    0.61100  \n",
       "free sulfur dioxide   14.00000  21.000000   72.00000  \n",
       "total sulfur dioxide  38.00000  62.000000  289.00000  \n",
       "density                0.99675   0.997835    1.00369  \n",
       "pH                     3.31000   3.400000    4.01000  \n",
       "sulphates              0.62000   0.730000    2.00000  \n",
       "alcohol               10.20000  11.100000   14.90000  \n",
       "quality                6.00000   6.000000    8.00000  "
      ]
     },
     "execution_count": 42,
     "metadata": {},
     "output_type": "execute_result"
    }
   ],
   "source": [
    "df.describe().transpose()"
   ]
  },
  {
   "cell_type": "markdown",
   "id": "b89803f4",
   "metadata": {},
   "source": [
    "Como se puede observar en la tabla, la variable que tiene unos valores extremos más acusados con respectoa la media es\n",
    "la variable \"total sulfur dioxide\", siendo su valor máximo de 289 y su media de 46.467792. Además si nos fijamos en la desviación tipica, es de 32.9, lo que nos indica que los valores, por lo general, se alejan de la media.\n",
    "La variable que más concentrada está en torno a la media es la la variable \"density\", ya que su valor mínimo es de 0.99 y el máximo de 1.003. La desviación típica en este caso es de 0.002, lo que indica que prácticamente todos los valores estarán entorno a la media con valores muy cercanos entre sí."
   ]
  },
  {
   "cell_type": "markdown",
   "id": "94609d22",
   "metadata": {},
   "source": [
    "En cuanto a la posible influencia de estas variables a la hora de entrenar el perceptrón multicapa, la variable \"total sulfure dioxide\", que es la de los valores más extremos, dará más facilidades a la hora de separar por hiperplanos mediante combinaciones lineales, mientras que la variable \"density\", al ser siempre valores muy cercanos, no será de gran utilidad a la hora de distinguir unos y otros. "
   ]
  },
  {
   "cell_type": "code",
   "execution_count": 43,
   "id": "42a7a9ef",
   "metadata": {},
   "outputs": [],
   "source": [
    "import matplotlib as mpl\n",
    "import matplotlib.pyplot as plt"
   ]
  },
  {
   "cell_type": "code",
   "execution_count": 57,
   "id": "d139882c",
   "metadata": {},
   "outputs": [
    {
     "data": {
      "text/plain": [
       "<AxesSubplot:>"
      ]
     },
     "execution_count": 57,
     "metadata": {},
     "output_type": "execute_result"
    },
    {
     "data": {
      "image/png": "[encoded data removed]",
      "text/plain": [
       "<Figure size 432x288 with 1 Axes>"
      ]
     },
     "metadata": {
      "needs_background": "light"
     },
     "output_type": "display_data"
    }
   ],
   "source": [
    "df.quality.hist()"
   ]
  },
  {
   "cell_type": "code",
   "execution_count": 44,
   "id": "ac42bd41",
   "metadata": {},
   "outputs": [
    {
     "data": {
      "text/plain": [
       "<matplotlib.legend.Legend at 0x211b91e29a0>"
      ]
     },
     "execution_count": 44,
     "metadata": {},
     "output_type": "execute_result"
    },
    {
     "data": {
      "image/png": "[encoded data removed]",
      "text/plain": [
       "<Figure size 1080x432 with 1 Axes>"
      ]
     },
     "metadata": {},
     "output_type": "display_data"
    }
   ],
   "source": [
    "quality = df['quality'].value_counts()\n",
    "\n",
    "quality.plot.pie(autopct='%1.1f%%',\n",
    "                 figsize=(15, 6),\n",
    "                 startangle=0,      \n",
    "                 labels=None,         \n",
    "                 pctdistance=1.22)\n",
    "plt.title('Quality', y=1.12) \n",
    "plt.axis('equal') \n",
    "\n",
    "plt.legend(labels=quality.index, loc='upper right') "
   ]
  },
  {
   "cell_type": "markdown",
   "id": "64561fc0",
   "metadata": {},
   "source": [
    "Como se puede ver en el diagrama de frecuencias, más del 80% de los vinos tienen una calidad muy intermedia (5 y 6) mientras que valores un poco más destacables (por alta o baja calidad) solo ocupan un 15%.\n",
    "Además, destaca que de una escala del 0 al 10, no hay valores más bajos del 3 ni mas altos que el 8, por lo que nunca se alcanzan estos extremos. Por tanto, para nuestro perceptrón, la escala de la calidad del vino será de 3 a 8 (en vez de de 0 a 10) porque es la de nuestro conjunto de entrenamiento."
   ]
  },
  {
   "cell_type": "markdown",
   "id": "869834e3",
   "metadata": {
    "id": "upper-subject"
   },
   "source": [
    "### 2) Selección de variables\n",
    "\n",
    "Calcula los coeficientes de correlación de Pearson entre la variable de salida y el resto de variables. Crea un nuevo dataframe que contenga la calidad del vino y las variables que estén más correlacionadas con esa variable (estableciendo para ello un valor umbral que consideres adecuado)."
   ]
  },
  {
   "cell_type": "code",
   "execution_count": 45,
   "id": "d4bbd797",
   "metadata": {},
   "outputs": [],
   "source": [
    "import seaborn as sns"
   ]
  },
  {
   "cell_type": "code",
   "execution_count": 46,
   "id": "ef11fcfe",
   "metadata": {},
   "outputs": [
    {
     "data": {
      "text/html": [
       "<style type=\"text/css\">\n",
       "#T_5ae71_row0_col0 {\n",
       "  background-color: #94c994;\n",
       "  color: #000000;\n",
       "}\n",
       "#T_5ae71_row1_col0 {\n",
       "  background-color: #ebf3eb;\n",
       "  color: #000000;\n",
       "}\n",
       "#T_5ae71_row2_col0 {\n",
       "  background-color: #83c083;\n",
       "  color: #000000;\n",
       "}\n",
       "#T_5ae71_row3_col0 {\n",
       "  background-color: #a6d2a6;\n",
       "  color: #000000;\n",
       "}\n",
       "#T_5ae71_row4_col0 {\n",
       "  background-color: #beddbe;\n",
       "  color: #000000;\n",
       "}\n",
       "#T_5ae71_row5_col0 {\n",
       "  background-color: #b2d7b1;\n",
       "  color: #000000;\n",
       "}\n",
       "#T_5ae71_row6_col0 {\n",
       "  background-color: #c9e2c8;\n",
       "  color: #000000;\n",
       "}\n",
       "#T_5ae71_row7_col0 {\n",
       "  background-color: #c7e1c7;\n",
       "  color: #000000;\n",
       "}\n",
       "#T_5ae71_row8_col0 {\n",
       "  background-color: #b2d7b2;\n",
       "  color: #000000;\n",
       "}\n",
       "#T_5ae71_row9_col0 {\n",
       "  background-color: #7ebe7e;\n",
       "  color: #000000;\n",
       "}\n",
       "#T_5ae71_row10_col0 {\n",
       "  background-color: #58ab58;\n",
       "  color: #f1f1f1;\n",
       "}\n",
       "#T_5ae71_row11_col0 {\n",
       "  background-color: #008000;\n",
       "  color: #f1f1f1;\n",
       "}\n",
       "</style>\n",
       "<table id=\"T_5ae71_\">\n",
       "  <thead>\n",
       "    <tr>\n",
       "      <th class=\"blank level0\" >&nbsp;</th>\n",
       "      <th class=\"col_heading level0 col0\" >quality</th>\n",
       "    </tr>\n",
       "  </thead>\n",
       "  <tbody>\n",
       "    <tr>\n",
       "      <th id=\"T_5ae71_level0_row0\" class=\"row_heading level0 row0\" >fixed acidity</th>\n",
       "      <td id=\"T_5ae71_row0_col0\" class=\"data row0 col0\" >0.124052</td>\n",
       "    </tr>\n",
       "    <tr>\n",
       "      <th id=\"T_5ae71_level0_row1\" class=\"row_heading level0 row1\" >volatile acidity</th>\n",
       "      <td id=\"T_5ae71_row1_col0\" class=\"data row1 col0\" >-0.390558</td>\n",
       "    </tr>\n",
       "    <tr>\n",
       "      <th id=\"T_5ae71_level0_row2\" class=\"row_heading level0 row2\" >citric acid</th>\n",
       "      <td id=\"T_5ae71_row2_col0\" class=\"data row2 col0\" >0.226373</td>\n",
       "    </tr>\n",
       "    <tr>\n",
       "      <th id=\"T_5ae71_level0_row3\" class=\"row_heading level0 row3\" >residual sugar</th>\n",
       "      <td id=\"T_5ae71_row3_col0\" class=\"data row3 col0\" >0.013732</td>\n",
       "    </tr>\n",
       "    <tr>\n",
       "      <th id=\"T_5ae71_level0_row4\" class=\"row_heading level0 row4\" >chlorides</th>\n",
       "      <td id=\"T_5ae71_row4_col0\" class=\"data row4 col0\" >-0.128907</td>\n",
       "    </tr>\n",
       "    <tr>\n",
       "      <th id=\"T_5ae71_level0_row5\" class=\"row_heading level0 row5\" >free sulfur dioxide</th>\n",
       "      <td id=\"T_5ae71_row5_col0\" class=\"data row5 col0\" >-0.050656</td>\n",
       "    </tr>\n",
       "    <tr>\n",
       "      <th id=\"T_5ae71_level0_row6\" class=\"row_heading level0 row6\" >total sulfur dioxide</th>\n",
       "      <td id=\"T_5ae71_row6_col0\" class=\"data row6 col0\" >-0.185100</td>\n",
       "    </tr>\n",
       "    <tr>\n",
       "      <th id=\"T_5ae71_level0_row7\" class=\"row_heading level0 row7\" >density</th>\n",
       "      <td id=\"T_5ae71_row7_col0\" class=\"data row7 col0\" >-0.174919</td>\n",
       "    </tr>\n",
       "    <tr>\n",
       "      <th id=\"T_5ae71_level0_row8\" class=\"row_heading level0 row8\" >pH</th>\n",
       "      <td id=\"T_5ae71_row8_col0\" class=\"data row8 col0\" >-0.057731</td>\n",
       "    </tr>\n",
       "    <tr>\n",
       "      <th id=\"T_5ae71_level0_row9\" class=\"row_heading level0 row9\" >sulphates</th>\n",
       "      <td id=\"T_5ae71_row9_col0\" class=\"data row9 col0\" >0.251397</td>\n",
       "    </tr>\n",
       "    <tr>\n",
       "      <th id=\"T_5ae71_level0_row10\" class=\"row_heading level0 row10\" >alcohol</th>\n",
       "      <td id=\"T_5ae71_row10_col0\" class=\"data row10 col0\" >0.476166</td>\n",
       "    </tr>\n",
       "    <tr>\n",
       "      <th id=\"T_5ae71_level0_row11\" class=\"row_heading level0 row11\" >quality</th>\n",
       "      <td id=\"T_5ae71_row11_col0\" class=\"data row11 col0\" >1.000000</td>\n",
       "    </tr>\n",
       "  </tbody>\n",
       "</table>\n"
      ],
      "text/plain": [
       "<pandas.io.formats.style.Styler at 0x211b697d7c0>"
      ]
     },
     "execution_count": 46,
     "metadata": {},
     "output_type": "execute_result"
    }
   ],
   "source": [
    "cm = sns.light_palette(\"green\", as_cmap=True)\n",
    "corr_pr = pd.DataFrame(df.corr()['quality'])\n",
    "corr_pr.style.background_gradient(cmap=cm)"
   ]
  },
  {
   "cell_type": "code",
   "execution_count": 47,
   "id": "16a20036",
   "metadata": {},
   "outputs": [
    {
     "data": {
      "text/html": [
       "<style type=\"text/css\">\n",
       "#T_a133e_row0_col0 {\n",
       "  background-color: #008000;\n",
       "  color: #f1f1f1;\n",
       "}\n",
       "#T_a133e_row1_col0 {\n",
       "  background-color: #7cbd7c;\n",
       "  color: #000000;\n",
       "}\n",
       "#T_a133e_row2_col0 {\n",
       "  background-color: #91c791;\n",
       "  color: #000000;\n",
       "}\n",
       "#T_a133e_row3_col0 {\n",
       "  background-color: #b2d7b2;\n",
       "  color: #000000;\n",
       "}\n",
       "#T_a133e_row4_col0 {\n",
       "  background-color: #b8dab8;\n",
       "  color: #000000;\n",
       "}\n",
       "#T_a133e_row5_col0 {\n",
       "  background-color: #c2dfc2;\n",
       "  color: #000000;\n",
       "}\n",
       "#T_a133e_row6_col0 {\n",
       "  background-color: #c5e0c5;\n",
       "  color: #000000;\n",
       "}\n",
       "#T_a133e_row7_col0 {\n",
       "  background-color: #d0e6d0;\n",
       "  color: #000000;\n",
       "}\n",
       "#T_a133e_row8_col0 {\n",
       "  background-color: #d1e6d1;\n",
       "  color: #000000;\n",
       "}\n",
       "#T_a133e_row9_col0 {\n",
       "  background-color: #e0eee0;\n",
       "  color: #000000;\n",
       "}\n",
       "#T_a133e_row10_col0 {\n",
       "  background-color: #e2efe2;\n",
       "  color: #000000;\n",
       "}\n",
       "#T_a133e_row11_col0 {\n",
       "  background-color: #ebf3eb;\n",
       "  color: #000000;\n",
       "}\n",
       "</style>\n",
       "<table id=\"T_a133e_\">\n",
       "  <thead>\n",
       "    <tr>\n",
       "      <th class=\"blank level0\" >&nbsp;</th>\n",
       "      <th class=\"col_heading level0 col0\" >quality</th>\n",
       "    </tr>\n",
       "  </thead>\n",
       "  <tbody>\n",
       "    <tr>\n",
       "      <th id=\"T_a133e_level0_row0\" class=\"row_heading level0 row0\" >quality</th>\n",
       "      <td id=\"T_a133e_row0_col0\" class=\"data row0 col0\" >1.000000</td>\n",
       "    </tr>\n",
       "    <tr>\n",
       "      <th id=\"T_a133e_level0_row1\" class=\"row_heading level0 row1\" >alcohol</th>\n",
       "      <td id=\"T_a133e_row1_col0\" class=\"data row1 col0\" >0.476166</td>\n",
       "    </tr>\n",
       "    <tr>\n",
       "      <th id=\"T_a133e_level0_row2\" class=\"row_heading level0 row2\" >volatile acidity</th>\n",
       "      <td id=\"T_a133e_row2_col0\" class=\"data row2 col0\" >0.390558</td>\n",
       "    </tr>\n",
       "    <tr>\n",
       "      <th id=\"T_a133e_level0_row3\" class=\"row_heading level0 row3\" >sulphates</th>\n",
       "      <td id=\"T_a133e_row3_col0\" class=\"data row3 col0\" >0.251397</td>\n",
       "    </tr>\n",
       "    <tr>\n",
       "      <th id=\"T_a133e_level0_row4\" class=\"row_heading level0 row4\" >citric acid</th>\n",
       "      <td id=\"T_a133e_row4_col0\" class=\"data row4 col0\" >0.226373</td>\n",
       "    </tr>\n",
       "    <tr>\n",
       "      <th id=\"T_a133e_level0_row5\" class=\"row_heading level0 row5\" >total sulfur dioxide</th>\n",
       "      <td id=\"T_a133e_row5_col0\" class=\"data row5 col0\" >0.185100</td>\n",
       "    </tr>\n",
       "    <tr>\n",
       "      <th id=\"T_a133e_level0_row6\" class=\"row_heading level0 row6\" >density</th>\n",
       "      <td id=\"T_a133e_row6_col0\" class=\"data row6 col0\" >0.174919</td>\n",
       "    </tr>\n",
       "    <tr>\n",
       "      <th id=\"T_a133e_level0_row7\" class=\"row_heading level0 row7\" >chlorides</th>\n",
       "      <td id=\"T_a133e_row7_col0\" class=\"data row7 col0\" >0.128907</td>\n",
       "    </tr>\n",
       "    <tr>\n",
       "      <th id=\"T_a133e_level0_row8\" class=\"row_heading level0 row8\" >fixed acidity</th>\n",
       "      <td id=\"T_a133e_row8_col0\" class=\"data row8 col0\" >0.124052</td>\n",
       "    </tr>\n",
       "    <tr>\n",
       "      <th id=\"T_a133e_level0_row9\" class=\"row_heading level0 row9\" >pH</th>\n",
       "      <td id=\"T_a133e_row9_col0\" class=\"data row9 col0\" >0.057731</td>\n",
       "    </tr>\n",
       "    <tr>\n",
       "      <th id=\"T_a133e_level0_row10\" class=\"row_heading level0 row10\" >free sulfur dioxide</th>\n",
       "      <td id=\"T_a133e_row10_col0\" class=\"data row10 col0\" >0.050656</td>\n",
       "    </tr>\n",
       "    <tr>\n",
       "      <th id=\"T_a133e_level0_row11\" class=\"row_heading level0 row11\" >residual sugar</th>\n",
       "      <td id=\"T_a133e_row11_col0\" class=\"data row11 col0\" >0.013732</td>\n",
       "    </tr>\n",
       "  </tbody>\n",
       "</table>\n"
      ],
      "text/plain": [
       "<pandas.io.formats.style.Styler at 0x211b9140040>"
      ]
     },
     "execution_count": 47,
     "metadata": {},
     "output_type": "execute_result"
    }
   ],
   "source": [
    "corr_pr_abs = corr_pr.abs()\n",
    "corr_pr_abs.sort_values(by = 'quality',ascending = False).style.background_gradient(cmap=cm)"
   ]
  },
  {
   "cell_type": "code",
   "execution_count": 48,
   "id": "7578d953",
   "metadata": {},
   "outputs": [
    {
     "data": {
      "text/html": [
       "<div>\n",
       "<style scoped>\n",
       "    .dataframe tbody tr th:only-of-type {\n",
       "        vertical-align: middle;\n",
       "    }\n",
       "\n",
       "    .dataframe tbody tr th {\n",
       "        vertical-align: top;\n",
       "    }\n",
       "\n",
       "    .dataframe thead th {\n",
       "        text-align: right;\n",
       "    }\n",
       "</style>\n",
       "<table border=\"1\" class=\"dataframe\">\n",
       "  <thead>\n",
       "    <tr style=\"text-align: right;\">\n",
       "      <th></th>\n",
       "      <th>quality</th>\n",
       "      <th>alcohol</th>\n",
       "      <th>volatile acidity</th>\n",
       "      <th>sulphates</th>\n",
       "      <th>citric acid</th>\n",
       "      <th>total sulfur dioxide</th>\n",
       "      <th>density</th>\n",
       "    </tr>\n",
       "  </thead>\n",
       "  <tbody>\n",
       "    <tr>\n",
       "      <th>0</th>\n",
       "      <td>5</td>\n",
       "      <td>9.4</td>\n",
       "      <td>0.700</td>\n",
       "      <td>0.56</td>\n",
       "      <td>0.00</td>\n",
       "      <td>34.0</td>\n",
       "      <td>0.99780</td>\n",
       "    </tr>\n",
       "    <tr>\n",
       "      <th>1</th>\n",
       "      <td>5</td>\n",
       "      <td>9.8</td>\n",
       "      <td>0.880</td>\n",
       "      <td>0.68</td>\n",
       "      <td>0.00</td>\n",
       "      <td>67.0</td>\n",
       "      <td>0.99680</td>\n",
       "    </tr>\n",
       "    <tr>\n",
       "      <th>2</th>\n",
       "      <td>5</td>\n",
       "      <td>9.8</td>\n",
       "      <td>0.760</td>\n",
       "      <td>0.65</td>\n",
       "      <td>0.04</td>\n",
       "      <td>54.0</td>\n",
       "      <td>0.99700</td>\n",
       "    </tr>\n",
       "    <tr>\n",
       "      <th>3</th>\n",
       "      <td>6</td>\n",
       "      <td>9.8</td>\n",
       "      <td>0.280</td>\n",
       "      <td>0.58</td>\n",
       "      <td>0.56</td>\n",
       "      <td>60.0</td>\n",
       "      <td>0.99800</td>\n",
       "    </tr>\n",
       "    <tr>\n",
       "      <th>4</th>\n",
       "      <td>5</td>\n",
       "      <td>9.4</td>\n",
       "      <td>0.700</td>\n",
       "      <td>0.56</td>\n",
       "      <td>0.00</td>\n",
       "      <td>34.0</td>\n",
       "      <td>0.99780</td>\n",
       "    </tr>\n",
       "    <tr>\n",
       "      <th>...</th>\n",
       "      <td>...</td>\n",
       "      <td>...</td>\n",
       "      <td>...</td>\n",
       "      <td>...</td>\n",
       "      <td>...</td>\n",
       "      <td>...</td>\n",
       "      <td>...</td>\n",
       "    </tr>\n",
       "    <tr>\n",
       "      <th>1594</th>\n",
       "      <td>5</td>\n",
       "      <td>10.5</td>\n",
       "      <td>0.600</td>\n",
       "      <td>0.58</td>\n",
       "      <td>0.08</td>\n",
       "      <td>44.0</td>\n",
       "      <td>0.99490</td>\n",
       "    </tr>\n",
       "    <tr>\n",
       "      <th>1595</th>\n",
       "      <td>6</td>\n",
       "      <td>11.2</td>\n",
       "      <td>0.550</td>\n",
       "      <td>0.76</td>\n",
       "      <td>0.10</td>\n",
       "      <td>51.0</td>\n",
       "      <td>0.99512</td>\n",
       "    </tr>\n",
       "    <tr>\n",
       "      <th>1596</th>\n",
       "      <td>6</td>\n",
       "      <td>11.0</td>\n",
       "      <td>0.510</td>\n",
       "      <td>0.75</td>\n",
       "      <td>0.13</td>\n",
       "      <td>40.0</td>\n",
       "      <td>0.99574</td>\n",
       "    </tr>\n",
       "    <tr>\n",
       "      <th>1597</th>\n",
       "      <td>5</td>\n",
       "      <td>10.2</td>\n",
       "      <td>0.645</td>\n",
       "      <td>0.71</td>\n",
       "      <td>0.12</td>\n",
       "      <td>44.0</td>\n",
       "      <td>0.99547</td>\n",
       "    </tr>\n",
       "    <tr>\n",
       "      <th>1598</th>\n",
       "      <td>6</td>\n",
       "      <td>11.0</td>\n",
       "      <td>0.310</td>\n",
       "      <td>0.66</td>\n",
       "      <td>0.47</td>\n",
       "      <td>42.0</td>\n",
       "      <td>0.99549</td>\n",
       "    </tr>\n",
       "  </tbody>\n",
       "</table>\n",
       "<p>1599 rows × 7 columns</p>\n",
       "</div>"
      ],
      "text/plain": [
       "      quality  alcohol  volatile acidity  sulphates  citric acid  \\\n",
       "0           5      9.4             0.700       0.56         0.00   \n",
       "1           5      9.8             0.880       0.68         0.00   \n",
       "2           5      9.8             0.760       0.65         0.04   \n",
       "3           6      9.8             0.280       0.58         0.56   \n",
       "4           5      9.4             0.700       0.56         0.00   \n",
       "...       ...      ...               ...        ...          ...   \n",
       "1594        5     10.5             0.600       0.58         0.08   \n",
       "1595        6     11.2             0.550       0.76         0.10   \n",
       "1596        6     11.0             0.510       0.75         0.13   \n",
       "1597        5     10.2             0.645       0.71         0.12   \n",
       "1598        6     11.0             0.310       0.66         0.47   \n",
       "\n",
       "      total sulfur dioxide  density  \n",
       "0                     34.0  0.99780  \n",
       "1                     67.0  0.99680  \n",
       "2                     54.0  0.99700  \n",
       "3                     60.0  0.99800  \n",
       "4                     34.0  0.99780  \n",
       "...                    ...      ...  \n",
       "1594                  44.0  0.99490  \n",
       "1595                  51.0  0.99512  \n",
       "1596                  40.0  0.99574  \n",
       "1597                  44.0  0.99547  \n",
       "1598                  42.0  0.99549  \n",
       "\n",
       "[1599 rows x 7 columns]"
      ]
     },
     "execution_count": 48,
     "metadata": {},
     "output_type": "execute_result"
    }
   ],
   "source": [
    "b=corr_pr_abs.sort_values(by = 'quality',ascending = False)\n",
    "corr_pr_top = b[abs(b['quality']) > 0.15]\n",
    "df_corr=df[corr_pr_top['quality'].keys()]\n",
    "df_corr"
   ]
  },
  {
   "cell_type": "markdown",
   "id": "3faa3879",
   "metadata": {},
   "source": [
    "Hemos considerado adecuado el valor umbral 0.15, ya que consideramos que una correlacion menor no es tan relevante. Consideramos que una correlacion de 0.15 tamppoco lo es, pero teniendo en cuenta que la variable con más correlación tiene un coeficiente de 0.47, un coeficiente > 0.15 será relativamente grande (un poco menos de un tercio del coeficiente más grande)."
   ]
  },
  {
   "cell_type": "markdown",
   "id": "12ccc1d9",
   "metadata": {},
   "source": [
    "## 1\n",
    "Aunque un MLP sea capaz de tratar con variables menos relevantes para el problema ya que acabará asignándoles pesos cercanos a cero, hemos decidido entrenar nuestro perceptrón con la selección de variables anterior ya que cuantas más dimensiones tenga nuestro dataset, más datos de entrenamiento serán necesarios (y no disponemos de una gran cantidad de ellos).\n",
    "\n",
    "A partir de ahora trabajaremos con un dataset reducido a las variables con un coeficiente de correlación con quality superior a 0.15."
   ]
  },
  {
   "cell_type": "markdown",
   "id": "7861bef8",
   "metadata": {},
   "source": [
    "## 2\n",
    "Un MLP sea capaz de tratar con variables menos relevantes para el problema ya que acabará asignándoles pesos cercanos a cero. Por esto hemos decidido entrenar con todas las variable en vex de con la selección hecha anteriormente."
   ]
  },
  {
   "cell_type": "markdown",
   "id": "a153f569",
   "metadata": {
    "id": "brilliant-world"
   },
   "source": [
    "### 3) Normalización\n",
    "\n",
    "Decide si debes o no normalizar los datos de entrada y/o de salida. En caso afirmativo elige razonadamente entre escalarlos o estandarizarlos.\n"
   ]
  },
  {
   "cell_type": "markdown",
   "id": "86160745",
   "metadata": {},
   "source": [
    "Para este problema, es conveniente normalizar los datos ya que haciéndolo disminuye el tiempo de entrenamiento y evita los mínimos locales en la optimización del error, aunque realmente no es necesario normalizar los datos.\n",
    "\n",
    "Decidimos escalar los datos ya que las distribuciones (como se puede ver en los diagramas de abajo) no todas siguen una distribución normal."
   ]
  },
  {
   "cell_type": "code",
   "execution_count": 120,
   "id": "48582ae7",
   "metadata": {},
   "outputs": [
    {
     "data": {
      "image/png": "[encoded data removed]",
      "text/plain": [
       "<Figure size 1728x576 with 7 Axes>"
      ]
     },
     "metadata": {
      "needs_background": "light"
     },
     "output_type": "display_data"
    }
   ],
   "source": [
    "import matplotlib as mpl\n",
    "import matplotlib.pyplot as plt\n",
    "\n",
    "fig = plt.figure(figsize = (24, 8))\n",
    "for i in range(len(df_corr.columns)):\n",
    "    p = fig.add_subplot(2,4, i+1)\n",
    "    df_corr[df_corr.columns[i]].plot.hist(bins = 30,ax=p)\n",
    "    p.set_ylabel(df_corr.columns[i])"
   ]
  },
  {
   "cell_type": "code",
   "execution_count": 161,
   "id": "663125c4",
   "metadata": {},
   "outputs": [],
   "source": [
    "features = df.columns[:-1]\n",
    "df_features = df[features]\n",
    "df_target = df[df.columns[-1]]"
   ]
  },
  {
   "cell_type": "code",
   "execution_count": 162,
   "id": "b57cf608",
   "metadata": {},
   "outputs": [],
   "source": [
    "from sklearn.preprocessing import StandardScaler\n",
    "\n",
    "# Normalizamos los datos escalándolos al intervalo [0,1]\n",
    "scaler_x = StandardScaler()\n",
    "scaler_x.fit(df_features)\n",
    "df_scaled=scaler_x.transform(df_features)\n",
    "\n",
    "scaler_y = MinMaxScaler()\n",
    "scaler_y.fit(np.array(df.quality).reshape(-1, 1)) # Como es una sola variable es necesario ponerlo en modo columna\n",
    "quality_scaled=scaler_y.transform(np.array(df.quality).reshape(-1, 1))"
   ]
  },
  {
   "cell_type": "markdown",
   "id": "f6e94963",
   "metadata": {
    "id": "political-french"
   },
   "source": [
    "### 4) Entrenamiento y selección\n",
    "\n",
    "Crea dos redes neuronales de tipo Perceptrón Multicapa:\n",
    "- La primera con una capa oculta de 250 neuronas\n",
    "- La segunda con varias capas ocultas entre las que debes distribuir 250 neuronas, como te parezca\n",
    "\n",
    "Asegúrate de que no salen warnings durante el entrenamiento indicando que no se ha alcanzado la convergencia durante el entrenamiento (para arreglarlo basta con poner un número de max_iter suficientemente grande).\n",
    "\n",
    "En la configuración del perceptrón debes usar validación cruzada y explorar varios valores para el parámetro `alpha` que controla el coeficiente de regularización L2.\n",
    "\n",
    "Para elegir el valor adecuado de dicho coeficiente pinta la curva de aprendizaje para cada perceptrón. En la curva debes pintar una línea que represente el error medio de las distintas particiones de validación y un área sombreada que represente la desviación típica. \n",
    "\n",
    "Una vez tengas la curva de aprendizaje: \n",
    "  - Identifica las diferencias de comportamiento entre ambos perceptrones, razona o especula sobre por qué se dan. ¿Hay alguno que domine al otro? ¿Es el comportamiento de uno más volátil que el del otro?\n",
    "  - Determina de manera razonada con qué perceptrón te quedas y el valor óptimo del parámetro de regularización.\n"
   ]
  },
  {
   "cell_type": "code",
   "execution_count": 163,
   "id": "61a8ab49",
   "metadata": {},
   "outputs": [],
   "source": [
    "RANDOM_STATE=18"
   ]
  },
  {
   "cell_type": "code",
   "execution_count": 164,
   "id": "c72ecd71",
   "metadata": {},
   "outputs": [
    {
     "name": "stderr",
     "output_type": "stream",
     "text": [
      "C:\\ProgramData\\Anaconda3\\lib\\site-packages\\sklearn\\neural_network\\_multilayer_perceptron.py:619: UserWarning: Training interrupted by user.\n",
      "  warnings.warn(\"Training interrupted by user.\")\n",
      "C:\\ProgramData\\Anaconda3\\lib\\site-packages\\sklearn\\neural_network\\_multilayer_perceptron.py:619: UserWarning: Training interrupted by user.\n",
      "  warnings.warn(\"Training interrupted by user.\")\n",
      "C:\\ProgramData\\Anaconda3\\lib\\site-packages\\sklearn\\neural_network\\_multilayer_perceptron.py:619: UserWarning: Training interrupted by user.\n",
      "  warnings.warn(\"Training interrupted by user.\")\n",
      "C:\\ProgramData\\Anaconda3\\lib\\site-packages\\sklearn\\neural_network\\_multilayer_perceptron.py:619: UserWarning: Training interrupted by user.\n",
      "  warnings.warn(\"Training interrupted by user.\")\n"
     ]
    },
    {
     "name": "stdout",
     "output_type": "stream",
     "text": [
      "[-0.019303732620826415, -0.017311673394301997, -0.016966997615647572, -0.0167967618048002, -0.016510956206935386, -0.016554296950924315, -0.018198720104254017, -0.016672331729505725, -0.016674253830115292, -0.01676842263490322, -0.016967150839909892, -0.017033103645920762, -0.01716369581932472, -0.017173790413963358, -0.017239140480320478, -0.017309549694973968, -0.01734015866030796, -0.017388993022242488, -0.017436570015531786, -0.017479931134860942, -0.017510481371302143]\n",
      "[0.0009509716771580011, 0.0006497642770889536, 0.0003905181761972678, 0.0006735222821102713, 0.0006994129418978138, 0.0006493903836843872, 0.002215952772216424, 0.0005957176798667022, 0.0005649002840112696, 0.0005358596683491122, 0.0006027023950968359, 0.0005762488016391732, 0.0005051892863794514, 0.0005561851511882374, 0.0005561047507834247, 0.0005521241449457059, 0.0005731299896238048, 0.00057367966457236, 0.0005710507661471572, 0.0005734265345559892, 0.0005767135574392882]\n",
      "Maximum value: -0.016510956206935386 for alpha =  0.4\n"
     ]
    }
   ],
   "source": [
    "from sklearn.neural_network import MLPRegressor\n",
    "from sklearn.model_selection import cross_val_score\n",
    "from sklearn.metrics import mean_squared_error\n",
    "import numpy as np\n",
    "\n",
    "cv_scores_mean=[]\n",
    "cv_scores_std=[]\n",
    "\n",
    "# Entrenar y validar distintas configuraciones\n",
    "regul_param_range = np.arange(0, 2.1,step = 0.1) # [0.1, 0.01, ..., 0.0000001]\n",
    "for regul_param in regul_param_range:\n",
    "    # Aumentamos el parámetro max_iter hasta que converja\n",
    "    \n",
    "    #Una capa oculta de 250 neuronas\n",
    "    mlp=MLPRegressor(hidden_layer_sizes=(250, ), activation='relu', solver='adam', alpha=regul_param, batch_size=100, \n",
    "             learning_rate='constant', learning_rate_init=0.001, max_iter=250, random_state=RANDOM_STATE)\n",
    "\n",
    "    \n",
    "    # El error es neg_mean_squared_error el MSE en negativo!! Más pequeño peor.\n",
    "    scores = cross_val_score(mlp, df_scaled, quality_scaled.ravel(), cv=5, scoring='neg_mean_squared_error')\n",
    "    \n",
    "    cv_scores_mean.append(scores.mean())\n",
    "    cv_scores_std.append(scores.std())\n",
    "    \n",
    "print(cv_scores_mean)\n",
    "print(cv_scores_std)\n",
    "max_value = max(cv_scores_mean)\n",
    "print('Maximum value:', max_value, \"for alpha = \", cv_scores_mean.index(max_value)*0.1)"
   ]
  },
  {
   "cell_type": "code",
   "execution_count": 165,
   "id": "3e80295c",
   "metadata": {},
   "outputs": [
    {
     "data": {
      "image/png": "[encoded data removed]",
      "text/plain": [
       "<Figure size 432x288 with 1 Axes>"
      ]
     },
     "metadata": {
      "needs_background": "light"
     },
     "output_type": "display_data"
    }
   ],
   "source": [
    "import matplotlib.pyplot as plt\n",
    "\n",
    "# Dibujamos la línea de la exactitud media en las partes de test\n",
    "plt.plot(regul_param_range, cv_scores_mean, color=\"g\", label=\"Test\")\n",
    "\n",
    "# Dibujamos la banda de la desviación típica\n",
    "lower_limit = np.array(cv_scores_mean) - np.array(cv_scores_std)\n",
    "upper_limit = np.array(cv_scores_mean) + np.array(cv_scores_std)\n",
    "plt.fill_between(regul_param_range, lower_limit, upper_limit, color=\"#DDDDDD\")\n",
    "\n",
    "# Creamos el gráfico\n",
    "plt.title(\"Curva de aprendizaje\")\n",
    "plt.xlabel(\"Regularización\"), plt.ylabel(\"negative MSE\"), plt.legend(loc=\"best\")\n",
    "plt.tight_layout()\n",
    "plt.show()"
   ]
  },
  {
   "cell_type": "code",
   "execution_count": 166,
   "id": "79cd0522",
   "metadata": {},
   "outputs": [
    {
     "name": "stderr",
     "output_type": "stream",
     "text": [
      "C:\\ProgramData\\Anaconda3\\lib\\site-packages\\sklearn\\neural_network\\_multilayer_perceptron.py:619: UserWarning: Training interrupted by user.\n",
      "  warnings.warn(\"Training interrupted by user.\")\n",
      "C:\\ProgramData\\Anaconda3\\lib\\site-packages\\sklearn\\neural_network\\_multilayer_perceptron.py:619: UserWarning: Training interrupted by user.\n",
      "  warnings.warn(\"Training interrupted by user.\")\n",
      "C:\\ProgramData\\Anaconda3\\lib\\site-packages\\sklearn\\neural_network\\_multilayer_perceptron.py:619: UserWarning: Training interrupted by user.\n",
      "  warnings.warn(\"Training interrupted by user.\")\n",
      "C:\\ProgramData\\Anaconda3\\lib\\site-packages\\sklearn\\neural_network\\_multilayer_perceptron.py:619: UserWarning: Training interrupted by user.\n",
      "  warnings.warn(\"Training interrupted by user.\")\n",
      "C:\\ProgramData\\Anaconda3\\lib\\site-packages\\sklearn\\neural_network\\_multilayer_perceptron.py:619: UserWarning: Training interrupted by user.\n",
      "  warnings.warn(\"Training interrupted by user.\")\n",
      "C:\\ProgramData\\Anaconda3\\lib\\site-packages\\sklearn\\neural_network\\_multilayer_perceptron.py:619: UserWarning: Training interrupted by user.\n",
      "  warnings.warn(\"Training interrupted by user.\")\n",
      "C:\\ProgramData\\Anaconda3\\lib\\site-packages\\sklearn\\neural_network\\_multilayer_perceptron.py:619: UserWarning: Training interrupted by user.\n",
      "  warnings.warn(\"Training interrupted by user.\")\n",
      "C:\\ProgramData\\Anaconda3\\lib\\site-packages\\sklearn\\neural_network\\_multilayer_perceptron.py:619: UserWarning: Training interrupted by user.\n",
      "  warnings.warn(\"Training interrupted by user.\")\n",
      "C:\\ProgramData\\Anaconda3\\lib\\site-packages\\sklearn\\neural_network\\_multilayer_perceptron.py:619: UserWarning: Training interrupted by user.\n",
      "  warnings.warn(\"Training interrupted by user.\")\n",
      "C:\\ProgramData\\Anaconda3\\lib\\site-packages\\sklearn\\neural_network\\_multilayer_perceptron.py:619: UserWarning: Training interrupted by user.\n",
      "  warnings.warn(\"Training interrupted by user.\")\n",
      "C:\\ProgramData\\Anaconda3\\lib\\site-packages\\sklearn\\neural_network\\_multilayer_perceptron.py:619: UserWarning: Training interrupted by user.\n",
      "  warnings.warn(\"Training interrupted by user.\")\n",
      "C:\\ProgramData\\Anaconda3\\lib\\site-packages\\sklearn\\neural_network\\_multilayer_perceptron.py:619: UserWarning: Training interrupted by user.\n",
      "  warnings.warn(\"Training interrupted by user.\")\n",
      "C:\\ProgramData\\Anaconda3\\lib\\site-packages\\sklearn\\neural_network\\_multilayer_perceptron.py:619: UserWarning: Training interrupted by user.\n",
      "  warnings.warn(\"Training interrupted by user.\")\n",
      "C:\\ProgramData\\Anaconda3\\lib\\site-packages\\sklearn\\neural_network\\_multilayer_perceptron.py:619: UserWarning: Training interrupted by user.\n",
      "  warnings.warn(\"Training interrupted by user.\")\n",
      "C:\\ProgramData\\Anaconda3\\lib\\site-packages\\sklearn\\neural_network\\_multilayer_perceptron.py:619: UserWarning: Training interrupted by user.\n",
      "  warnings.warn(\"Training interrupted by user.\")\n",
      "C:\\ProgramData\\Anaconda3\\lib\\site-packages\\sklearn\\neural_network\\_multilayer_perceptron.py:619: UserWarning: Training interrupted by user.\n",
      "  warnings.warn(\"Training interrupted by user.\")\n",
      "C:\\ProgramData\\Anaconda3\\lib\\site-packages\\sklearn\\neural_network\\_multilayer_perceptron.py:619: UserWarning: Training interrupted by user.\n",
      "  warnings.warn(\"Training interrupted by user.\")\n",
      "C:\\ProgramData\\Anaconda3\\lib\\site-packages\\sklearn\\neural_network\\_multilayer_perceptron.py:619: UserWarning: Training interrupted by user.\n",
      "  warnings.warn(\"Training interrupted by user.\")\n",
      "C:\\ProgramData\\Anaconda3\\lib\\site-packages\\sklearn\\neural_network\\_multilayer_perceptron.py:619: UserWarning: Training interrupted by user.\n",
      "  warnings.warn(\"Training interrupted by user.\")\n",
      "C:\\ProgramData\\Anaconda3\\lib\\site-packages\\sklearn\\neural_network\\_multilayer_perceptron.py:619: UserWarning: Training interrupted by user.\n",
      "  warnings.warn(\"Training interrupted by user.\")\n",
      "C:\\ProgramData\\Anaconda3\\lib\\site-packages\\sklearn\\neural_network\\_multilayer_perceptron.py:619: UserWarning: Training interrupted by user.\n",
      "  warnings.warn(\"Training interrupted by user.\")\n",
      "C:\\ProgramData\\Anaconda3\\lib\\site-packages\\sklearn\\neural_network\\_multilayer_perceptron.py:619: UserWarning: Training interrupted by user.\n",
      "  warnings.warn(\"Training interrupted by user.\")\n",
      "C:\\ProgramData\\Anaconda3\\lib\\site-packages\\sklearn\\neural_network\\_multilayer_perceptron.py:619: UserWarning: Training interrupted by user.\n",
      "  warnings.warn(\"Training interrupted by user.\")\n",
      "C:\\ProgramData\\Anaconda3\\lib\\site-packages\\sklearn\\neural_network\\_multilayer_perceptron.py:619: UserWarning: Training interrupted by user.\n",
      "  warnings.warn(\"Training interrupted by user.\")\n"
     ]
    },
    {
     "name": "stdout",
     "output_type": "stream",
     "text": [
      "[-0.026370772555432555, -0.01679026715318898, -0.016333906499597706, -0.016690337311501262, -0.01698738519900412, -0.01727208462756811, -0.017552504755998875, -0.024614953628914436, -0.024245263821658505, -0.027213791241185847, -0.020232993505530955, -0.027949618303615652, -0.025076541851603944, -0.02020997859018304, -0.020445209099051526, -0.021070788752254526, -0.021936322646002752, -0.02388661190111576, -0.02467391037346838, -0.02584596583772596, -0.026228215181904897]\n",
      "[0.005641161788244799, 0.000805348834501049, 0.0009579235602536745, 0.00048142036928866826, 0.0005017386797210439, 0.0005655796500020848, 0.0006451575352919615, 0.005503169492465242, 0.00476894153369293, 0.0023699987985677075, 0.004100345238569698, 0.0040403183924003485, 0.0066313984948754125, 0.0014065118254907164, 0.0011584642725936353, 0.0013463194812165563, 0.0017064413824841862, 0.004196108337663148, 0.003980090601479995, 0.0034745870270380696, 0.0027416085729165744]\n",
      "Maximum value: -0.016333906499597706 for alpha =  0.2\n"
     ]
    }
   ],
   "source": [
    "from sklearn.neural_network import MLPRegressor\n",
    "from sklearn.model_selection import cross_val_score\n",
    "from sklearn.metrics import mean_squared_error\n",
    "import numpy as np\n",
    "\n",
    "cv_scores_mean=[]\n",
    "cv_scores_std=[]\n",
    "\n",
    "# Entrenar y validar distintas configuraciones\n",
    "regul_param_range = np.arange(0, 2.1,step = 0.1) # [0.1, 0.01, ..., 0.0000001]\n",
    "for regul_param in regul_param_range:\n",
    "    # Aumentamos el parámetro max_iter hasta que converja\n",
    "    \n",
    "    #Una capa oculta de 250 neuronas\n",
    "    mlp=MLPRegressor(hidden_layer_sizes=(50,150,50 ), activation='relu', solver='adam', alpha=regul_param, batch_size=100, \n",
    "             learning_rate='constant', learning_rate_init=0.001, max_iter=250, random_state=RANDOM_STATE)\n",
    "\n",
    "    \n",
    "    # El error es neg_mean_squared_error el MSE en negativo!! Más pequeño peor.\n",
    "    scores = cross_val_score(mlp, df_scaled, quality_scaled.ravel(), cv=5, scoring='neg_mean_squared_error')\n",
    "    \n",
    "    cv_scores_mean.append(scores.mean())\n",
    "    cv_scores_std.append(scores.std())\n",
    "    \n",
    "print(cv_scores_mean)\n",
    "print(cv_scores_std)\n",
    "max_value = max(cv_scores_mean)\n",
    "print('Maximum value:', max_value, \"for alpha = \", cv_scores_mean.index(max_value)*0.1)"
   ]
  },
  {
   "cell_type": "code",
   "execution_count": 167,
   "id": "8de39db0",
   "metadata": {},
   "outputs": [
    {
     "data": {
      "image/png": "[encoded data removed]",
      "text/plain": [
       "<Figure size 432x288 with 1 Axes>"
      ]
     },
     "metadata": {
      "needs_background": "light"
     },
     "output_type": "display_data"
    }
   ],
   "source": [
    "import matplotlib.pyplot as plt\n",
    "\n",
    "# Dibujamos la línea de la exactitud media en las partes de test\n",
    "plt.plot(regul_param_range, cv_scores_mean, color=\"g\", label=\"Test\")\n",
    "\n",
    "# Dibujamos la banda de la desviación típica\n",
    "lower_limit = np.array(cv_scores_mean) - np.array(cv_scores_std)\n",
    "upper_limit = np.array(cv_scores_mean) + np.array(cv_scores_std)\n",
    "plt.fill_between(regul_param_range, lower_limit, upper_limit, color=\"#DDDDDD\")\n",
    "\n",
    "# Creamos el gráfico\n",
    "plt.title(\"Curva de aprendizaje\")\n",
    "plt.xlabel(\"Regularización\"), plt.ylabel(\"negative MSE\"), plt.legend(loc=\"best\")\n",
    "plt.tight_layout()\n",
    "plt.show()"
   ]
  },
  {
   "cell_type": "markdown",
   "id": "1ee6ba65",
   "metadata": {},
   "source": [
    "*Hemos decidido probar diferentes potencias negativas de 10 para establecer el coeficiente de regularización del perceptrón. Hemos probado a hacerlo (dos bloques anteriores) con valores en un rango de 0-2 con saltos de 0.1 y y nos aparece una gráfica decreciente, esto nos lleva a considerar que este parámetro se mueve en valores más pequeños que 0.1 para este problema."
   ]
  },
  {
   "cell_type": "code",
   "execution_count": 168,
   "id": "0b5b455d",
   "metadata": {},
   "outputs": [
    {
     "name": "stdout",
     "output_type": "stream",
     "text": [
      "[-0.016967150839909892, -0.017311673394301997, -0.01899151546942605, -0.019251073542027493, -0.019296628596665207, -0.019306609021771632, -0.01931953311658554, -0.01930927868847846, -0.01930365199158061, -0.019303732595372415]\n",
      "[0.0006027023950968359, 0.0006497642770889536, 0.0009980133420789664, 0.0009581185858803108, 0.0009533058264317007, 0.0009271614292180996, 0.0009456003353726179, 0.0009480088316665947, 0.0009510400843880998, 0.0009509716779042703]\n",
      "Maximum value: -0.016967150839909892 for alpha = 10 ^ - 0\n"
     ]
    }
   ],
   "source": [
    "from sklearn.neural_network import MLPRegressor\n",
    "from sklearn.model_selection import cross_val_score\n",
    "from sklearn.metrics import mean_squared_error\n",
    "import numpy as np\n",
    "\n",
    "cv_scores_mean=[]\n",
    "cv_scores_std=[]\n",
    "\n",
    "# Entrenar y validar distintas configuraciones\n",
    "regul_param_range = 10.0 ** -np.arange(0, 10) # [0.1, 0.01, ..., 0.0000001]\n",
    "for regul_param in regul_param_range:\n",
    "    # Aumentamos el parámetro max_iter hasta que converja\n",
    "    \n",
    "    #Una capa oculta de 250 neuronas\n",
    "    mlp=MLPRegressor(hidden_layer_sizes=(250, ), activation='relu', solver='adam', alpha=regul_param, batch_size=100, \n",
    "             learning_rate='constant', learning_rate_init=0.001, max_iter=250, random_state=RANDOM_STATE)\n",
    "\n",
    "    \n",
    "    # El error es neg_mean_squared_error el MSE en negativo!! Más pequeño peor.\n",
    "    scores = cross_val_score(mlp, df_scaled, quality_scaled.ravel(), cv=5, scoring='neg_mean_squared_error')\n",
    "    \n",
    "    cv_scores_mean.append(scores.mean())\n",
    "    cv_scores_std.append(scores.std())\n",
    "    \n",
    "print(cv_scores_mean)\n",
    "print(cv_scores_std)\n",
    "max_value = max(cv_scores_mean)\n",
    "print('Maximum value:', max_value, \"for alpha = 10 ^ -\", cv_scores_mean.index(max_value))"
   ]
  },
  {
   "cell_type": "code",
   "execution_count": 149,
   "id": "bcd87c9d",
   "metadata": {},
   "outputs": [
    {
     "data": {
      "image/png": "[encoded data removed]",
      "text/plain": [
       "<Figure size 432x288 with 1 Axes>"
      ]
     },
     "metadata": {
      "needs_background": "light"
     },
     "output_type": "display_data"
    }
   ],
   "source": [
    "import matplotlib.pyplot as plt\n",
    "\n",
    "# Dibujamos la línea de la exactitud media en las partes de test\n",
    "plt.plot(np.log10(regul_param_range), cv_scores_mean, color=\"g\", label=\"Test\")\n",
    "\n",
    "# Dibujamos la banda de la desviación típica\n",
    "lower_limit = np.array(cv_scores_mean) - np.array(cv_scores_std)\n",
    "upper_limit = np.array(cv_scores_mean) + np.array(cv_scores_std)\n",
    "plt.fill_between(np.log10(regul_param_range), lower_limit, upper_limit, color=\"#DDDDDD\")\n",
    "\n",
    "# Creamos el gráfico\n",
    "plt.title(\"Curva de aprendizaje\")\n",
    "plt.xlabel(\"Regularización 10^{-X}\"), plt.ylabel(\"negative MSE\"), plt.legend(loc=\"best\")\n",
    "plt.tight_layout()\n",
    "plt.show()"
   ]
  },
  {
   "cell_type": "markdown",
   "id": "6607eb46",
   "metadata": {},
   "source": [
    "Maximum value: -0.016731743212003006 for alpha = 10 ^ - 5"
   ]
  },
  {
   "cell_type": "code",
   "execution_count": 150,
   "id": "45784937",
   "metadata": {},
   "outputs": [
    {
     "name": "stderr",
     "output_type": "stream",
     "text": [
      "C:\\ProgramData\\Anaconda3\\lib\\site-packages\\sklearn\\neural_network\\_multilayer_perceptron.py:619: UserWarning: Training interrupted by user.\n",
      "  warnings.warn(\"Training interrupted by user.\")\n",
      "C:\\ProgramData\\Anaconda3\\lib\\site-packages\\sklearn\\neural_network\\_multilayer_perceptron.py:619: UserWarning: Training interrupted by user.\n",
      "  warnings.warn(\"Training interrupted by user.\")\n",
      "C:\\ProgramData\\Anaconda3\\lib\\site-packages\\sklearn\\neural_network\\_multilayer_perceptron.py:619: UserWarning: Training interrupted by user.\n",
      "  warnings.warn(\"Training interrupted by user.\")\n"
     ]
    },
    {
     "name": "stdout",
     "output_type": "stream",
     "text": [
      "[-0.001994828402056674, -7.488725111174222e-05, -0.00028979758109586886, -0.00044899716336140613, -0.00048268674230772914, -0.00048004737012247764, -0.00047528697734160327, -0.0004705413646193425, -0.0006024188317906166, -0.00047048705773492384]\n",
      "[0.0014686037438578587, 3.884307177973162e-05, 6.206747655521165e-05, 9.923437898032328e-05, 0.00013047770920474733, 0.00013857195080591597, 0.00012388113880225897, 0.00012507371699467437, 0.00028380545434422493, 0.00012545629414498666]\n",
      "Maximum value: -7.488725111174222e-05 for alpha = 10 ^ - 1\n"
     ]
    }
   ],
   "source": [
    "from sklearn.neural_network import MLPRegressor\n",
    "from sklearn.model_selection import cross_val_score\n",
    "from sklearn.metrics import mean_squared_error\n",
    "import numpy as np\n",
    "\n",
    "cv_scores_mean=[]\n",
    "cv_scores_std=[]\n",
    "\n",
    "# Entrenar y validar distintas configuraciones\n",
    "regul_param_range = 10.0 ** -np.arange(0, 10) # [0.1, 0.01, ..., 0.0000001]\n",
    "for regul_param in regul_param_range:\n",
    "    # Aumentamos el parámetro max_iter hasta que converja\n",
    "    \n",
    "    #Varias capas ocultas distribuyendo 250 neuronas\n",
    "    mlp=MLPRegressor(hidden_layer_sizes=(50,150,50), activation='relu', solver='adam', alpha=regul_param, batch_size=100, \n",
    "             learning_rate='constant', learning_rate_init=0.001, max_iter=250, random_state=RANDOM_STATE)\n",
    "\n",
    "    \n",
    "    # El error es neg_mean_squared_error el MSE en negativo!! Más pequeño peor.\n",
    "    scores = cross_val_score(mlp, df_scaled, quality_scaled.ravel(), cv=5, scoring='neg_mean_squared_error')\n",
    "    \n",
    "    cv_scores_mean.append(scores.mean())\n",
    "    cv_scores_std.append(scores.std())\n",
    "    \n",
    "print(cv_scores_mean)\n",
    "print(cv_scores_std)\n",
    "max_value = max(cv_scores_mean)\n",
    "print('Maximum value:', max_value, \"for alpha = 10 ^ -\", cv_scores_mean.index(max_value))"
   ]
  },
  {
   "cell_type": "markdown",
   "id": "70ecb029",
   "metadata": {},
   "source": [
    "Después de probar difernetes configurciones con diferente número de capas hemos optado por la que menor error nos daba (50,150,50)"
   ]
  },
  {
   "cell_type": "code",
   "execution_count": 151,
   "id": "2be07c2e",
   "metadata": {},
   "outputs": [
    {
     "data": {
      "image/png": "[encoded data removed]",
      "text/plain": [
       "<Figure size 432x288 with 1 Axes>"
      ]
     },
     "metadata": {
      "needs_background": "light"
     },
     "output_type": "display_data"
    }
   ],
   "source": [
    "import matplotlib.pyplot as plt\n",
    "\n",
    "# Dibujamos la línea de la exactitud media en las partes de test\n",
    "plt.plot(np.log10(regul_param_range), cv_scores_mean, color=\"g\", label=\"Test\")\n",
    "\n",
    "# Dibujamos la banda de la desviación típica\n",
    "lower_limit = np.array(cv_scores_mean) - np.array(cv_scores_std)\n",
    "upper_limit = np.array(cv_scores_mean) + np.array(cv_scores_std)\n",
    "plt.fill_between(np.log10(regul_param_range), lower_limit, upper_limit, color=\"#DDDDDD\")\n",
    "\n",
    "# Creamos el gráfico\n",
    "plt.title(\"Curva de aprendizaje\")\n",
    "plt.xlabel(\"Regularización 10^{-X}\"), plt.ylabel(\"negative MSE\"), plt.legend(loc=\"best\")\n",
    "plt.tight_layout()\n",
    "plt.show()"
   ]
  },
  {
   "cell_type": "markdown",
   "id": "4858feaa",
   "metadata": {},
   "source": [
    "Maximum value: -0.01665071118566968 for alpha = 10 ^ - 6"
   ]
  },
  {
   "cell_type": "markdown",
   "id": "aaacb1eb",
   "metadata": {},
   "source": [
    "Análisis del error según el coeficiente de regularización y según la configuración de las capas intermedias:\n",
    "\n",
    "1 capa (250): Podemos obsevar un comportamiento bastante estable para este parámetro. Parece que el mejor valor (el más cercano a cero) es con $\\alpha=10^{-5}$. También se puede observar como para valores a partir de $\\alpha=10^{-2}$ el error comienza a aumentar considerablemente, tendencia que se puede oservar como continua en la primera gráfica.\n",
    "\n",
    "3 capas (50,150,50): También tiene un comportamiento estable pero se aprecian más picos que en el caso anterior, además, si nos fijamos en la desviación típica media para cada caso, también es mayor que en el de una capa. Por estas razones consideramos que tiene un comportamiento más volátil. Sin embargo, a pesar de lo anterior, en el caso mejor (para $\\alpha=10^{-6}$) tiene un error menor que el perceptrón de una capa.\n",
    "\n",
    "Según los datos obtenidos, ninguno domina sobre el otro claramente. \n",
    "\n",
    "Aunque sea más volátil, hemos decidido utilizar el segundo perceptrón con coeficiente de regulariación $\\alpha=10^{-6}$ debido a que su error es menor."
   ]
  },
  {
   "cell_type": "markdown",
   "id": "231839dc",
   "metadata": {
    "id": "laden-asbestos"
   },
   "source": [
    "### 5) Medición y análisis del error\n",
    "\n",
    "Elige la mejor configuración del apartado anterior y usa la función `cross_val_predict` para realizar una predicción de la calidad de todos los vinos usando validación cruzada. \n",
    "\n",
    "A continuación:\n",
    "- Muestra varias medidas de error y razona sobre si el error te parece pequeño o no para el problema que estás analizando\n",
    "- Muestra el histograma de la distribución del error o del error en valor absoluto, y razona de nuevo si te parece que el modelo ha predicho bien o no. Identifica los vinos para los cuales el modelo ha fallado más.\n",
    "- Analiza el error cometido para los vinos según su puntuación de calidad observada (3, 4, etc). Para ello, dibuja un diagrama de dispersión con los valores predichos por el modelo y los valores reales (la diagonal representa error 0). Describe lo que sucede, explica por qué crees que sucedió y razona de nuevo si te parece que el modelo funciona bien o tiene limitaciones."
   ]
  },
  {
   "cell_type": "code",
   "execution_count": 156,
   "id": "9b5ef1b6",
   "metadata": {},
   "outputs": [],
   "source": [
    "from sklearn.model_selection import cross_val_predict\n",
    "\n",
    "# Creamos el clasificador\n",
    "regul_param=0.4\n",
    "mlp=MLPRegressor(hidden_layer_sizes=(250), activation='relu', solver='adam', alpha=regul_param, batch_size=100, \n",
    "             learning_rate='constant', learning_rate_init=0.001, max_iter=500, random_state=RANDOM_STATE)\n",
    "    \n",
    "# estimamos \n",
    "predicts_scaled = cross_val_predict(mlp, df_scaled, quality_scaled.ravel(), cv=5)\n",
    "\n",
    "# desescalamos las predicciones para que estén en la escala original\n",
    "predicts=scaler_y.inverse_transform(predicts_scaled.reshape(1, -1))"
   ]
  },
  {
   "cell_type": "code",
   "execution_count": 157,
   "id": "52aa7900",
   "metadata": {},
   "outputs": [
    {
     "name": "stdout",
     "output_type": "stream",
     "text": [
      "Error absoluto medio: 0.014453759004352786\n",
      "Desviación típica: 0.020694424593880403\n",
      "Error absoluto medio en % sobre la media: 0.2564531807363527\n"
     ]
    },
    {
     "data": {
      "text/plain": [
       "5.6360225140712945"
      ]
     },
     "execution_count": 157,
     "metadata": {},
     "output_type": "execute_result"
    }
   ],
   "source": [
    "errors = np.abs(np.array(df.quality) - predicts) # error en cada ejemplo\n",
    "mean_error = np.mean(errors)\n",
    "std_error = np.std(errors)\n",
    "mean_quality = np.mean(df['quality'])\n",
    "\n",
    "print('Error absoluto medio:', mean_error)\n",
    "print('Desviación típica:', std_error)\n",
    "print('Error absoluto medio en % sobre la media:', mean_error/mean_quality*100)\n",
    "mean_quality"
   ]
  },
  {
   "cell_type": "markdown",
   "id": "a18b71e2",
   "metadata": {},
   "source": []
  },
  {
   "cell_type": "code",
   "execution_count": 158,
   "id": "44770963",
   "metadata": {},
   "outputs": [
    {
     "name": "stdout",
     "output_type": "stream",
     "text": [
      "MAE: 0.014453759004352786\n",
      "RMSE: 0.02524223362992489\n",
      "MAPE: 0.002748382233193857\n"
     ]
    }
   ],
   "source": [
    "# Podemos calcular el error también a partir de las métricas de sklearn\n",
    "from sklearn.metrics import mean_squared_error, mean_absolute_error, mean_absolute_percentage_error\n",
    "\n",
    "print('MAE:', mean_absolute_error(np.array(df.quality), predicts.reshape(-1,1)))\n",
    "print('RMSE:', np.sqrt(mean_squared_error(np.array(df.quality), predicts.reshape(-1,1))))\n",
    "print('MAPE:', mean_absolute_percentage_error(np.array(df.quality), predicts.reshape(-1,1)))"
   ]
  },
  {
   "cell_type": "code",
   "execution_count": 159,
   "id": "f4917b13",
   "metadata": {},
   "outputs": [
    {
     "data": {
      "image/png": "[encoded data removed]",
      "text/plain": [
       "<Figure size 432x288 with 1 Axes>"
      ]
     },
     "metadata": {
      "needs_background": "light"
     },
     "output_type": "display_data"
    }
   ],
   "source": [
    "# Dibujamos el histograma de los errores\n",
    "fig1 = plt.figure()\n",
    "ax1 = plt.axes()\n",
    "ax1.hist(errors.reshape(-1,1))\n",
    "\n",
    "plt.title('Distribución del error en valor absoluto')\n",
    "plt.show()"
   ]
  },
  {
   "cell_type": "code",
   "execution_count": 160,
   "id": "7018a010",
   "metadata": {},
   "outputs": [
    {
     "data": {
      "image/png": "[encoded data removed]",
      "text/plain": [
       "<Figure size 432x288 with 1 Axes>"
      ]
     },
     "metadata": {
      "needs_background": "light"
     },
     "output_type": "display_data"
    }
   ],
   "source": [
    "fig2 = plt.figure()\n",
    "ax2 = plt.axes()\n",
    "\n",
    "# dibujamos los errores: la distancia a la recta indica el nivel de error\n",
    "ax2.scatter(np.array(df.quality), predicts, alpha= 0.25) \n",
    "# Pintamos la referencia de la predicción perfecta\n",
    "ax2.plot(np.array(df.quality), np.array(df.quality), color='k') \n",
    "\n",
    "plt.title('Y Vs Y_pred')\n",
    "plt.show()"
   ]
  },
  {
   "cell_type": "code",
   "execution_count": null,
   "id": "63bbadc5",
   "metadata": {},
   "outputs": [],
   "source": []
  }
 ],
 "metadata": {
  "colab": {
   "name": "P3_regresion_enunciado.ipynb",
   "provenance": []
  },
  "kernelspec": {
   "display_name": "Python 3 (ipykernel)",
   "language": "python",
   "name": "python3"
  },
  "language_info": {
   "codemirror_mode": {
    "name": "ipython",
    "version": 3
   },
   "file_extension": ".py",
   "mimetype": "text/x-python",
   "name": "python",
   "nbconvert_exporter": "python",
   "pygments_lexer": "ipython3",
   "version": "3.9.7"
  }
 },
 "nbformat": 4,
 "nbformat_minor": 5
}
